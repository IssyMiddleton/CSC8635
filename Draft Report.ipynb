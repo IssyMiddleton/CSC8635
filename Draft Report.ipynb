{
  "nbformat": 4,
  "nbformat_minor": 0,
  "metadata": {
    "colab": {
      "name": "TestNotebook.ipynb",
      "provenance": [],
      "collapsed_sections": [],
      "toc_visible": true,
      "authorship_tag": "ABX9TyNLXrNy6Y/FRzAyR5LEI2ft",
      "include_colab_link": true
    },
    "kernelspec": {
      "name": "python3",
      "display_name": "Python 3"
    },
    "language_info": {
      "name": "python"
    }
  },
  "cells": [
    {
      "cell_type": "markdown",
      "metadata": {
        "id": "view-in-github",
        "colab_type": "text"
      },
      "source": [
        "<a href=\"https://colab.research.google.com/github/IssyMiddleton/CSC8635/blob/main/Draft%20Report.ipynb\" target=\"_parent\"><img src=\"https://colab.research.google.com/assets/colab-badge.svg\" alt=\"Open In Colab\"/></a>"
      ]
    },
    {
      "cell_type": "markdown",
      "metadata": {
        "id": "YHAbey5LLocu"
      },
      "source": [
        "# Report Title"
      ]
    },
    {
      "cell_type": "code",
      "source": [
        "username = 'IssyMiddleton'\n",
        "git_token = ''\n",
        "repository = 'CSC8635'"
      ],
      "metadata": {
        "id": "BC-ORRBzMK3s"
      },
      "execution_count": 1,
      "outputs": []
    },
    {
      "cell_type": "code",
      "metadata": {
        "colab": {
          "base_uri": "https://localhost:8080/"
        },
        "id": "GmOO8kt-LwwX",
        "outputId": "3a02b8d8-8652-4be3-cde6-123659be48f9"
      },
      "source": [
        "!git remote -v"
      ],
      "execution_count": 6,
      "outputs": [
        {
          "output_type": "stream",
          "name": "stdout",
          "text": [
            "fatal: not a git repository (or any of the parent directories): .git\n"
          ]
        }
      ]
    },
    {
      "cell_type": "markdown",
      "metadata": {
        "id": "S4CKkVzyL1E3"
      },
      "source": [
        "Summary words"
      ]
    },
    {
      "cell_type": "markdown",
      "metadata": {
        "id": "XqD9wZrPLvFi"
      },
      "source": [
        "### Introduction\n",
        "\n"
      ]
    },
    {
      "cell_type": "markdown",
      "metadata": {
        "id": "WpKclJFxL76U"
      },
      "source": [
        "More words\n"
      ]
    },
    {
      "cell_type": "code",
      "metadata": {
        "id": "6MUmMxKKMaCr",
        "outputId": "382d7717-35f1-4abf-84e0-fe40551cea97",
        "colab": {
          "base_uri": "https://localhost:8080/"
        }
      },
      "source": [
        "import tensorflow\n",
        "print(tensorflow.__version__)"
      ],
      "execution_count": null,
      "outputs": [
        {
          "output_type": "stream",
          "name": "stdout",
          "text": [
            "2.7.0\n"
          ]
        }
      ]
    }
  ]
}