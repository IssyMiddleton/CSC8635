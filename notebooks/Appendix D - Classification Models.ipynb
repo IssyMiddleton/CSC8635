{
  "nbformat": 4,
  "nbformat_minor": 0,
  "metadata": {
    "colab": {
      "name": "Models - Latest.ipynb",
      "provenance": [],
      "collapsed_sections": []
    },
    "kernelspec": {
      "name": "python3",
      "display_name": "Python 3"
    },
    "language_info": {
      "name": "python"
    }
  },
  "cells": [
    {
      "cell_type": "markdown",
      "source": [
        "##Model assessment"
      ],
      "metadata": {
        "id": "yw_NIy_h_-aY"
      }
    },
    {
      "cell_type": "markdown",
      "source": [
        "Connect to Google Drive, load libraries, reference"
      ],
      "metadata": {
        "id": "N9x4eHyT_xtF"
      }
    },
    {
      "cell_type": "code",
      "execution_count": null,
      "metadata": {
        "id": "mJxLrgvgytqk",
        "collapsed": true,
        "cellView": "form",
        "colab": {
          "base_uri": "https://localhost:8080/"
        },
        "outputId": "bdc5d06b-df79-4639-fea2-acb4872c99e8"
      },
      "outputs": [
        {
          "output_type": "stream",
          "name": "stdout",
          "text": [
            "Drive already mounted at /gdrive; to attempt to forcibly remount, call drive.mount(\"/gdrive\", force_remount=True).\n",
            "/gdrive\n",
            "/gdrive/MyDrive/CSC8635\n",
            "Tensorflow version 2.7.0\n",
            "WARNING:tensorflow:There are non-GPU devices in `tf.distribute.Strategy`, not using nccl allreduce.\n",
            "INFO:tensorflow:Using MirroredStrategy with devices ('/job:localhost/replica:0/task:0/device:CPU:0',)\n"
          ]
        }
      ],
      "source": [
        "#@title\n",
        "from google.colab import drive\n",
        "drive.mount('/gdrive')\n",
        "%cd /gdrive\n",
        "%cd /gdrive/MyDrive/CSC8635/\n",
        "\n",
        "## set up the libraries that are needed to run the analysis\n",
        "from mpl_toolkits.mplot3d import Axes3D\n",
        "from sklearn.preprocessing import StandardScaler\n",
        "import matplotlib.pyplot as plt # plotting\n",
        "import numpy as np # linear algebra\n",
        "import os # accessing directory structure\n",
        "import pandas as pd # data processing, CSV file I/O (e.g. pd.read_csv)\n",
        "import keras\n",
        "import itertools\n",
        "import re, time\n",
        "import tensorflow as tf\n",
        "\n",
        "from sklearn.metrics import accuracy_score\n",
        "from sklearn.model_selection import train_test_split\n",
        "from sklearn.metrics import confusion_matrix\n",
        "\n",
        "from keras.datasets import mnist\n",
        "from keras.callbacks import TensorBoard\n",
        "from keras.layers import Input, Dense\n",
        "from keras.models import Model\n",
        "from keras.regularizers import l2\n",
        "from tensorflow.keras.utils import to_categorical\n",
        "\n",
        "from keras.models import Sequential\n",
        "from keras.layers import Dense, Activation, Dropout\n",
        "from keras.utils import np_utils\n",
        "\n",
        "from time import time\n",
        "from sklearn.linear_model import LogisticRegression\n",
        "from sklearn.ensemble import RandomForestClassifier\n",
        "from sklearn.neighbors import KNeighborsClassifier\n",
        "from sklearn.tree import DecisionTreeClassifier\n",
        "from sklearn.svm import SVC\n",
        "from sklearn.metrics import accuracy_score, f1_score\n",
        "\n",
        "from keras.layers import Dense, Dropout, Flatten\n",
        "from keras.layers import Conv2D, MaxPooling2D\n",
        "from keras import backend as K\n",
        "\n",
        "batch_size = 128\n",
        "num_classes = 10\n",
        "epochs = 5\n",
        "from matplotlib import pyplot as plt\n",
        "print(\"Tensorflow version \" + tf.__version__)\n",
        "AUTOTUNE = tf.data.AUTOTUNE\n",
        "try: # detect TPUs\n",
        "    tpu = tf.distribute.cluster_resolver.TPUClusterResolver.connect() # TPU detection\n",
        "    strategy = tf.distribute.TPUStrategy(tpu)\n",
        "except ValueError: # detect GPUs\n",
        "    strategy = tf.distribute.MirroredStrategy() # for GPU or multi-GPU machines\n",
        "    #strategy = tf.distribute.get_strategy() # default strategy that works on CPU and single GPU\n",
        "    #strategy = tf.distribute.experimental.MultiWorkerMirroredStrategy() # for clusters of multi-GPU machines\n",
        "#print(\"Number of accelerators: \", strategy.num_replicas_in_sync)\n",
        "\n",
        "#Based on code: https://www.kaggle.com/teaprint/my-analysis-on-motion-sensor-data"
      ]
    },
    {
      "cell_type": "markdown",
      "source": [
        "Load data"
      ],
      "metadata": {
        "id": "Li7gNuW7_8Yv"
      }
    },
    {
      "cell_type": "code",
      "source": [
        "#@title\n",
        "#This block of code is based on section from: https://www.kaggle.com/teaprint/my-analysis-on-motion-sensor-data\n",
        "#set up for machine learning\n",
        "import numpy as np # linear algebra\n",
        "import pandas as pd # data processing, CSV file I/O (e.g. pd.read_csv)\n",
        "import matplotlib.pyplot as plt\n",
        "%matplotlib inline\n",
        "from glob import glob\n",
        "import sklearn\n",
        "import tensorflow as tf\n",
        "\n",
        "import os\n",
        "#print(os.listdir(\"A_DeviceMotion_data/A_DeviceMotion_data\"))\n",
        "\n",
        "# Data Folders:\n",
        "Folders = glob('A_DeviceMotion_data/A_DeviceMotion_data/*_*')\n",
        "Folders = [s for s in Folders if \"csv\" not in s]\n",
        "\n",
        "Df_all_list = []\n",
        "Exp = 0\n",
        "# Segment the data to 400 samples frames , each one will be a different experiment\n",
        "Segment_Size = 400\n",
        "\n",
        "# Activity types dict:\n",
        "activity_codes = {'dws':1,'jog':2,'sit':3,'std':4,'ups':5,'wlk':6}        \n",
        "activity_types = list(activity_codes.keys())\n",
        "\n",
        "# Load All data:\n",
        "for j  in Folders:\n",
        "  Csv = glob(j + '/*' )\n",
        "  for i in Csv:\n",
        "    df = pd.read_csv(i)\n",
        "    df['Activity'] = activity_codes[j[40:43]]\n",
        "    df['Sub_Num'] = i[len(j)+5:-4]\n",
        "    df['Exp_num'] = 1\n",
        "    ExpNum = np.zeros((df.shape[0])) \n",
        "    for i in range(0,df.shape[0]-Segment_Size,Segment_Size):\n",
        "      ExpNum[range(i,i+Segment_Size)] = i/Segment_Size +Exp*100 \n",
        "    df['Exp_num'] = ExpNum\n",
        "    #Df_all = pd.concat([Df_all,df])\n",
        "    Df_all_list.append(df)\n",
        "    Exp += 1        \n",
        "Df_all = pd.concat(Df_all_list,axis=0)  \n",
        "print(f'The data has been loaded.')\n",
        "print(f'The dimensions of the complete dataset are {Df_all.shape}.')\n",
        "print(f'The 16 column headers are {Df_all.columns}.')"
      ],
      "metadata": {
        "colab": {
          "base_uri": "https://localhost:8080/"
        },
        "id": "LGTMSlLxEC37",
        "outputId": "aa2c4dc5-066c-40e2-ad1f-d0c72842d908",
        "cellView": "form"
      },
      "execution_count": null,
      "outputs": [
        {
          "output_type": "stream",
          "name": "stdout",
          "text": [
            "The data has been loaded.\n",
            "The dimensions of the complete dataset are (1412865, 16).\n",
            "The 16 column headers are Index(['Unnamed: 0', 'attitude.roll', 'attitude.pitch', 'attitude.yaw',\n",
            "       'gravity.x', 'gravity.y', 'gravity.z', 'rotationRate.x',\n",
            "       'rotationRate.y', 'rotationRate.z', 'userAcceleration.x',\n",
            "       'userAcceleration.y', 'userAcceleration.z', 'Activity', 'Sub_Num',\n",
            "       'Exp_num'],\n",
            "      dtype='object').\n"
          ]
        }
      ]
    },
    {
      "cell_type": "markdown",
      "source": [
        "Set up variables and response variables (X and Y), response variable is activity type, apply feature engineering (see reference)"
      ],
      "metadata": {
        "id": "LlSHOrjhyhha"
      }
    },
    {
      "cell_type": "code",
      "source": [
        "#@title\n",
        "#Features based on code within: https://www.kaggle.com/teaprint/my-analysis-on-motion-sensor-data\n",
        "#  Calculate features\n",
        "df_sum = Df_all.groupby('Exp_num', axis=0).mean().reset_index()\n",
        "df_sum.columns = df_sum.columns.str.replace('.','_sum_')\n",
        "\n",
        "df_sum_SS = np.power(Df_all.astype(float),2).groupby('Exp_num', axis=0).median().reset_index() \n",
        "df_sum_SS.columns = df_sum_SS.columns.str.replace('.','_sumSS_')\n",
        "\n",
        "df_max = Df_all.groupby('Exp_num', axis=0).max().reset_index()\n",
        "df_max.columns = df_max.columns.str.replace('.','_max_')\n",
        "\n",
        "df_min = Df_all.groupby('Exp_num', axis=0).min().reset_index()\n",
        "df_min.columns = df_min.columns.str.replace('.','_min_')\n",
        "\n",
        "df_skew = Df_all.groupby('Exp_num', axis=0).skew().reset_index()\n",
        "df_skew.columns = df_skew.columns.str.replace('.','_skew_')\n",
        "\n",
        "df_std = Df_all.groupby('Exp_num', axis=0).std().reset_index()\n",
        "df_std.columns = df_std.columns.str.replace('.','_std_')\n",
        "\n",
        "Df_Features = pd.concat([ df_max , df_sum[df_sum.columns[2:-2]], \n",
        "                         df_min[df_min.columns[2:-2]], df_sum_SS[df_sum_SS.columns[2:-2]], \n",
        "                         df_std[df_std.columns[2:-2]], df_skew[df_skew.columns[2:-2]]], axis=1)\n",
        "\n",
        "X = Df_Features.drop(['Exp_num','Unnamed: 0','Activity','Sub_Num'],axis=1)\n",
        "Y = Df_Features['Activity']\n",
        "#print('Shape of X:', X.shape)\n",
        "#print('Shape of Y:', Y.shape)"
      ],
      "metadata": {
        "id": "k3NkfsxpprQK",
        "cellView": "form"
      },
      "execution_count": null,
      "outputs": []
    },
    {
      "cell_type": "markdown",
      "source": [
        "Train classifier model"
      ],
      "metadata": {
        "id": "2uJK8547Ok-a"
      }
    },
    {
      "cell_type": "code",
      "source": [
        "#@title\n",
        "#### Construct neural architecture for baseline model\n",
        "input_dim = X.shape[1]\n",
        "input_img = Input(shape=(input_dim,))\n",
        "d = Dense(50, activation='relu')(input_img)\n",
        "d = Dense(20, activation='relu')(d)\n",
        "output = Dense(7, activation='softmax', kernel_regularizer=l2(0.01))(d)\n",
        "model = Model(input_img,output)\n",
        "model.compile(optimizer='adam', loss='binary_crossentropy',\n",
        "                 metrics=['categorical_accuracy'])"
      ],
      "metadata": {
        "id": "JNTcN2SmOYGI",
        "cellView": "form"
      },
      "execution_count": null,
      "outputs": []
    },
    {
      "cell_type": "markdown",
      "source": [
        "Train model on scaled data"
      ],
      "metadata": {
        "id": "65ZMZ8d8BKsH"
      }
    },
    {
      "cell_type": "code",
      "source": [
        "#@title\n",
        "# One-hot encoding\n",
        "Y = to_categorical(Y)\n",
        "print(Y.shape)\n",
        "X_train, X_test, Y_train, Y_test = train_test_split(X, Y, test_size=0.3, random_state=0)\n",
        "\n",
        "scaler = StandardScaler()\n",
        "scaler.fit(X_train)\n",
        "# Apply transform to both the training set and the test set.\n",
        "X_train = scaler.transform(X_train)\n",
        "X_test = scaler.transform(X_test)\n",
        "\n",
        "history = model.fit(X_train, Y_train,\n",
        "                epochs=1000,\n",
        "                batch_size=100,\n",
        "                shuffle=True,\n",
        "                verbose=0,\n",
        "                validation_data=[X_test,Y_test])"
      ],
      "metadata": {
        "colab": {
          "base_uri": "https://localhost:8080/"
        },
        "id": "JbpdfIAFPWPw",
        "outputId": "365579c2-44bc-4168-ed50-4203581d5d93",
        "cellView": "form"
      },
      "execution_count": null,
      "outputs": [
        {
          "output_type": "stream",
          "name": "stdout",
          "text": [
            "(3359, 7)\n"
          ]
        }
      ]
    },
    {
      "cell_type": "markdown",
      "source": [
        "Evaluate model"
      ],
      "metadata": {
        "id": "GoTz8jluBMkP"
      }
    },
    {
      "cell_type": "markdown",
      "source": [
        "###**Trial Participant**"
      ],
      "metadata": {
        "id": "R1ilrnHPCV6m"
      }
    },
    {
      "cell_type": "code",
      "source": [
        "#@title\n",
        "# Let target label become subjects\n",
        "Y1 = Df_Features['Sub_Num']\n"
      ],
      "metadata": {
        "id": "lxEx_IjMQxWS",
        "cellView": "form"
      },
      "execution_count": null,
      "outputs": []
    },
    {
      "cell_type": "markdown",
      "source": [
        "Set model parameters"
      ],
      "metadata": {
        "id": "0zjyeP1pCjlw"
      }
    },
    {
      "cell_type": "code",
      "source": [
        "#@title\n",
        "#### Construct neural Architeture for baseline model\n",
        "input_dim = X.shape[1]\n",
        "input_img = Input(shape=(input_dim,))\n",
        "d = Dense(50, activation='relu')(input_img)\n",
        "d = Dense(20, activation='relu')(d)\n",
        "output = Dense(25, activation='softmax', kernel_regularizer=l2(0.01))(d)\n",
        "model = Model(input_img,output)\n",
        "model.compile(optimizer='adam', loss='binary_crossentropy',\n",
        "                 metrics=['categorical_accuracy'])"
      ],
      "metadata": {
        "id": "rVRH4xw7RID6",
        "cellView": "form"
      },
      "execution_count": null,
      "outputs": []
    },
    {
      "cell_type": "markdown",
      "source": [
        "Train and test model"
      ],
      "metadata": {
        "id": "x8h3KHV8Cnle"
      }
    },
    {
      "cell_type": "code",
      "source": [
        "#@title\n",
        "# One-hot encoding\n",
        "\n",
        "y1 = to_categorical(Y1)\n",
        "print(Y1.shape)\n",
        "X_train, X_test, Y_train, Y_test = train_test_split(X, y1, test_size=0.3, random_state=0)\n",
        "\n",
        "scaler = StandardScaler()\n",
        "scaler.fit(X_train)\n",
        "# Apply transform to both the training set and the test set.\n",
        "X_train = scaler.transform(X_train)\n",
        "X_test = scaler.transform(X_test)\n",
        "\n",
        "history = model.fit(X_train, Y_train,\n",
        "                epochs=1000,\n",
        "                batch_size=100,\n",
        "                shuffle=True,\n",
        "                verbose=0,\n",
        "                validation_data=[X_test,Y_test])\n",
        "t0=time()\n",
        "### Overall test accuracy\n",
        "score = model.evaluate(X_test, Y_test)\n",
        "print('Neural Network Model (keras) accuracy:', score[1])\n",
        "print('Multi Layer Perceptron: total_time: {:.2f} sec'.format(time()-t0))"
      ],
      "metadata": {
        "colab": {
          "base_uri": "https://localhost:8080/"
        },
        "id": "JWCv8gVvRL-k",
        "outputId": "567a32ad-9c6a-41c6-f5e4-fa736d8cfb6f",
        "cellView": "form"
      },
      "execution_count": null,
      "outputs": [
        {
          "output_type": "stream",
          "name": "stdout",
          "text": [
            "(3359,)\n",
            "32/32 [==============================] - 0s 1ms/step - loss: 0.0504 - categorical_accuracy: 0.8651\n",
            "Neural Network Model (keras) accuracy: 0.8650793433189392\n",
            "Multi Layer Perceptron: total_time: 0.11 sec\n"
          ]
        }
      ]
    },
    {
      "cell_type": "markdown",
      "source": [
        "Compare with other models"
      ],
      "metadata": {
        "id": "g-0e3WkHNKoL"
      }
    },
    {
      "cell_type": "code",
      "source": [
        "#@title\n",
        "X_train, X_test, Y_train, Y_test = train_test_split(X, Y1, test_size=0.3, random_state=0)\n",
        "\n",
        "scaler = StandardScaler()\n",
        "scaler.fit(X_train)\n",
        "# Apply transform to both the training set and the test set.\n",
        "X_train = scaler.transform(X_train)\n",
        "X_test = scaler.transform(X_test)"
      ],
      "metadata": {
        "id": "w5um4H1rNWv_"
      },
      "execution_count": null,
      "outputs": []
    },
    {
      "cell_type": "code",
      "source": [
        "t0=time()\n",
        "LR_L1 = LogisticRegression(C=10, penalty='l2').fit(X_train, Y_train)\n",
        "print('Logistic_regression (L1) - accuracy: {:.2f}, f1 score: {:.2f}, total_time: {:.2f} sec'.format(accuracy_score(Y_test, LR_L1.predict(X_test)),f1_score(Y_test,LR_L1.predict(X_test),average ='macro'), time()-t0))"
      ],
      "metadata": {
        "colab": {
          "base_uri": "https://localhost:8080/"
        },
        "id": "1jFIdcsuZ4Hu",
        "outputId": "bee6e10b-d995-4d76-9514-9e3d08700ed9"
      },
      "execution_count": null,
      "outputs": [
        {
          "output_type": "stream",
          "name": "stdout",
          "text": [
            "Logistic_regression (L1) - accuracy: 0.76, f1 score: 0.76, total_time: 0.83 sec\n"
          ]
        },
        {
          "output_type": "stream",
          "name": "stderr",
          "text": [
            "/usr/local/lib/python3.7/dist-packages/sklearn/linear_model/_logistic.py:818: ConvergenceWarning: lbfgs failed to converge (status=1):\n",
            "STOP: TOTAL NO. of ITERATIONS REACHED LIMIT.\n",
            "\n",
            "Increase the number of iterations (max_iter) or scale the data as shown in:\n",
            "    https://scikit-learn.org/stable/modules/preprocessing.html\n",
            "Please also refer to the documentation for alternative solver options:\n",
            "    https://scikit-learn.org/stable/modules/linear_model.html#logistic-regression\n",
            "  extra_warning_msg=_LOGISTIC_SOLVER_CONVERGENCE_MSG,\n"
          ]
        }
      ]
    },
    {
      "cell_type": "code",
      "source": [
        "t0=time()\n",
        "LR_L1 = LogisticRegression(C=10, penalty='l2').fit(X_train, Y_train)\n",
        "print('Logistic_regression (L1) - accuracy: {:.2f}, f1 score: {:.2f}, total_time: {:.2f} sec'.format(accuracy_score(Y_test, LR_L1.predict(X_test)),f1_score(Y_test,LR_L1.predict(X_test),average ='macro'), time()-t0))"
      ],
      "metadata": {
        "id": "X10EhmKPcXIk",
        "colab": {
          "base_uri": "https://localhost:8080/"
        },
        "outputId": "869c9396-7014-4f3c-dbcf-107d43d2eeed"
      },
      "execution_count": null,
      "outputs": [
        {
          "output_type": "stream",
          "name": "stdout",
          "text": [
            "Logistic_regression (L1) - accuracy: 0.76, f1 score: 0.76, total_time: 0.80 sec\n"
          ]
        },
        {
          "output_type": "stream",
          "name": "stderr",
          "text": [
            "/usr/local/lib/python3.7/dist-packages/sklearn/linear_model/_logistic.py:818: ConvergenceWarning: lbfgs failed to converge (status=1):\n",
            "STOP: TOTAL NO. of ITERATIONS REACHED LIMIT.\n",
            "\n",
            "Increase the number of iterations (max_iter) or scale the data as shown in:\n",
            "    https://scikit-learn.org/stable/modules/preprocessing.html\n",
            "Please also refer to the documentation for alternative solver options:\n",
            "    https://scikit-learn.org/stable/modules/linear_model.html#logistic-regression\n",
            "  extra_warning_msg=_LOGISTIC_SOLVER_CONVERGENCE_MSG,\n"
          ]
        }
      ]
    },
    {
      "cell_type": "code",
      "source": [
        "t0=time()\n",
        "LR_L2 = LogisticRegression(C=100, penalty='l2').fit(X_train, Y_train)\n",
        "print('Logistic_regression (L2) - accuracy: {:.2f}, f1 score: {:.2f}, total_time: {:.2f} sec'.format(accuracy_score(Y_test, LR_L2.predict(X_test)),f1_score(Y_test,LR_L1.predict(X_test),average ='macro'), time()-t0))"
      ],
      "metadata": {
        "colab": {
          "base_uri": "https://localhost:8080/"
        },
        "id": "j3_aVdyjZ02M",
        "outputId": "4c0b4708-6009-4a84-e55b-49d5c008ba36"
      },
      "execution_count": null,
      "outputs": [
        {
          "output_type": "stream",
          "name": "stdout",
          "text": [
            "Logistic_regression (L2) - accuracy: 0.76, f1 score: 0.76, total_time: 0.81 sec\n"
          ]
        },
        {
          "output_type": "stream",
          "name": "stderr",
          "text": [
            "/usr/local/lib/python3.7/dist-packages/sklearn/linear_model/_logistic.py:818: ConvergenceWarning: lbfgs failed to converge (status=1):\n",
            "STOP: TOTAL NO. of ITERATIONS REACHED LIMIT.\n",
            "\n",
            "Increase the number of iterations (max_iter) or scale the data as shown in:\n",
            "    https://scikit-learn.org/stable/modules/preprocessing.html\n",
            "Please also refer to the documentation for alternative solver options:\n",
            "    https://scikit-learn.org/stable/modules/linear_model.html#logistic-regression\n",
            "  extra_warning_msg=_LOGISTIC_SOLVER_CONVERGENCE_MSG,\n"
          ]
        }
      ]
    },
    {
      "cell_type": "code",
      "source": [
        "#@title\n",
        "t0=time()\n",
        "RF = RandomForestClassifier(criterion='entropy',n_estimators=1000).fit(X_train, Y_train)\n",
        "print('Random Forest - accuracy: {:.2f}, f1 score: {:.2f}, total_time: {:.2f} sec'.format(accuracy_score(Y_test, RF.predict(X_test)),f1_score(Y_test,RF.predict(X_test),average ='macro'), time()-t0))\n"
      ],
      "metadata": {
        "id": "ryKklkz3NK4Q",
        "colab": {
          "base_uri": "https://localhost:8080/"
        },
        "outputId": "8d292ca0-d786-40fd-920b-d8b42eddeb9d"
      },
      "execution_count": null,
      "outputs": [
        {
          "output_type": "stream",
          "name": "stdout",
          "text": [
            "Random Forest - accuracy: 0.95, f1 score: 0.95, total_time: 85.70 sec\n"
          ]
        }
      ]
    },
    {
      "cell_type": "code",
      "source": [
        "t0=time()\n",
        "SVM_linear = SVC(kernel=\"linear\", C=0.001).fit(X_train, Y_train)\n",
        "print('LinearSVM - accuracy: {:.2f}, f1 score: {:.2f}, total_time: {:.2f} sec'.format(accuracy_score(Y_test, SVM_linear.predict(X_test)),f1_score(Y_test,SVM_linear.predict(X_test),average ='macro'), time()-t0))\n"
      ],
      "metadata": {
        "colab": {
          "base_uri": "https://localhost:8080/"
        },
        "id": "Nzniz_5fZ71Z",
        "outputId": "57b2e20b-4200-495f-d59a-c8a76a0700ba"
      },
      "execution_count": null,
      "outputs": [
        {
          "output_type": "stream",
          "name": "stdout",
          "text": [
            "LinearSVM - accuracy: 0.25, f1 score: 0.21, total_time: 0.94 sec\n"
          ]
        }
      ]
    },
    {
      "cell_type": "code",
      "source": [
        "t0=time()\n",
        "SVM_rbf = SVC(kernel=\"rbf\", C=1000, gamma=1e-5).fit(X_train, Y_train)\n",
        "print('rbf_SVM - accuracy: {:.2f}, f1: {:.2f}, total_time: {:.2f} sec'.format(accuracy_score(Y_test, SVM_rbf.predict(X_test)),f1_score(Y_test,SVM_rbf.predict(X_test),average ='macro'), time()-t0))\n"
      ],
      "metadata": {
        "colab": {
          "base_uri": "https://localhost:8080/"
        },
        "id": "g0-tGc1mbW1y",
        "outputId": "048243be-b945-4472-b5a7-2519be9cd484"
      },
      "execution_count": null,
      "outputs": [
        {
          "output_type": "stream",
          "name": "stdout",
          "text": [
            "rbf_SVM - accuracy: 0.63, f1: 0.63, total_time: 1.22 sec\n"
          ]
        }
      ]
    },
    {
      "cell_type": "code",
      "source": [
        "t0=time()\n",
        "DT = DecisionTreeClassifier(criterion='entropy').fit(X_train, Y_train)\n",
        "print('Decision Tree - accuracy: {:.2f}, f1 score: {:.2f}, total_time: {:.2f} sec'.format(accuracy_score(Y_test, DT.predict(X_test)),f1_score(Y_test,DT.predict(X_test),average ='macro'), time()-t0))"
      ],
      "metadata": {
        "colab": {
          "base_uri": "https://localhost:8080/"
        },
        "id": "ODNT5OmmZ9g9",
        "outputId": "0ffcf05b-c50c-449b-bf38-517f60eba6df"
      },
      "execution_count": null,
      "outputs": [
        {
          "output_type": "stream",
          "name": "stdout",
          "text": [
            "Decision Tree - accuracy: 0.77, f1 score: 0.77, total_time: 1.13 sec\n"
          ]
        }
      ]
    },
    {
      "cell_type": "code",
      "source": [
        "t0=time()\n",
        "clf = KNeighborsClassifier(5)\n",
        "KNN = clf.fit(X_train, Y_train)\n",
        "print('K- Nearest Neighbour  - accuracy: {:.2f}, f1 score: {:.2f}, total_time: {:.2f} sec'.format(accuracy_score(Y_test, KNN.predict(X_test)),f1_score(Y_test,KNN.predict(X_test),average ='macro'), time()-t0))"
      ],
      "metadata": {
        "colab": {
          "base_uri": "https://localhost:8080/"
        },
        "id": "hEqhf-K2aD3y",
        "outputId": "1e970b0f-c11c-40ab-d15c-7f7aa206ff0e"
      },
      "execution_count": null,
      "outputs": [
        {
          "output_type": "stream",
          "name": "stdout",
          "text": [
            "K- Nearest Neighbour  - accuracy: 0.75, f1 score: 0.75, total_time: 0.27 sec\n"
          ]
        }
      ]
    },
    {
      "cell_type": "markdown",
      "source": [
        "Model performance = predicting trial participant"
      ],
      "metadata": {
        "id": "ap9far6ZNI6K"
      }
    },
    {
      "cell_type": "code",
      "source": [
        "#@title\n",
        "print('LinearSVM - accuracy: {:.2f}, f1: {:.2f}'.format(accuracy_score(Y_test, SVM_linear.predict(X_test)),f1_score(Y_test,SVM_linear.predict(X_test),average ='macro')))\n",
        "print('rbf_SVM - accuracy: {:.2f}, f1: {:.2f}'.format(accuracy_score(Y_test, SVM_rbf.predict(X_test)),f1_score(Y_test,SVM_rbf.predict(X_test),average ='macro')))\n",
        "print('Logistic_regression (L1) - accuracy: {:.2f}, f1: {:.2f}'.format(accuracy_score(Y_test, LR_L1.predict(X_test)),f1_score(Y_test,LR_L1.predict(X_test),average ='macro')))\n",
        "print('Logistic_regression (L2) - accuracy: {:.2f}, f1: {:.2f}'.format(accuracy_score(Y_test, LR_L2.predict(X_test)),f1_score(Y_test,LR_L2.predict(X_test),average ='macro')))\n",
        "print('Decision tree - accuracy: {:.2f}, f1: {:.2f}'.format(accuracy_score(Y_test, DT.predict(X_test)),f1_score(Y_test,DT.predict(X_test),average ='macro')))\n",
        "print('Random Forest - accuracy: {:.2f}, f1: {:.2f}'.format(accuracy_score(Y_test, RF.predict(X_test)),f1_score(Y_test,RF.predict(X_test),average ='macro')))\n",
        "print('K- Nearest Neighbour - accuracy: {:.2f}, f1: {:.2f}'.format(accuracy_score(Y_test, KNN.predict(X_test)),f1_score(Y_test,KNN.predict(X_test),average ='macro')))\n"
      ],
      "metadata": {
        "colab": {
          "base_uri": "https://localhost:8080/"
        },
        "id": "eXA621xgNEyA",
        "outputId": "93de58f6-f777-4936-f166-1f15799bbc27",
        "cellView": "form"
      },
      "execution_count": null,
      "outputs": [
        {
          "output_type": "stream",
          "name": "stdout",
          "text": [
            "LinearSVM - accuracy: 0.25, f1: 0.21\n",
            "rbf_SVM - accuracy: 0.63, f1: 0.63\n",
            "Logistic_regression (L1) - accuracy: 0.76, f1: 0.76\n",
            "Logistic_regression (L2) - accuracy: 0.76, f1: 0.76\n",
            "Decision tree - accuracy: 0.77, f1: 0.77\n",
            "Random Forest - accuracy: 0.95, f1: 0.95\n",
            "K- Nearest Neighbour - accuracy: 0.75, f1: 0.75\n"
          ]
        }
      ]
    },
    {
      "cell_type": "code",
      "source": [
        "#@title\n",
        "feature_names = X.columns\n",
        "X_names = feature_names\n",
        "\n",
        "X_train, X_test, Y_train, Y_test = train_test_split(X, Y1, test_size=0.3, random_state=0)\n",
        "\n",
        "scaler = StandardScaler()\n",
        "scaler.fit(X_train)\n",
        "# Apply transform to both the training set and the test set.\n",
        "X_train = scaler.transform(X_train)\n",
        "X_test = scaler.transform(X_test)\n",
        "\n",
        "DT = DecisionTreeClassifier(criterion='entropy').fit(X_train, Y_train)\n",
        "\n",
        "# for tree-based classifier's feature importance plotting\n",
        "def plot_keyFeat_trees(classifier, feature_names, clf_id, top_features=10):\n",
        "    importances = classifier.feature_importances_\n",
        "    indices = np.argsort(importances)[::-1]\n",
        "    indices_vis = indices[:top_features]\n",
        "    \n",
        "    plt.figure()\n",
        "    plt.figure(figsize=(15, 5))\n",
        "    plt.title(clf_id)\n",
        "    plt.bar(range(top_features), importances[indices_vis],\n",
        "       color=\"b\", align=\"center\")\n",
        "    plt.xticks(range(top_features), indices)\n",
        "    plt.xlim([-1, top_features])\n",
        "    feature_names = np.array(feature_names)\n",
        "    plt.xticks(np.arange(0, top_features), feature_names[indices_vis], rotation=60, ha='right')\n",
        "    plt.show()\n",
        "\n",
        "print('Decision tree accuracy:',accuracy_score(Y_test, DT.predict(X_test)))\n",
        "plot_keyFeat_trees(DT, X_names, 'Decision Tree - feature importance in predicting trial participant', top_features=12)"
      ],
      "metadata": {
        "colab": {
          "base_uri": "https://localhost:8080/",
          "height": 461
        },
        "id": "wt5hBkFIU4Eb",
        "outputId": "cbd0b467-0a62-4ac9-860e-0652d6e58d57",
        "cellView": "form"
      },
      "execution_count": null,
      "outputs": [
        {
          "output_type": "stream",
          "name": "stdout",
          "text": [
            "Decision tree accuracy: 0.753968253968254\n"
          ]
        },
        {
          "output_type": "display_data",
          "data": {
            "text/plain": [
              "<Figure size 432x288 with 0 Axes>"
            ]
          },
          "metadata": {}
        },
        {
          "output_type": "display_data",
          "data": {
            "image/png": "[encoded data removed]",
            "text/plain": [
              "<Figure size 1080x360 with 1 Axes>"
            ]
          },
          "metadata": {
            "needs_background": "light"
          }
        }
      ]
    },
    {
      "cell_type": "code",
      "source": [
        "#@title\n",
        "RF = RandomForestClassifier(criterion='entropy',n_estimators=1000).fit(X_train, Y_train)\n",
        "print('Random Forest accuracy:',accuracy_score(Y_test, RF.predict(X_test)))\n",
        "plot_keyFeat_trees(RF, X_names, 'Random Forest - feature importance in predicting trial participant', top_features=12)"
      ],
      "metadata": {
        "colab": {
          "base_uri": "https://localhost:8080/",
          "height": 451
        },
        "id": "bod2VPsPVVT1",
        "outputId": "6e60fa56-fc2e-4b9c-b3a5-b1810041fea2"
      },
      "execution_count": null,
      "outputs": [
        {
          "output_type": "stream",
          "name": "stdout",
          "text": [
            "Random Forest accuracy: 0.9513888888888888\n"
          ]
        },
        {
          "output_type": "display_data",
          "data": {
            "text/plain": [
              "<Figure size 432x288 with 0 Axes>"
            ]
          },
          "metadata": {}
        },
        {
          "output_type": "display_data",
          "data": {
            "image/png": "[encoded data removed]",
            "text/plain": [
              "<Figure size 1080x360 with 1 Axes>"
            ]
          },
          "metadata": {
            "needs_background": "light"
          }
        }
      ]
    },
    {
      "cell_type": "code",
      "source": [
        ""
      ],
      "metadata": {
        "id": "3wQfDm60pwdH"
      },
      "execution_count": null,
      "outputs": []
    },
    {
      "cell_type": "code",
      "source": [
        "#@title\n",
        "### Confusion matrix (predictive performance on different classes)\n",
        "def plot_confusion_matrix(cm, classes,\n",
        "                          normalize=False,\n",
        "                          title='Confusion matrix',\n",
        "                          cmap=plt.cm.Blues):\n",
        "    \"\"\"\n",
        "    function provided by sklearn example\n",
        "    \"\"\"\n",
        "    if normalize:\n",
        "        cm = cm.astype('float') / cm.sum(axis=1)[:, np.newaxis]\n",
        "        print(\"Trail Participant - Random Forest Confusion Matrix\")\n",
        "    else:\n",
        "        print('Trial Participant - Random Forest Confusion Matrix')\n",
        "    print(cm)\n",
        "\n",
        "cnf_matrix = confusion_matrix(Y_test, RF.predict(X_test))\n",
        "plot_confusion_matrix(cnf_matrix, classes=activity_types,\n",
        "                      title='Trial Participant - Random Forest Confusion Matrix')"
      ],
      "metadata": {
        "colab": {
          "base_uri": "https://localhost:8080/"
        },
        "id": "4pTIe2jbpGNb",
        "outputId": "e32fc31d-79cd-412b-e78f-affd38c8870e"
      },
      "execution_count": null,
      "outputs": [
        {
          "output_type": "stream",
          "name": "stdout",
          "text": [
            "Trial Participant - Random Forest Confusion Matrix\n",
            "[[50  0  0  1  0  0  0  0  0  2  0  1  0  0  0  1  0  0  1  0  1  1  0  0]\n",
            " [ 0 42  0  0  0  0  0  0  0  0  2  0  0  0  1  0  0  0  0  0  0  0  0  0]\n",
            " [ 0  0 40  0  0  0  0  0  0  0  0  0  0  0  0  0  0  0  0  0  0  0  0  0]\n",
            " [ 0  0  0 31  0  0  0  0  0  0  0  0  0  0  0  0  0  1  0  0  0  0  0  0]\n",
            " [ 0  0  0  0 31  0  0  1  0  0  0  0  0  0  0  0  1  0  0  0  0  0  0  0]\n",
            " [ 0  0  3  0  0 36  0  0  0  0  0  0  0  0  0  0  0  0  0  0  0  0  0  0]\n",
            " [ 0  0  0  0  0  0 42  0  0  0  0  0  0  2  0  1  0  0  0  0  0  1  0  0]\n",
            " [ 0  0  0  0  0  0  1 39  0  0  0  0  0  0  2  0  1  0  0  0  0  0  2  0]\n",
            " [ 0  0  0  2  0  0  0  0 35  0  0  0  0  0  0  0  0  0  0  1  0  1  0  0]\n",
            " [ 0  0  0  0  0  0  0  0  0 49  0  0  0  0  0  0  0  0  0  0  0  0  0  0]\n",
            " [ 0  0  0  0  0  0  0  0  0  0 50  0  1  0  0  0  0  0  0  0  0  0  0  0]\n",
            " [ 0  0  0  0  0  0  0  0  0  0  0 37  0  0  0  0  0  0  0  0  0  0  0  0]\n",
            " [ 1  0  0  0  0  0  0  2  0  0  0  0 42  0  0  0  1  0  0  0  0  0  0  0]\n",
            " [ 0  0  0  1  0  0  0  0  0  0  0  0  0 49  1  0  0  0  0  0  0  1  0  0]\n",
            " [ 0  0  0  0  0  0  0  0  0  1  0  0  0  0 40  0  0  0  0  0  0  0  0  1]\n",
            " [ 0  0  1  0  0  0  1  0  0  0  0  0  0  0  0 34  0  0  0  0  0  0  0  0]\n",
            " [ 0  0  0  0  0  0  0  0  0  0  0  0  0  0  0  0 30  0  0  0  0  0  0  0]\n",
            " [ 0  0  0  0  0  0  0  0  0  0  0  0  0  0  0  0  0 39  0  0  0  0  0  0]\n",
            " [ 0  0  0  0  0  0  0  0  0  0  0  0  0  0  0  0  0  0 46  0  0  0  0  0]\n",
            " [ 0  0  0  0  0  0  0  1  0  0  0  0  0  0  0  0  0  0  0 35  0  0  0  0]\n",
            " [ 0  0  0  3  0  0  0  0  0  0  0  0  0  0  0  0  0  0  1  0 42  0  0  0]\n",
            " [ 0  1  0  0  0  0  0  0  0  0  0  0  0  0  0  0  0  0  0  0  0 40  0  0]\n",
            " [ 0  0  0  0  0  0  0  0  0  0  1  0  0  0  0  0  0  1  0  0  0  0 47  1]\n",
            " [ 0  0  0  0  0  0  0  0  0  1  0  0  0  0  0  0  0  0  1  0  0  0  0 28]]\n"
          ]
        }
      ]
    },
    {
      "cell_type": "markdown",
      "source": [
        "####**Trial participant and activity type**"
      ],
      "metadata": {
        "id": "23j7SzF9DEdy"
      }
    },
    {
      "cell_type": "code",
      "source": [
        "#@title\n",
        "for i in range(1,7):\n",
        "    df = Df_Features[Df_Features['Activity']==i]\n",
        "    x = df.drop(['Exp_num','Unnamed: 0','Activity','Sub_Num'],axis=1)\n",
        "    y = df['Sub_Num']\n",
        "    y = to_categorical(y)\n",
        "    \n",
        "    #### Construct Neural Architecture\n",
        "    input_dim = x.shape[1]\n",
        "    input_img = Input(shape=(input_dim,))\n",
        "    d = Dense(50, activation='relu')(input_img)\n",
        "    d = Dense(20, activation='relu')(d)\n",
        "    output = Dense(25, activation='softmax', kernel_regularizer=l2(0.01))(d)\n",
        "    model = Model(input_img,output)\n",
        "    model.compile(optimizer='adam', loss='binary_crossentropy',\n",
        "                     metrics=['categorical_accuracy'])\n",
        "    \n",
        "    X_train, X_test, Y_train, Y_test = train_test_split(x, y, test_size=0.3, random_state=0)\n",
        "\n",
        "    history = model.fit(X_train, Y_train,\n",
        "                    epochs=1000,\n",
        "                    batch_size=100,\n",
        "                    shuffle=True,\n",
        "                    verbose=0,\n",
        "                    validation_data=[X_test,Y_test])\n",
        "    \n",
        "    ### Overall test accuracy\n",
        "    score = model.evaluate(X_test, Y_test)\n",
        "    print('Activity type:', activity_types[i-1])\n",
        "    print('Neural Network Model (keras) accuracy:', score[1])"
      ],
      "metadata": {
        "colab": {
          "base_uri": "https://localhost:8080/"
        },
        "id": "4Tk63leZTTK3",
        "outputId": "1228b53b-dad2-4d03-f2e8-610c88b72f29",
        "cellView": "form"
      },
      "execution_count": null,
      "outputs": [
        {
          "output_type": "stream",
          "name": "stdout",
          "text": [
            "3/3 [==============================] - 0s 5ms/step - loss: 0.0773 - categorical_accuracy: 0.7640\n",
            "Activity type: dws\n",
            "Neural Network Model (keras) accuracy: 0.7640449404716492\n",
            "3/3 [==============================] - 0s 5ms/step - loss: 0.0332 - categorical_accuracy: 0.9681\n",
            "Activity type: jog\n",
            "Neural Network Model (keras) accuracy: 0.9680851101875305\n",
            "8/8 [==============================] - 0s 2ms/step - loss: 0.0268 - categorical_accuracy: 0.9312\n",
            "Activity type: sit\n",
            "Neural Network Model (keras) accuracy: 0.931174099445343\n",
            "7/7 [==============================] - 0s 3ms/step - loss: 0.0981 - categorical_accuracy: 0.6741\n",
            "Activity type: std\n",
            "Neural Network Model (keras) accuracy: 0.6741071343421936\n",
            "4/4 [==============================] - 0s 4ms/step - loss: 0.0415 - categorical_accuracy: 0.8889\n",
            "Activity type: ups\n",
            "Neural Network Model (keras) accuracy: 0.8888888955116272\n",
            "8/8 [==============================] - 0s 2ms/step - loss: 0.0178 - categorical_accuracy: 0.9598\n",
            "Activity type: wlk\n",
            "Neural Network Model (keras) accuracy: 0.9598393440246582\n"
          ]
        }
      ]
    },
    {
      "cell_type": "markdown",
      "source": [
        "###**Gender**"
      ],
      "metadata": {
        "id": "919SrWujDeAI"
      }
    },
    {
      "cell_type": "markdown",
      "source": [
        "Mapping for gender (1 for male, 0 for female)"
      ],
      "metadata": {
        "id": "cHSqbLXpDT4x"
      }
    },
    {
      "cell_type": "code",
      "source": [
        "#@title\n",
        "mapping = {\n",
        "    '1': 1,\n",
        "    '2': 1,\n",
        "    '3': 0,\n",
        "    '4': 1,\n",
        "    '5': 0,\n",
        "    '6':1,\n",
        "    '7':0,\n",
        "    '8':0,\n",
        "    '9':1,\n",
        "    '10':0,\n",
        "    '11':1,\n",
        "    '12':1,\n",
        "    '13':1,\n",
        "    '14':1,\n",
        "    '15':1,\n",
        "    '16':0,\n",
        "    '17':1,\n",
        "    '18':0,\n",
        "    '19':0,\n",
        "    '20':1,\n",
        "    '21':1,\n",
        "    '22':1,\n",
        "    '23':0,\n",
        "    '24':0\n",
        "\n",
        "}"
      ],
      "metadata": {
        "id": "5dhjPfRcTfh5",
        "cellView": "form"
      },
      "execution_count": null,
      "outputs": []
    },
    {
      "cell_type": "code",
      "source": [
        "#@title\n",
        "# Create gender labels\n",
        "Y2 = [mapping[i] for i in Df_Features['Sub_Num']]"
      ],
      "metadata": {
        "id": "YXKt0DRzTjFW",
        "cellView": "form"
      },
      "execution_count": null,
      "outputs": []
    },
    {
      "cell_type": "markdown",
      "source": [
        "Train model"
      ],
      "metadata": {
        "id": "rR3VbgUtXn9z"
      }
    },
    {
      "cell_type": "code",
      "source": [
        "#@title\n",
        "y2 = to_categorical(Y2)\n",
        "\n",
        "X_train, X_test, Y_train, Y_test = train_test_split(X, y2, test_size=0.3, random_state=0)\n",
        "#print('The number of training samples:',X_train.shape[0])\n",
        "#print('The number of test samples:',X_test.shape[0])\n",
        "\n",
        "scaler = StandardScaler()\n",
        "scaler.fit(X_train)\n",
        "# Apply transform to both the training set and the test set.\n",
        "X_train = scaler.transform(X_train)\n",
        "X_test = scaler.transform(X_test)\n",
        "\n",
        "#### Construct neural Architecture for baseline model\n",
        "input_dim = X.shape[1]\n",
        "input_img = Input(shape=(input_dim,))\n",
        "d = Dense(50, activation='relu')(input_img)\n",
        "d = Dense(20, activation='relu')(d)\n",
        "output = Dense(2, activation='softmax', kernel_regularizer=l2(0.01))(d)\n",
        "model = Model(input_img,output)\n",
        "model.compile(optimizer='adam', loss='binary_crossentropy',\n",
        "                 metrics=['categorical_accuracy'])\n",
        "    \n",
        "history = model.fit(X_train, Y_train,\n",
        "                epochs=1000,\n",
        "                batch_size=100,\n",
        "                shuffle=True,\n",
        "                verbose=0,\n",
        "                validation_data=[X_test,Y_test])\n",
        "\n",
        "### Overall test accuracy\n",
        "t0=time()\n",
        "score = model.evaluate(X_test, Y_test)\n",
        "print('Neural Network (keras) accuracy:', score[1])\n",
        "print('Multi Layer Perception total_time: {:.2f} sec'.format(time()-t0))"
      ],
      "metadata": {
        "colab": {
          "base_uri": "https://localhost:8080/"
        },
        "id": "56IlLzAUTmx-",
        "outputId": "23e9b2d3-dfc3-48ce-cf3b-56e1688ccb65"
      },
      "execution_count": null,
      "outputs": [
        {
          "output_type": "stream",
          "name": "stdout",
          "text": [
            "32/32 [==============================] - 0s 1ms/step - loss: 0.5555 - categorical_accuracy: 0.9216\n",
            "Neural Network (keras) accuracy: 0.9216269850730896\n",
            "Multi Layer Perception total_time: 0.11 sec\n"
          ]
        }
      ]
    },
    {
      "cell_type": "markdown",
      "source": [
        "Prepare training and test data sets, apply scaling"
      ],
      "metadata": {
        "id": "fHJDND1Q_hbT"
      }
    },
    {
      "cell_type": "code",
      "source": [
        "#@title\n",
        "X_train, X_test, Y_train, Y_test = train_test_split(X, Y2, test_size=0.3, random_state=0)\n",
        "\n",
        "scaler = StandardScaler()\n",
        "scaler.fit(X_train)\n",
        "# Apply transform to both the training set and the test set.\n",
        "X_train = scaler.transform(X_train)\n",
        "X_test = scaler.transform(X_test)"
      ],
      "metadata": {
        "id": "SjhKtqGV_Z_h",
        "cellView": "form"
      },
      "execution_count": null,
      "outputs": []
    },
    {
      "cell_type": "markdown",
      "source": [
        "Compare with other models - train and test"
      ],
      "metadata": {
        "id": "KTJsjPcaD7Wz"
      }
    },
    {
      "cell_type": "markdown",
      "source": [
        "Show results of model performance by gender identification"
      ],
      "metadata": {
        "id": "vY-5cyWDD_AP"
      }
    },
    {
      "cell_type": "code",
      "source": [
        "t0=time()\n",
        "LR_L1 = LogisticRegression(C=10, penalty='l2').fit(X_train, Y_train)\n",
        "print('Logistic_regression (L1) - accuracy: {:.2f}, f1 score: {:.2f}, total_time: {:.2f} sec'.format(accuracy_score(Y_test, LR_L1.predict(X_test)),f1_score(Y_test,LR_L1.predict(X_test),average ='macro'), time()-t0))"
      ],
      "metadata": {
        "id": "kh6lIcIJ9KMz",
        "colab": {
          "base_uri": "https://localhost:8080/"
        },
        "outputId": "29617bef-0180-49b8-ea52-ae59b2742bae"
      },
      "execution_count": null,
      "outputs": [
        {
          "output_type": "stream",
          "name": "stdout",
          "text": [
            "Logistic_regression (L1) - accuracy: 0.79, f1 score: 0.79, total_time: 0.11 sec\n"
          ]
        },
        {
          "output_type": "stream",
          "name": "stderr",
          "text": [
            "/usr/local/lib/python3.7/dist-packages/sklearn/linear_model/_logistic.py:818: ConvergenceWarning: lbfgs failed to converge (status=1):\n",
            "STOP: TOTAL NO. of ITERATIONS REACHED LIMIT.\n",
            "\n",
            "Increase the number of iterations (max_iter) or scale the data as shown in:\n",
            "    https://scikit-learn.org/stable/modules/preprocessing.html\n",
            "Please also refer to the documentation for alternative solver options:\n",
            "    https://scikit-learn.org/stable/modules/linear_model.html#logistic-regression\n",
            "  extra_warning_msg=_LOGISTIC_SOLVER_CONVERGENCE_MSG,\n"
          ]
        }
      ]
    },
    {
      "cell_type": "code",
      "source": [
        "t0=time()\n",
        "LR_L2 = LogisticRegression(C=100, penalty='l2').fit(X_train, Y_train)\n",
        "print('Logistic_regression (L2) - accuracy: {:.2f}, f1 score: {:.2f}, total_time: {:.2f} sec'.format(accuracy_score(Y_test, LR_L2.predict(X_test)),f1_score(Y_test,LR_L1.predict(X_test),average ='macro'), time()-t0))"
      ],
      "metadata": {
        "id": "h8yTuBLj9HBI",
        "colab": {
          "base_uri": "https://localhost:8080/"
        },
        "outputId": "34cba29f-5632-4248-bfd4-34610dc3af28"
      },
      "execution_count": null,
      "outputs": [
        {
          "output_type": "stream",
          "name": "stdout",
          "text": [
            "Logistic_regression (L2) - accuracy: 0.79, f1 score: 0.79, total_time: 0.13 sec\n"
          ]
        },
        {
          "output_type": "stream",
          "name": "stderr",
          "text": [
            "/usr/local/lib/python3.7/dist-packages/sklearn/linear_model/_logistic.py:818: ConvergenceWarning: lbfgs failed to converge (status=1):\n",
            "STOP: TOTAL NO. of ITERATIONS REACHED LIMIT.\n",
            "\n",
            "Increase the number of iterations (max_iter) or scale the data as shown in:\n",
            "    https://scikit-learn.org/stable/modules/preprocessing.html\n",
            "Please also refer to the documentation for alternative solver options:\n",
            "    https://scikit-learn.org/stable/modules/linear_model.html#logistic-regression\n",
            "  extra_warning_msg=_LOGISTIC_SOLVER_CONVERGENCE_MSG,\n"
          ]
        }
      ]
    },
    {
      "cell_type": "code",
      "source": [
        "t0=time()\n",
        "SVM_linear = SVC(kernel=\"linear\", C=0.001).fit(X_train, Y_train)\n",
        "print('LinearSVM - accuracy: {:.2f}, f1 score: {:.2f}, total_time: {:.2f} sec'.format(accuracy_score(Y_test, SVM_linear.predict(X_test)),f1_score(Y_test,SVM_linear.predict(X_test),average ='macro'), time()-t0))\n"
      ],
      "metadata": {
        "id": "MDLuooVY84vN",
        "colab": {
          "base_uri": "https://localhost:8080/"
        },
        "outputId": "31f7aaac-09a0-4e4b-9b48-94e3160f759c"
      },
      "execution_count": null,
      "outputs": [
        {
          "output_type": "stream",
          "name": "stdout",
          "text": [
            "LinearSVM - accuracy: 0.70, f1 score: 0.70, total_time: 0.53 sec\n"
          ]
        }
      ]
    },
    {
      "cell_type": "code",
      "source": [
        "t0=time()\n",
        "SVM_rbf = SVC(kernel=\"rbf\", C=1000, gamma=1e-5).fit(X_train, Y_train)\n",
        "print('rbf_SVM - accuracy: {:.2f}, f1: {:.2f}, total_time: {:.2f} sec'.format(accuracy_score(Y_test, SVM_rbf.predict(X_test)),f1_score(Y_test,SVM_rbf.predict(X_test),average ='macro'), time()-t0))\n"
      ],
      "metadata": {
        "colab": {
          "base_uri": "https://localhost:8080/"
        },
        "id": "88nNuwkjfCAA",
        "outputId": "b79f60f4-2ac7-4448-d2b1-a480a2dd0069"
      },
      "execution_count": null,
      "outputs": [
        {
          "output_type": "stream",
          "name": "stdout",
          "text": [
            "rbf_SVM - accuracy: 0.75, f1: 0.74, total_time: 0.76 sec\n"
          ]
        }
      ]
    },
    {
      "cell_type": "code",
      "source": [
        "#need to change to Random Forest\n",
        "t0=time()\n",
        "DT = DecisionTreeClassifier(criterion='entropy').fit(X_train, Y_train)\n",
        "print('Decision Tree - accuracy: {:.2f}, f1 score: {:.2f}, total_time: {:.2f} sec'.format(accuracy_score(Y_test, DT.predict(X_test)),f1_score(Y_test,DT.predict(X_test),average ='macro'), time()-t0))"
      ],
      "metadata": {
        "id": "Or0AtpHV9Q6S",
        "colab": {
          "base_uri": "https://localhost:8080/"
        },
        "outputId": "213c2e9e-28ab-4d6e-8f09-e1ceb7cbfdf5"
      },
      "execution_count": null,
      "outputs": [
        {
          "output_type": "stream",
          "name": "stdout",
          "text": [
            "Decision Tree - accuracy: 0.93, f1 score: 0.93, total_time: 0.27 sec\n"
          ]
        }
      ]
    },
    {
      "cell_type": "code",
      "source": [
        "t0=time()\n",
        "clf = KNeighborsClassifier(5)\n",
        "KNN = clf.fit(X_train, Y_train)\n",
        "print('K- Nearest Neighbour  - accuracy: {:.2f}, f1 score: {:.2f}, total_time: {:.2f} sec'.format(accuracy_score(Y_test, KNN.predict(X_test)),f1_score(Y_test,KNN.predict(X_test),average ='macro'), time()-t0))"
      ],
      "metadata": {
        "id": "eDnRwhcx83h2",
        "colab": {
          "base_uri": "https://localhost:8080/"
        },
        "outputId": "6c091698-7d18-4f82-d0b0-731c60bb2e84"
      },
      "execution_count": null,
      "outputs": [
        {
          "output_type": "stream",
          "name": "stdout",
          "text": [
            "K- Nearest Neighbour  - accuracy: 0.90, f1 score: 0.90, total_time: 0.26 sec\n"
          ]
        }
      ]
    },
    {
      "cell_type": "code",
      "source": [
        "#@title\n",
        "t0=time()\n",
        "RF = RandomForestClassifier(criterion='entropy',n_estimators=1000).fit(X_train, Y_train)\n",
        "print('Random Forest - accuracy: {:.2f}, f1 score: {:.2f}, total_time: {:.2f} sec'.format(accuracy_score(Y_test, RF.predict(X_test)),f1_score(Y_test,RF.predict(X_test),average ='macro'), time()-t0))"
      ],
      "metadata": {
        "colab": {
          "base_uri": "https://localhost:8080/"
        },
        "id": "fFO4zAZAccTm",
        "outputId": "4471159e-db05-412d-d986-47728bad7820"
      },
      "execution_count": null,
      "outputs": [
        {
          "output_type": "stream",
          "name": "stdout",
          "text": [
            "Random Forest - accuracy: 0.97, f1 score: 0.97, total_time: 33.36 sec\n"
          ]
        }
      ]
    },
    {
      "cell_type": "code",
      "source": [
        "#@title\n",
        "### Confusion matrix (predictive performance on different classes)\n",
        "def plot_confusion_matrix(cm, classes,\n",
        "                          normalize=False,\n",
        "                          title='Confusion matrix',\n",
        "                          cmap=plt.cm.Blues):\n",
        "    \"\"\"\n",
        "    function provided by sklearn example\n",
        "    \"\"\"\n",
        "    if normalize:\n",
        "        cm = cm.astype('float') / cm.sum(axis=1)[:, np.newaxis]\n",
        "        print(\"Gender - Random Forest Confusion Matrix\")\n",
        "    else:\n",
        "        print('Gender - Random Forest Confusion Matrix')\n",
        "\n",
        "    print(cm)\n",
        "\n",
        "cnf_matrix = confusion_matrix(Y_test, RF.predict(X_test))\n",
        "plot_confusion_matrix(cnf_matrix, classes=activity_types,\n",
        "                      title='Gender - Random Forest Confusion Matrix')"
      ],
      "metadata": {
        "colab": {
          "base_uri": "https://localhost:8080/"
        },
        "id": "cB2vfQkH_seE",
        "outputId": "5d0f3ab4-ee30-4693-b44a-8e31eebdefaf"
      },
      "execution_count": null,
      "outputs": [
        {
          "output_type": "stream",
          "name": "stdout",
          "text": [
            "Gender - Random Forest Confusion Matrix\n",
            "[[411  11]\n",
            " [ 20 566]]\n"
          ]
        }
      ]
    },
    {
      "cell_type": "code",
      "source": [
        "RF = RandomForestClassifier(criterion='entropy',n_estimators=1000).fit(X_train, Y_train)\n",
        "print('Random Forest accuracy:',accuracy_score(Y_test, RF.predict(X_test)))\n",
        "plot_keyFeat_trees(RF, X_names, 'Random Forest - feature importance in predicting gender', top_features=12)"
      ],
      "metadata": {
        "colab": {
          "base_uri": "https://localhost:8080/",
          "height": 481
        },
        "id": "vlGoszEVRCsz",
        "outputId": "1adf7d8d-f4f1-4805-9a25-5039c634fc1a"
      },
      "execution_count": null,
      "outputs": [
        {
          "output_type": "stream",
          "name": "stdout",
          "text": [
            "Random Forest accuracy: 0.9672619047619048\n"
          ]
        },
        {
          "output_type": "display_data",
          "data": {
            "text/plain": [
              "<Figure size 432x288 with 0 Axes>"
            ]
          },
          "metadata": {}
        },
        {
          "output_type": "display_data",
          "data": {
            "image/png": "[encoded data removed]",
            "text/plain": [
              "<Figure size 1080x360 with 1 Axes>"
            ]
          },
          "metadata": {
            "needs_background": "light"
          }
        }
      ]
    },
    {
      "cell_type": "markdown",
      "source": [
        "###**Weight**"
      ],
      "metadata": {
        "id": "WgX1dYtfFcSy"
      }
    },
    {
      "cell_type": "markdown",
      "source": [
        "Mapping - above the average weight 72.125kg are labeled as 1; 0 for below average."
      ],
      "metadata": {
        "id": "INSM8UeeTsX_"
      }
    },
    {
      "cell_type": "code",
      "source": [
        "#@title\n",
        "mapping = {\n",
        "    '1': 1,\n",
        "    '2': 0,\n",
        "    '3': 0,\n",
        "    '4': 1,\n",
        "    '5': 0,\n",
        "    '6':1,\n",
        "    '7':0,\n",
        "    '8':0,\n",
        "    '9':1,\n",
        "    '10':0,\n",
        "    '11':0,\n",
        "    '12':0,\n",
        "    '13':0,\n",
        "    '14':0,\n",
        "    '15':0,\n",
        "    '16':1,\n",
        "    '17':1,\n",
        "    '18':0,\n",
        "    '19':1,\n",
        "    '20':1,\n",
        "    '21':0,\n",
        "    '22':1,\n",
        "    '23':0,\n",
        "    '24':1\n",
        "\n",
        "}"
      ],
      "metadata": {
        "id": "-iLH9iNpTpR1",
        "cellView": "form"
      },
      "execution_count": null,
      "outputs": []
    },
    {
      "cell_type": "code",
      "source": [
        "#@title\n",
        "# Create weight labels\n",
        "Y3 = [mapping[i] for i in Df_Features['Sub_Num']]"
      ],
      "metadata": {
        "id": "HlxEUov-T0Ud",
        "cellView": "form"
      },
      "execution_count": null,
      "outputs": []
    },
    {
      "cell_type": "code",
      "source": [
        "#@title\n",
        "y3 = to_categorical(Y3)\n",
        "\n",
        "X_train, X_test, Y_train, Y_test = train_test_split(X, y3, test_size=0.3, random_state=0)\n",
        "#print('The number of training samples:',X_train.shape[0])\n",
        "#print('The number of test samples:',X_test.shape[0])\n",
        "\n",
        "scaler = StandardScaler()\n",
        "scaler.fit(X_train)\n",
        "# Apply transform to both the training set and the test set.\n",
        "X_train = scaler.transform(X_train)\n",
        "X_test = scaler.transform(X_test)\n",
        "\n",
        "#### Construct neural architecture for baseline model\n",
        "input_dim = X.shape[1]\n",
        "input_img = Input(shape=(input_dim,))\n",
        "d = Dense(50, activation='relu')(input_img)\n",
        "d = Dense(20, activation='relu')(d)\n",
        "output = Dense(2, activation='softmax', kernel_regularizer=l2(0.01))(d)\n",
        "model = Model(input_img,output)\n",
        "model.compile(optimizer='adam', loss='binary_crossentropy',\n",
        "                 metrics=['categorical_accuracy'])\n",
        "    \n",
        "history = model.fit(X_train, Y_train,\n",
        "                epochs=1000,\n",
        "                batch_size=100,\n",
        "                shuffle=True,\n",
        "                verbose=0,\n",
        "                validation_data=[X_test,Y_test])\n",
        "t0=time()\n",
        "### Overall test accuracy\n",
        "score = model.evaluate(X_test, Y_test)\n",
        "print('Neural Network (keras) accuracy:', score[1])\n",
        "print('Multi Layer Perception total_time: {:.2f} sec'.format(time()-t0))"
      ],
      "metadata": {
        "colab": {
          "base_uri": "https://localhost:8080/"
        },
        "id": "bmMPPMUBT1W5",
        "outputId": "72be1aea-4383-4675-8c27-bac87038a4f2",
        "cellView": "form"
      },
      "execution_count": null,
      "outputs": [
        {
          "output_type": "stream",
          "name": "stdout",
          "text": [
            "32/32 [==============================] - 0s 1ms/step - loss: 0.7109 - categorical_accuracy: 0.8829\n",
            "Neural Network (keras) accuracy: 0.8829365372657776\n",
            "Multi Layer Perception total_time: 0.11 sec\n"
          ]
        }
      ]
    },
    {
      "cell_type": "code",
      "source": [
        "#@title\n",
        "X_train, X_test, Y_train, Y_test = train_test_split(X, Y3, test_size=0.3, random_state=0)\n",
        "\n",
        "scaler = StandardScaler()\n",
        "scaler.fit(X_train)\n",
        "# Apply transform to both the training set and the test set.\n",
        "X_train = scaler.transform(X_train)\n",
        "X_test = scaler.transform(X_test)"
      ],
      "metadata": {
        "id": "vR4sTKk8Vlg5",
        "cellView": "form"
      },
      "execution_count": null,
      "outputs": []
    },
    {
      "cell_type": "markdown",
      "source": [
        "Evaluate model performance"
      ],
      "metadata": {
        "id": "uLRoDHfASD2D"
      }
    },
    {
      "cell_type": "code",
      "source": [
        "t0=time()\n",
        "LR_L1 = LogisticRegression(C=10, penalty='l2').fit(X_train, Y_train)\n",
        "print('Logistic_regression (L1) - accuracy: {:.2f}, f1 score: {:.2f}, total_time: {:.2f} sec'.format(accuracy_score(Y_test, LR_L1.predict(X_test)),f1_score(Y_test,LR_L1.predict(X_test),average ='macro'), time()-t0))"
      ],
      "metadata": {
        "colab": {
          "base_uri": "https://localhost:8080/"
        },
        "id": "niTEaR8icWqG",
        "outputId": "66dd3b21-b0a2-4f5e-c51f-523af4e17535"
      },
      "execution_count": null,
      "outputs": [
        {
          "output_type": "stream",
          "name": "stdout",
          "text": [
            "Logistic_regression (L1) - accuracy: 0.73, f1 score: 0.71, total_time: 0.10 sec\n"
          ]
        },
        {
          "output_type": "stream",
          "name": "stderr",
          "text": [
            "/usr/local/lib/python3.7/dist-packages/sklearn/linear_model/_logistic.py:818: ConvergenceWarning: lbfgs failed to converge (status=1):\n",
            "STOP: TOTAL NO. of ITERATIONS REACHED LIMIT.\n",
            "\n",
            "Increase the number of iterations (max_iter) or scale the data as shown in:\n",
            "    https://scikit-learn.org/stable/modules/preprocessing.html\n",
            "Please also refer to the documentation for alternative solver options:\n",
            "    https://scikit-learn.org/stable/modules/linear_model.html#logistic-regression\n",
            "  extra_warning_msg=_LOGISTIC_SOLVER_CONVERGENCE_MSG,\n"
          ]
        }
      ]
    },
    {
      "cell_type": "code",
      "source": [
        "t0=time()\n",
        "LR_L2 = LogisticRegression(C=100, penalty='l2').fit(X_train, Y_train)\n",
        "print('Logistic_regression (L2) - accuracy: {:.2f}, f1 score: {:.2f}, total_time: {:.2f} sec'.format(accuracy_score(Y_test, LR_L2.predict(X_test)),f1_score(Y_test,LR_L1.predict(X_test),average ='macro'), time()-t0))"
      ],
      "metadata": {
        "colab": {
          "base_uri": "https://localhost:8080/"
        },
        "id": "tdoTpxd7cZIp",
        "outputId": "fe0a0075-1261-4e8f-84aa-18f0ff2cd294"
      },
      "execution_count": null,
      "outputs": [
        {
          "output_type": "stream",
          "name": "stdout",
          "text": [
            "Logistic_regression (L2) - accuracy: 0.74, f1 score: 0.71, total_time: 0.11 sec\n"
          ]
        },
        {
          "output_type": "stream",
          "name": "stderr",
          "text": [
            "/usr/local/lib/python3.7/dist-packages/sklearn/linear_model/_logistic.py:818: ConvergenceWarning: lbfgs failed to converge (status=1):\n",
            "STOP: TOTAL NO. of ITERATIONS REACHED LIMIT.\n",
            "\n",
            "Increase the number of iterations (max_iter) or scale the data as shown in:\n",
            "    https://scikit-learn.org/stable/modules/preprocessing.html\n",
            "Please also refer to the documentation for alternative solver options:\n",
            "    https://scikit-learn.org/stable/modules/linear_model.html#logistic-regression\n",
            "  extra_warning_msg=_LOGISTIC_SOLVER_CONVERGENCE_MSG,\n"
          ]
        }
      ]
    },
    {
      "cell_type": "code",
      "source": [
        "t0=time()\n",
        "SVM_linear = SVC(kernel=\"linear\", C=0.001).fit(X_train, Y_train)\n",
        "print('LinearSVM - accuracy: {:.2f}, f1 score: {:.2f}, total_time: {:.2f} sec'.format(accuracy_score(Y_test, SVM_linear.predict(X_test)),f1_score(Y_test,SVM_linear.predict(X_test),average ='macro'), time()-t0))\n"
      ],
      "metadata": {
        "colab": {
          "base_uri": "https://localhost:8080/"
        },
        "id": "Dg3zL71icgXK",
        "outputId": "f1843f7a-f5ec-4a46-aa7f-d0e73be9b20d"
      },
      "execution_count": null,
      "outputs": [
        {
          "output_type": "stream",
          "name": "stdout",
          "text": [
            "LinearSVM - accuracy: 0.61, f1 score: 0.47, total_time: 0.55 sec\n"
          ]
        }
      ]
    },
    {
      "cell_type": "code",
      "source": [
        "t0=time()\n",
        "SVM_rbf = SVC(kernel=\"rbf\", C=1000, gamma=1e-5).fit(X_train, Y_train)\n",
        "print('rbf_SVM - accuracy: {:.2f}, f1: {:.2f}, total_time: {:.2f} sec'.format(accuracy_score(Y_test, SVM_rbf.predict(X_test)),f1_score(Y_test,SVM_rbf.predict(X_test),average ='macro'), time()-t0))\n"
      ],
      "metadata": {
        "colab": {
          "base_uri": "https://localhost:8080/"
        },
        "id": "5Rji8EFcfDfa",
        "outputId": "919bdde1-f9ba-4dc8-ee0e-4c93aff7d65e"
      },
      "execution_count": null,
      "outputs": [
        {
          "output_type": "stream",
          "name": "stdout",
          "text": [
            "rbf_SVM - accuracy: 0.70, f1: 0.66, total_time: 0.85 sec\n"
          ]
        }
      ]
    },
    {
      "cell_type": "code",
      "source": [
        "t0=time()\n",
        "clf = KNeighborsClassifier(5)\n",
        "KNN = clf.fit(X_train, Y_train)\n",
        "print('K- Nearest Neighbour  - accuracy: {:.2f}, f1 score: {:.2f}, total_time: {:.2f} sec'.format(accuracy_score(Y_test, KNN.predict(X_test)),f1_score(Y_test,KNN.predict(X_test),average ='macro'), time()-t0))"
      ],
      "metadata": {
        "colab": {
          "base_uri": "https://localhost:8080/"
        },
        "id": "3adjX-XxcpA6",
        "outputId": "40103ad5-3f4c-4ae1-d421-f34ea39d4e53"
      },
      "execution_count": null,
      "outputs": [
        {
          "output_type": "stream",
          "name": "stdout",
          "text": [
            "K- Nearest Neighbour  - accuracy: 0.87, f1 score: 0.87, total_time: 0.29 sec\n"
          ]
        }
      ]
    },
    {
      "cell_type": "code",
      "source": [
        "t0=time()\n",
        "DT = DecisionTreeClassifier(criterion='entropy').fit(X_train, Y_train)\n",
        "print('Decision Tree - accuracy: {:.2f}, f1 score: {:.2f}, total_time: {:.2f} sec'.format(accuracy_score(Y_test, DT.predict(X_test)),f1_score(Y_test,DT.predict(X_test),average ='macro'), time()-t0))"
      ],
      "metadata": {
        "id": "-3XHjFvT9EjU",
        "colab": {
          "base_uri": "https://localhost:8080/"
        },
        "outputId": "ec9c59db-6e51-478d-ff28-4992606f14c9"
      },
      "execution_count": null,
      "outputs": [
        {
          "output_type": "stream",
          "name": "stdout",
          "text": [
            "Decision Tree - accuracy: 0.88, f1 score: 0.88, total_time: 0.36 sec\n"
          ]
        }
      ]
    },
    {
      "cell_type": "code",
      "source": [
        "#@title\n",
        "t0=time()\n",
        "RF = RandomForestClassifier(criterion='entropy',n_estimators=1000).fit(X_train, Y_train)\n",
        "print('Random Forest - accuracy: {:.2f}, f1 score: {:.2f}, total_time: {:.2f} sec'.format(accuracy_score(Y_test, RF.predict(X_test)),f1_score(Y_test,RF.predict(X_test),average ='macro'), time()-t0))"
      ],
      "metadata": {
        "colab": {
          "base_uri": "https://localhost:8080/"
        },
        "id": "7yvqzw_tfQpV",
        "outputId": "a11c20aa-b27e-465a-8161-0155268b949a"
      },
      "execution_count": null,
      "outputs": [
        {
          "output_type": "stream",
          "name": "stdout",
          "text": [
            "Random Forest - accuracy: 0.96, f1 score: 0.96, total_time: 27.13 sec\n"
          ]
        }
      ]
    },
    {
      "cell_type": "code",
      "source": [
        "#@title\n",
        "print('LinearSVM - accuracy: {:.2f}, f1: {:.2f}'.format(accuracy_score(Y_test, SVM_linear.predict(X_test)),f1_score(Y_test,SVM_linear.predict(X_test),average ='macro')))\n",
        "print('rbf_SVM - accuracy: {:.2f}, f1: {:.2f}'.format(accuracy_score(Y_test, SVM_rbf.predict(X_test)),f1_score(Y_test,SVM_rbf.predict(X_test),average ='macro')))\n",
        "print('Logistic_regression (L1) - accuracy: {:.2f}, f1: {:.2f}'.format(accuracy_score(Y_test, LR_L1.predict(X_test)),f1_score(Y_test,LR_L1.predict(X_test),average ='macro')))\n",
        "print('Logistic_regression (L2) - accuracy: {:.2f}, f1: {:.2f}'.format(accuracy_score(Y_test, LR_L2.predict(X_test)),f1_score(Y_test,LR_L2.predict(X_test),average ='macro')))\n",
        "print('Decision tree - accuracy: {:.2f}, f1: {:.2f}'.format(accuracy_score(Y_test, DT.predict(X_test)),f1_score(Y_test,DT.predict(X_test),average ='macro')))\n",
        "print('Random Forest - accuracy: {:.2f}, f1: {:.2f}'.format(accuracy_score(Y_test, RF.predict(X_test)),f1_score(Y_test,RF.predict(X_test),average ='macro')))\n",
        "print('K- Nearest Neighbour - accuracy: {:.2f}, f1: {:.2f}'.format(accuracy_score(Y_test, KNN.predict(X_test)),f1_score(Y_test,KNN.predict(X_test),average ='macro')))\n"
      ],
      "metadata": {
        "colab": {
          "base_uri": "https://localhost:8080/"
        },
        "id": "4UQnSJOlVrLX",
        "outputId": "ba36a9ef-13c5-4010-da4a-4b379c5c9260",
        "cellView": "form"
      },
      "execution_count": null,
      "outputs": [
        {
          "output_type": "stream",
          "name": "stdout",
          "text": [
            "LinearSVM - accuracy: 0.61, f1: 0.47\n",
            "rbf_SVM - accuracy: 0.70, f1: 0.66\n",
            "Logistic_regression (L1) - accuracy: 0.73, f1: 0.71\n",
            "Logistic_regression (L2) - accuracy: 0.74, f1: 0.72\n",
            "Decision tree - accuracy: 0.88, f1: 0.88\n",
            "Random Forest - accuracy: 0.96, f1: 0.96\n",
            "K- Nearest Neighbour - accuracy: 0.87, f1: 0.87\n"
          ]
        }
      ]
    },
    {
      "cell_type": "code",
      "source": [
        "#@title\n",
        "### Confusion matrix (predictive performance on different classes)\n",
        "def plot_confusion_matrix(cm, classes,\n",
        "                          normalize=False,\n",
        "                          title='Confusion matrix',\n",
        "                          cmap=plt.cm.Blues):\n",
        "    \"\"\"\n",
        "    function provided by sklearn example\n",
        "    \"\"\"\n",
        "    if normalize:\n",
        "        cm = cm.astype('float') / cm.sum(axis=1)[:, np.newaxis]\n",
        "        print(\"Weight - Random Forest Confusion Matrix\")\n",
        "    else:\n",
        "        print('Weight - Random Forest Confusion Matrix')\n",
        "\n",
        "    print(cm)\n",
        "\n",
        "cnf_matrix = confusion_matrix(Y_test, RF.predict(X_test))\n",
        "plot_confusion_matrix(cnf_matrix, classes=activity_types,\n",
        "                      title='Weight - Random Forest Confusion Matrix')"
      ],
      "metadata": {
        "colab": {
          "base_uri": "https://localhost:8080/"
        },
        "cellView": "form",
        "id": "vld9GFSf945F",
        "outputId": "1dda8f65-d811-4e6b-d486-dbb80edcf8de"
      },
      "execution_count": null,
      "outputs": [
        {
          "output_type": "stream",
          "name": "stdout",
          "text": [
            "Weight - Random Forest Confusion Matrix\n",
            "[[566   9]\n",
            " [ 31 402]]\n"
          ]
        }
      ]
    },
    {
      "cell_type": "code",
      "source": [
        "RF = RandomForestClassifier(criterion='entropy',n_estimators=1000).fit(X_train, Y_train)\n",
        "print('Random Forest accuracy:',accuracy_score(Y_test, RF.predict(X_test)))\n",
        "plot_keyFeat_trees(RF, X_names, 'Random Forest - feature importance in predicting weight', top_features=12)"
      ],
      "metadata": {
        "colab": {
          "base_uri": "https://localhost:8080/",
          "height": 481
        },
        "id": "KIM9GA7UW43c",
        "outputId": "2c7557fb-97f5-482e-ae66-ca2e0c6ca098"
      },
      "execution_count": null,
      "outputs": [
        {
          "output_type": "stream",
          "name": "stdout",
          "text": [
            "Random Forest accuracy: 0.9632936507936508\n"
          ]
        },
        {
          "output_type": "display_data",
          "data": {
            "text/plain": [
              "<Figure size 432x288 with 0 Axes>"
            ]
          },
          "metadata": {}
        },
        {
          "output_type": "display_data",
          "data": {
            "image/png": "[encoded data removed]",
            "text/plain": [
              "<Figure size 1080x360 with 1 Axes>"
            ]
          },
          "metadata": {
            "needs_background": "light"
          }
        }
      ]
    },
    {
      "cell_type": "markdown",
      "source": [
        "###Age"
      ],
      "metadata": {
        "id": "g8v_JLjvF8w6"
      }
    },
    {
      "cell_type": "markdown",
      "source": [
        "Mapping - subjects above the average age of 28.79 are labeled as 1; 0 for below average"
      ],
      "metadata": {
        "id": "Lo1khGeGE7VP"
      }
    },
    {
      "cell_type": "code",
      "source": [
        "#@title\n",
        "mapping = {\n",
        "    '1': 1,\n",
        "    '2': 0,\n",
        "    '3': 0,\n",
        "    '4': 1,\n",
        "    '5': 0,\n",
        "    '6':0,\n",
        "    '7':1,\n",
        "    '8':0,\n",
        "    '9':1,\n",
        "    '10':1,\n",
        "    '11':0,\n",
        "    '12':1,\n",
        "    '13':1,\n",
        "    '14':1,\n",
        "    '15':1,\n",
        "    '16':1,\n",
        "    '17':0,\n",
        "    '18':0,\n",
        "    '19':0,\n",
        "    '20':0,\n",
        "    '21':0,\n",
        "    '22':1,\n",
        "    '23':0,\n",
        "    '24':0\n",
        "\n",
        "}\n"
      ],
      "metadata": {
        "id": "yy7nVcxTE6rL",
        "cellView": "form"
      },
      "execution_count": null,
      "outputs": []
    },
    {
      "cell_type": "code",
      "source": [
        "#@title\n",
        "# Create age labels\n",
        "Y4 = [mapping[i] for i in Df_Features['Sub_Num']]"
      ],
      "metadata": {
        "id": "KqCFzSxNFFX6",
        "cellView": "form"
      },
      "execution_count": null,
      "outputs": []
    },
    {
      "cell_type": "code",
      "source": [
        "#@title\n",
        "y4 = to_categorical(Y4)\n",
        "\n",
        "X_train, X_test, Y_train, Y_test = train_test_split(X, y4, test_size=0.3, random_state=0)\n",
        "#print('The number of training samples:',X_train.shape[0])\n",
        "#print('The number of test samples:',X_test.shape[0])\n",
        "\n",
        "scaler = StandardScaler()\n",
        "scaler.fit(X_train)\n",
        "# Apply transform to both the training set and the test set.\n",
        "X_train = scaler.transform(X_train)\n",
        "X_test = scaler.transform(X_test)\n",
        "\n",
        "#### Construct neural architecture for baseline model\n",
        "input_dim = X.shape[1]\n",
        "input_img = Input(shape=(input_dim,))\n",
        "d = Dense(50, activation='relu')(input_img)\n",
        "d = Dense(20, activation='relu')(d)\n",
        "output = Dense(2, activation='softmax', kernel_regularizer=l2(0.01))(d)\n",
        "model = Model(input_img,output)\n",
        "model.compile(optimizer='adam', loss='binary_crossentropy',\n",
        "                 metrics=['categorical_accuracy'])\n",
        "    \n",
        "history = model.fit(X_train, Y_train,\n",
        "                epochs=1000,\n",
        "                batch_size=100,\n",
        "                shuffle=True,\n",
        "                verbose=0,\n",
        "                validation_data=[X_test,Y_test])\n",
        "\n",
        "### Overall test accuracy\n",
        "t0=time()\n",
        "score = model.evaluate(X_test, Y_test)\n",
        "print('Neural Network (keras) accuracy:', score[1])\n",
        "print('Multi Layer Perception total_time: {:.2f} sec'.format(time()-t0))"
      ],
      "metadata": {
        "colab": {
          "base_uri": "https://localhost:8080/"
        },
        "id": "WxUh5eBJFL-e",
        "outputId": "2650c407-97d1-4c78-f9eb-6ceb067817ff",
        "cellView": "form"
      },
      "execution_count": null,
      "outputs": [
        {
          "output_type": "stream",
          "name": "stdout",
          "text": [
            "32/32 [==============================] - 0s 1ms/step - loss: 0.6394 - categorical_accuracy: 0.8879\n",
            "Neural Network (keras) accuracy: 0.8878968358039856\n",
            "Multi Layer Perception total_time: 0.11 sec\n"
          ]
        }
      ]
    },
    {
      "cell_type": "markdown",
      "source": [
        "Train and test models"
      ],
      "metadata": {
        "id": "YZ_kBQ1vGLz9"
      }
    },
    {
      "cell_type": "code",
      "source": [
        "#@title\n",
        "X_train, X_test, Y_train, Y_test = train_test_split(X, Y4, test_size=0.3, random_state=0)\n",
        "\n",
        "scaler = StandardScaler()\n",
        "scaler.fit(X_train)\n",
        "# Apply transform to both the training set and the test set.\n",
        "X_train = scaler.transform(X_train)\n",
        "X_test = scaler.transform(X_test)\n",
        "\n",
        "\n"
      ],
      "metadata": {
        "id": "P4XX_Gd4T6VG",
        "cellView": "form"
      },
      "execution_count": null,
      "outputs": []
    },
    {
      "cell_type": "markdown",
      "source": [
        "Evaluate model performance"
      ],
      "metadata": {
        "id": "hYFQBMmTGN4I"
      }
    },
    {
      "cell_type": "code",
      "source": [
        "t0=time()\n",
        "LR_L1 = LogisticRegression(C=10, penalty='l2').fit(X_train, Y_train)\n",
        "print('Logistic_regression (L1) - accuracy: {:.2f}, f1 score: {:.2f}, total_time: {:.2f} sec'.format(accuracy_score(Y_test, LR_L1.predict(X_test)),f1_score(Y_test,LR_L1.predict(X_test),average ='macro'), time()-t0))"
      ],
      "metadata": {
        "colab": {
          "base_uri": "https://localhost:8080/"
        },
        "id": "KhmUVrLHeP1J",
        "outputId": "4e0af12d-446b-4e1f-97b6-9375773a501d"
      },
      "execution_count": null,
      "outputs": [
        {
          "output_type": "stream",
          "name": "stdout",
          "text": [
            "Logistic_regression (L1) - accuracy: 0.72, f1 score: 0.71, total_time: 0.11 sec\n"
          ]
        },
        {
          "output_type": "stream",
          "name": "stderr",
          "text": [
            "/usr/local/lib/python3.7/dist-packages/sklearn/linear_model/_logistic.py:818: ConvergenceWarning: lbfgs failed to converge (status=1):\n",
            "STOP: TOTAL NO. of ITERATIONS REACHED LIMIT.\n",
            "\n",
            "Increase the number of iterations (max_iter) or scale the data as shown in:\n",
            "    https://scikit-learn.org/stable/modules/preprocessing.html\n",
            "Please also refer to the documentation for alternative solver options:\n",
            "    https://scikit-learn.org/stable/modules/linear_model.html#logistic-regression\n",
            "  extra_warning_msg=_LOGISTIC_SOLVER_CONVERGENCE_MSG,\n"
          ]
        }
      ]
    },
    {
      "cell_type": "code",
      "source": [
        "t0=time()\n",
        "LR_L2 = LogisticRegression(C=100, penalty='l2').fit(X_train, Y_train)\n",
        "print('Logistic_regression (L2) - accuracy: {:.2f}, f1 score: {:.2f}, total_time: {:.2f} sec'.format(accuracy_score(Y_test, LR_L2.predict(X_test)),f1_score(Y_test,LR_L1.predict(X_test),average ='macro'), time()-t0))"
      ],
      "metadata": {
        "colab": {
          "base_uri": "https://localhost:8080/"
        },
        "id": "mdIn3DTKeTEV",
        "outputId": "45c6eb45-ce36-4180-8b9d-43e19a70f7b0"
      },
      "execution_count": null,
      "outputs": [
        {
          "output_type": "stream",
          "name": "stdout",
          "text": [
            "Logistic_regression (L2) - accuracy: 0.72, f1 score: 0.71, total_time: 0.10 sec\n"
          ]
        },
        {
          "output_type": "stream",
          "name": "stderr",
          "text": [
            "/usr/local/lib/python3.7/dist-packages/sklearn/linear_model/_logistic.py:818: ConvergenceWarning: lbfgs failed to converge (status=1):\n",
            "STOP: TOTAL NO. of ITERATIONS REACHED LIMIT.\n",
            "\n",
            "Increase the number of iterations (max_iter) or scale the data as shown in:\n",
            "    https://scikit-learn.org/stable/modules/preprocessing.html\n",
            "Please also refer to the documentation for alternative solver options:\n",
            "    https://scikit-learn.org/stable/modules/linear_model.html#logistic-regression\n",
            "  extra_warning_msg=_LOGISTIC_SOLVER_CONVERGENCE_MSG,\n"
          ]
        }
      ]
    },
    {
      "cell_type": "code",
      "source": [
        "t0=time()\n",
        "SVM_linear = SVC(kernel=\"linear\", C=0.001).fit(X_train, Y_train)\n",
        "print('LinearSVM - accuracy: {:.2f}, f1 score: {:.2f}, total_time: {:.2f} sec'.format(accuracy_score(Y_test, SVM_linear.predict(X_test)),f1_score(Y_test,SVM_linear.predict(X_test),average ='macro'), time()-t0))\n"
      ],
      "metadata": {
        "colab": {
          "base_uri": "https://localhost:8080/"
        },
        "id": "-rB1Tk4RcfqT",
        "outputId": "c3020ee3-6849-4608-8037-d36eef2536c2"
      },
      "execution_count": null,
      "outputs": [
        {
          "output_type": "stream",
          "name": "stdout",
          "text": [
            "LinearSVM - accuracy: 0.63, f1 score: 0.57, total_time: 0.57 sec\n"
          ]
        }
      ]
    },
    {
      "cell_type": "code",
      "source": [
        "t0=time()\n",
        "SVM_rbf = SVC(kernel=\"rbf\", C=1000, gamma=1e-5).fit(X_train, Y_train)\n",
        "print('rbf_SVM - accuracy: {:.2f}, f1: {:.2f}, total_time: {:.2f} sec'.format(accuracy_score(Y_test, SVM_rbf.predict(X_test)),f1_score(Y_test,SVM_rbf.predict(X_test),average ='macro'), time()-t0))\n"
      ],
      "metadata": {
        "colab": {
          "base_uri": "https://localhost:8080/"
        },
        "id": "JAWCIgdtfFNN",
        "outputId": "8d51c772-6a19-4cc6-eeb8-f044aeee353b"
      },
      "execution_count": null,
      "outputs": [
        {
          "output_type": "stream",
          "name": "stdout",
          "text": [
            "rbf_SVM - accuracy: 0.69, f1: 0.68, total_time: 0.88 sec\n"
          ]
        }
      ]
    },
    {
      "cell_type": "code",
      "source": [
        "t0=time()\n",
        "clf = KNeighborsClassifier(5)\n",
        "KNN = clf.fit(X_train, Y_train)\n",
        "print('K- Nearest Neighbour  - accuracy: {:.2f}, f1 score: {:.2f}, total_time: {:.2f} sec'.format(accuracy_score(Y_test, KNN.predict(X_test)),f1_score(Y_test,KNN.predict(X_test),average ='macro'), time()-t0))"
      ],
      "metadata": {
        "colab": {
          "base_uri": "https://localhost:8080/"
        },
        "id": "C03LqbZgcpyI",
        "outputId": "64b1163c-38a4-45c8-c111-576ed9ad971d"
      },
      "execution_count": null,
      "outputs": [
        {
          "output_type": "stream",
          "name": "stdout",
          "text": [
            "K- Nearest Neighbour  - accuracy: 0.87, f1 score: 0.87, total_time: 0.26 sec\n"
          ]
        }
      ]
    },
    {
      "cell_type": "code",
      "source": [
        "t0=time()\n",
        "DT = DecisionTreeClassifier(criterion='entropy').fit(X_train, Y_train)\n",
        "print('Decision Tree - accuracy: {:.2f}, f1 score: {:.2f}, total_time: {:.2f} sec'.format(accuracy_score(Y_test, DT.predict(X_test)),f1_score(Y_test,DT.predict(X_test),average ='macro'), time()-t0))"
      ],
      "metadata": {
        "colab": {
          "base_uri": "https://localhost:8080/"
        },
        "id": "WstG5Kz9ez-l",
        "outputId": "6e09d040-ec76-4914-d403-7e91aeba5d2c"
      },
      "execution_count": null,
      "outputs": [
        {
          "output_type": "stream",
          "name": "stdout",
          "text": [
            "Decision Tree - accuracy: 0.86, f1 score: 0.86, total_time: 0.32 sec\n"
          ]
        }
      ]
    },
    {
      "cell_type": "code",
      "source": [
        "#@title\n",
        "t0=time()\n",
        "RF = RandomForestClassifier(criterion='entropy',n_estimators=1000).fit(X_train, Y_train)\n",
        "print('Random Forest - accuracy: {:.2f}, f1 score: {:.2f}, total_time: {:.2f} sec'.format(accuracy_score(Y_test, RF.predict(X_test)),f1_score(Y_test,RF.predict(X_test),average ='macro'), time()-t0))"
      ],
      "metadata": {
        "colab": {
          "base_uri": "https://localhost:8080/"
        },
        "id": "JUxj_h8sfSda",
        "outputId": "7844e104-3bf9-4885-ec47-051e3ddfb362"
      },
      "execution_count": null,
      "outputs": [
        {
          "output_type": "stream",
          "name": "stdout",
          "text": [
            "Random Forest - accuracy: 0.95, f1 score: 0.95, total_time: 25.10 sec\n"
          ]
        }
      ]
    },
    {
      "cell_type": "code",
      "source": [
        "#@title\n",
        "print('LinearSVM - accuracy: {:.2f}, f1: {:.2f}'.format(accuracy_score(Y_test, SVM_linear.predict(X_test)),f1_score(Y_test,SVM_linear.predict(X_test),average ='macro')))\n",
        "print('rbf_SVM - accuracy: {:.2f}, f1: {:.2f}'.format(accuracy_score(Y_test, SVM_rbf.predict(X_test)),f1_score(Y_test,SVM_rbf.predict(X_test),average ='macro')))\n",
        "print('Logistic_regression (L1) - accuracy: {:.2f}, f1: {:.2f}'.format(accuracy_score(Y_test, LR_L1.predict(X_test)),f1_score(Y_test,LR_L1.predict(X_test),average ='macro')))\n",
        "print('Logistic_regression (L2) - accuracy: {:.2f}, f1: {:.2f}'.format(accuracy_score(Y_test, LR_L2.predict(X_test)),f1_score(Y_test,LR_L2.predict(X_test),average ='macro')))\n",
        "print('Decision tree - accuracy: {:.2f}, f1: {:.2f}'.format(accuracy_score(Y_test, DT.predict(X_test)),f1_score(Y_test,DT.predict(X_test),average ='macro')))\n",
        "print('Random Forest - accuracy: {:.2f}, f1: {:.2f}'.format(accuracy_score(Y_test, RF.predict(X_test)),f1_score(Y_test,RF.predict(X_test),average ='macro')))\n",
        "print('K- Nearest Neighbour - accuracy: {:.2f}, f1: {:.2f}'.format(accuracy_score(Y_test, KNN.predict(X_test)),f1_score(Y_test,KNN.predict(X_test),average ='macro')))\n"
      ],
      "metadata": {
        "colab": {
          "base_uri": "https://localhost:8080/"
        },
        "id": "1xtbKM9qUAWp",
        "outputId": "fba6964c-52ec-421c-9d85-2c0ff2ba6d37",
        "cellView": "form"
      },
      "execution_count": null,
      "outputs": [
        {
          "output_type": "stream",
          "name": "stdout",
          "text": [
            "LinearSVM - accuracy: 0.63, f1: 0.57\n",
            "rbf_SVM - accuracy: 0.69, f1: 0.68\n",
            "Logistic_regression (L1) - accuracy: 0.72, f1: 0.71\n",
            "Logistic_regression (L2) - accuracy: 0.72, f1: 0.72\n",
            "Decision tree - accuracy: 0.86, f1: 0.86\n",
            "Random Forest - accuracy: 0.95, f1: 0.95\n",
            "K- Nearest Neighbour - accuracy: 0.87, f1: 0.87\n"
          ]
        }
      ]
    },
    {
      "cell_type": "code",
      "source": [
        "#@title\n",
        "### Confusion matrix (predictive performance on different classes)\n",
        "def plot_confusion_matrix(cm, classes,\n",
        "                          normalize=False,\n",
        "                          title='Confusion matrix',\n",
        "                          cmap=plt.cm.Blues):\n",
        "    \"\"\"\n",
        "    function provided by sklearn example\n",
        "    \"\"\"\n",
        "    if normalize:\n",
        "        cm = cm.astype('float') / cm.sum(axis=1)[:, np.newaxis]\n",
        "        print(\"Age - Random Forest Confusion Matrix\")\n",
        "    else:\n",
        "        print('Age - Random Forest Confusion Matrix')\n",
        "\n",
        "    print(cm)\n",
        "\n",
        "cnf_matrix = confusion_matrix(Y_test, RF.predict(X_test))\n",
        "plot_confusion_matrix(cnf_matrix, classes=activity_types,\n",
        "                      title='Age - Random Forest Confusion Matrix')"
      ],
      "metadata": {
        "colab": {
          "base_uri": "https://localhost:8080/"
        },
        "cellView": "form",
        "id": "JGD-qQbd-6cN",
        "outputId": "6dcba164-c14e-478d-be2b-271f0c8bb22a"
      },
      "execution_count": null,
      "outputs": [
        {
          "output_type": "stream",
          "name": "stdout",
          "text": [
            "Age - Random Forest Confusion Matrix\n",
            "[[524  27]\n",
            " [ 27 430]]\n"
          ]
        }
      ]
    },
    {
      "cell_type": "code",
      "source": [
        "RF = RandomForestClassifier(criterion='entropy',n_estimators=1000).fit(X_train, Y_train)\n",
        "print('Random Forest accuracy:',accuracy_score(Y_test, RF.predict(X_test)))\n",
        "plot_keyFeat_trees(RF, X_names, 'Random Forest - feature importance in predicting age', top_features=12)"
      ],
      "metadata": {
        "colab": {
          "base_uri": "https://localhost:8080/",
          "height": 481
        },
        "id": "yJg89aM0W70_",
        "outputId": "47c75cca-aeff-4221-e685-65258651fcc3"
      },
      "execution_count": null,
      "outputs": [
        {
          "output_type": "stream",
          "name": "stdout",
          "text": [
            "Random Forest accuracy: 0.9474206349206349\n"
          ]
        },
        {
          "output_type": "display_data",
          "data": {
            "text/plain": [
              "<Figure size 432x288 with 0 Axes>"
            ]
          },
          "metadata": {}
        },
        {
          "output_type": "display_data",
          "data": {
            "image/png": "[encoded data removed]",
            "text/plain": [
              "<Figure size 1080x360 with 1 Axes>"
            ]
          },
          "metadata": {
            "needs_background": "light"
          }
        }
      ]
    },
    {
      "cell_type": "markdown",
      "source": [
        "###**Height**"
      ],
      "metadata": {
        "id": "bziYShRuGRcw"
      }
    },
    {
      "cell_type": "markdown",
      "source": [
        "Mapping - the trail participants with above average height of 174.2cm are labeled as 1; 0 for below average"
      ],
      "metadata": {
        "id": "PqHhNTzPFVEo"
      }
    },
    {
      "cell_type": "code",
      "source": [
        "#@title\n",
        "mapping = {\n",
        "    '1': 1,\n",
        "    '2': 1,\n",
        "    '3': 0,\n",
        "    '4': 1,\n",
        "    '5': 0,\n",
        "    '6':1,\n",
        "    '7':1,\n",
        "    '8':0,\n",
        "    '9':1,\n",
        "    '10':0,\n",
        "    '11':1,\n",
        "    '12':0,\n",
        "    '13':1,\n",
        "    '14':1,\n",
        "    '15':1,\n",
        "    '16':0,\n",
        "    '17':1,\n",
        "    '18':0,\n",
        "    '19':0,\n",
        "    '20':1,\n",
        "    '21':0,\n",
        "    '22':1,\n",
        "    '23':0,\n",
        "    '24':0\n",
        "\n",
        "}\n"
      ],
      "metadata": {
        "id": "2SFWtYtJGQUP",
        "cellView": "form"
      },
      "execution_count": null,
      "outputs": []
    },
    {
      "cell_type": "code",
      "source": [
        "#@title\n",
        "# Create age labels\n",
        "Y5 = [mapping[i] for i in Df_Features['Sub_Num']]"
      ],
      "metadata": {
        "id": "x2gmrR3eGSLk",
        "cellView": "form"
      },
      "execution_count": null,
      "outputs": []
    },
    {
      "cell_type": "code",
      "source": [
        "#@title\n",
        "y5 = to_categorical(Y5)\n",
        "\n",
        "X_train, X_test, Y_train, Y_test = train_test_split(X, y5, test_size=0.3, random_state=0)\n",
        "#print('The number of training samples:',X_train.shape[0])\n",
        "#print('The number of test samples:',X_test.shape[0])\n",
        "\n",
        "from sklearn.preprocessing import StandardScaler\n",
        "scaler = StandardScaler()\n",
        "\n",
        "scaler.fit(X_train)\n",
        "# Apply transform to both the training set and the test set.\n",
        "X_train = scaler.transform(X_train)\n",
        "X_test = scaler.transform(X_test)\n",
        "\n",
        "#### Construct neural architecture for baseline model\n",
        "input_dim = X.shape[1]\n",
        "input_img = Input(shape=(input_dim,))\n",
        "d = Dense(50, activation='relu')(input_img)\n",
        "d = Dense(20, activation='relu')(d)\n",
        "output = Dense(2, activation='softmax', kernel_regularizer=l2(0.01))(d)\n",
        "model = Model(input_img,output)\n",
        "model.compile(optimizer='adam', loss='binary_crossentropy',\n",
        "                 metrics=['categorical_accuracy'])\n",
        "    \n",
        "history = model.fit(X_train, Y_train,\n",
        "                epochs=1000,\n",
        "                batch_size=100,\n",
        "                shuffle=True,\n",
        "                verbose=0,\n",
        "                validation_data=[X_test,Y_test])\n",
        "\n",
        "### Overall test accuracy\n",
        "t0=time()\n",
        "score = model.evaluate(X_test, Y_test)\n",
        "print('Neural Network (keras) accuracy:', score[1])\n",
        "print('Multi Layer Perception total_time: {:.2f} sec'.format(time()-t0))"
      ],
      "metadata": {
        "colab": {
          "base_uri": "https://localhost:8080/"
        },
        "id": "0FLec5U1GR9O",
        "outputId": "d52aa9e6-3b6a-4bca-a96d-35d4bca7ac9c",
        "cellView": "form"
      },
      "execution_count": null,
      "outputs": [
        {
          "output_type": "stream",
          "name": "stdout",
          "text": [
            "32/32 [==============================] - 0s 1ms/step - loss: 0.7830 - categorical_accuracy: 0.8661\n",
            "Neural Network (keras) accuracy: 0.8660714030265808\n",
            "Multi Layer Perception total_time: 0.11 sec\n"
          ]
        }
      ]
    },
    {
      "cell_type": "markdown",
      "source": [
        "Train and test models"
      ],
      "metadata": {
        "id": "Z3vbCPUuG6DV"
      }
    },
    {
      "cell_type": "code",
      "source": [
        "#@title\n",
        "X_train, X_test, Y_train, Y_test = train_test_split(X, Y5, test_size=0.3, random_state=0)\n",
        "\n",
        "LR_L1 = LogisticRegression(C=10, penalty='l2').fit(X_train, Y_train)\n",
        "LR_L2 = LogisticRegression(C=100, penalty='l2').fit(X_train, Y_train)\n",
        "SVM_linear = SVC(kernel=\"linear\", C=0.001).fit(X_train, Y_train)\n",
        "SVM_rbf = SVC(kernel=\"rbf\", C=1000, gamma=1e-5).fit(X_train, Y_train)\n",
        "DT = DecisionTreeClassifier(criterion='entropy').fit(X_train, Y_train)\n",
        "RF = RandomForestClassifier(criterion='entropy',n_estimators=1000).fit(X_train, Y_train)\n",
        "clf = KNeighborsClassifier(5)\n",
        "KNN = clf.fit(X_train, Y_train)"
      ],
      "metadata": {
        "id": "gbvKbvgjG_kE",
        "cellView": "form",
        "colab": {
          "base_uri": "https://localhost:8080/"
        },
        "outputId": "9518b44b-2f22-47b5-bf56-8d796a78656f"
      },
      "execution_count": null,
      "outputs": [
        {
          "output_type": "stream",
          "name": "stderr",
          "text": [
            "/usr/local/lib/python3.7/dist-packages/sklearn/linear_model/_logistic.py:818: ConvergenceWarning: lbfgs failed to converge (status=1):\n",
            "STOP: TOTAL NO. of ITERATIONS REACHED LIMIT.\n",
            "\n",
            "Increase the number of iterations (max_iter) or scale the data as shown in:\n",
            "    https://scikit-learn.org/stable/modules/preprocessing.html\n",
            "Please also refer to the documentation for alternative solver options:\n",
            "    https://scikit-learn.org/stable/modules/linear_model.html#logistic-regression\n",
            "  extra_warning_msg=_LOGISTIC_SOLVER_CONVERGENCE_MSG,\n",
            "/usr/local/lib/python3.7/dist-packages/sklearn/linear_model/_logistic.py:818: ConvergenceWarning: lbfgs failed to converge (status=1):\n",
            "STOP: TOTAL NO. of ITERATIONS REACHED LIMIT.\n",
            "\n",
            "Increase the number of iterations (max_iter) or scale the data as shown in:\n",
            "    https://scikit-learn.org/stable/modules/preprocessing.html\n",
            "Please also refer to the documentation for alternative solver options:\n",
            "    https://scikit-learn.org/stable/modules/linear_model.html#logistic-regression\n",
            "  extra_warning_msg=_LOGISTIC_SOLVER_CONVERGENCE_MSG,\n"
          ]
        }
      ]
    },
    {
      "cell_type": "code",
      "source": [
        "t0=time()\n",
        "LR_L1 = LogisticRegression(C=10, penalty='l2').fit(X_train, Y_train)\n",
        "print('Logistic_regression (L1) - accuracy: {:.2f}, f1 score: {:.2f}, total_time: {:.2f} sec'.format(accuracy_score(Y_test, LR_L1.predict(X_test)),f1_score(Y_test,LR_L1.predict(X_test),average ='macro'), time()-t0))"
      ],
      "metadata": {
        "colab": {
          "base_uri": "https://localhost:8080/"
        },
        "id": "aqOf1xDPcV-0",
        "outputId": "30c56e3a-a198-4647-de57-d96075ffacd8"
      },
      "execution_count": null,
      "outputs": [
        {
          "output_type": "stream",
          "name": "stdout",
          "text": [
            "Logistic_regression (L1) - accuracy: 0.73, f1 score: 0.73, total_time: 0.15 sec\n"
          ]
        },
        {
          "output_type": "stream",
          "name": "stderr",
          "text": [
            "/usr/local/lib/python3.7/dist-packages/sklearn/linear_model/_logistic.py:818: ConvergenceWarning: lbfgs failed to converge (status=1):\n",
            "STOP: TOTAL NO. of ITERATIONS REACHED LIMIT.\n",
            "\n",
            "Increase the number of iterations (max_iter) or scale the data as shown in:\n",
            "    https://scikit-learn.org/stable/modules/preprocessing.html\n",
            "Please also refer to the documentation for alternative solver options:\n",
            "    https://scikit-learn.org/stable/modules/linear_model.html#logistic-regression\n",
            "  extra_warning_msg=_LOGISTIC_SOLVER_CONVERGENCE_MSG,\n"
          ]
        }
      ]
    },
    {
      "cell_type": "code",
      "source": [
        "t0=time()\n",
        "LR_L2 = LogisticRegression(C=100, penalty='l2').fit(X_train, Y_train)\n",
        "print('Logistic_regression (L2) - accuracy: {:.2f}, f1 score: {:.2f}, total_time: {:.2f} sec'.format(accuracy_score(Y_test, LR_L2.predict(X_test)),f1_score(Y_test,LR_L1.predict(X_test),average ='macro'), time()-t0))"
      ],
      "metadata": {
        "colab": {
          "base_uri": "https://localhost:8080/"
        },
        "id": "2dnNmB0ncZ6U",
        "outputId": "1059d527-c9dc-4e31-f7ac-8cae14b9b4ef"
      },
      "execution_count": null,
      "outputs": [
        {
          "output_type": "stream",
          "name": "stdout",
          "text": [
            "Logistic_regression (L2) - accuracy: 0.74, f1 score: 0.73, total_time: 0.12 sec\n"
          ]
        },
        {
          "output_type": "stream",
          "name": "stderr",
          "text": [
            "/usr/local/lib/python3.7/dist-packages/sklearn/linear_model/_logistic.py:818: ConvergenceWarning: lbfgs failed to converge (status=1):\n",
            "STOP: TOTAL NO. of ITERATIONS REACHED LIMIT.\n",
            "\n",
            "Increase the number of iterations (max_iter) or scale the data as shown in:\n",
            "    https://scikit-learn.org/stable/modules/preprocessing.html\n",
            "Please also refer to the documentation for alternative solver options:\n",
            "    https://scikit-learn.org/stable/modules/linear_model.html#logistic-regression\n",
            "  extra_warning_msg=_LOGISTIC_SOLVER_CONVERGENCE_MSG,\n"
          ]
        }
      ]
    },
    {
      "cell_type": "code",
      "source": [
        "t0=time()\n",
        "SVM_linear = SVC(kernel=\"linear\", C=0.001).fit(X_train, Y_train)\n",
        "print('LinearSVM - accuracy: {:.2f}, f1 score: {:.2f}, total_time: {:.2f} sec'.format(accuracy_score(Y_test, SVM_linear.predict(X_test)),f1_score(Y_test,SVM_linear.predict(X_test),average ='macro'), time()-t0))\n"
      ],
      "metadata": {
        "colab": {
          "base_uri": "https://localhost:8080/"
        },
        "id": "tiI264jSeqn_",
        "outputId": "52d7404d-fb3d-458a-cb05-a13434c1e4cd"
      },
      "execution_count": null,
      "outputs": [
        {
          "output_type": "stream",
          "name": "stdout",
          "text": [
            "LinearSVM - accuracy: 0.62, f1 score: 0.62, total_time: 0.61 sec\n"
          ]
        }
      ]
    },
    {
      "cell_type": "code",
      "source": [
        "t0=time()\n",
        "SVM_rbf = SVC(kernel=\"rbf\", C=1000, gamma=1e-5).fit(X_train, Y_train)\n",
        "print('rbf_SVM - accuracy: {:.2f}, f1: {:.2f}, total_time: {:.2f} sec'.format(accuracy_score(Y_test, SVM_rbf.predict(X_test)),f1_score(Y_test,SVM_rbf.predict(X_test),average ='macro'), time()-t0))\n"
      ],
      "metadata": {
        "colab": {
          "base_uri": "https://localhost:8080/"
        },
        "id": "gSbrf5McfIPJ",
        "outputId": "f9950178-769a-40e3-9070-81735d02e3e0"
      },
      "execution_count": null,
      "outputs": [
        {
          "output_type": "stream",
          "name": "stdout",
          "text": [
            "rbf_SVM - accuracy: 0.71, f1: 0.71, total_time: 0.92 sec\n"
          ]
        }
      ]
    },
    {
      "cell_type": "code",
      "source": [
        "t0=time()\n",
        "clf = KNeighborsClassifier(5)\n",
        "KNN = clf.fit(X_train, Y_train)\n",
        "print('K- Nearest Neighbour  - accuracy: {:.2f}, f1 score: {:.2f}, total_time: {:.2f} sec'.format(accuracy_score(Y_test, KNN.predict(X_test)),f1_score(Y_test,KNN.predict(X_test),average ='macro'), time()-t0))"
      ],
      "metadata": {
        "colab": {
          "base_uri": "https://localhost:8080/"
        },
        "id": "oNDKExEaep6K",
        "outputId": "d9a3f7fa-b122-4862-8344-0ebbff33ae35"
      },
      "execution_count": null,
      "outputs": [
        {
          "output_type": "stream",
          "name": "stdout",
          "text": [
            "K- Nearest Neighbour  - accuracy: 0.88, f1 score: 0.88, total_time: 0.26 sec\n"
          ]
        }
      ]
    },
    {
      "cell_type": "code",
      "source": [
        "t0=time()\n",
        "DT = DecisionTreeClassifier(criterion='entropy').fit(X_train, Y_train)\n",
        "print('Decision Tree - accuracy: {:.2f}, f1 score: {:.2f}, total_time: {:.2f} sec'.format(accuracy_score(Y_test, DT.predict(X_test)),f1_score(Y_test,DT.predict(X_test),average ='macro'), time()-t0))"
      ],
      "metadata": {
        "colab": {
          "base_uri": "https://localhost:8080/"
        },
        "id": "c4TJbhMOe1Vh",
        "outputId": "25f9005b-c668-4b6e-dbb8-abfef219001a"
      },
      "execution_count": null,
      "outputs": [
        {
          "output_type": "stream",
          "name": "stdout",
          "text": [
            "Decision Tree - accuracy: 0.90, f1 score: 0.90, total_time: 0.27 sec\n"
          ]
        }
      ]
    },
    {
      "cell_type": "code",
      "source": [
        "#@title\n",
        "t0=time()\n",
        "RF = RandomForestClassifier(criterion='entropy',n_estimators=1000).fit(X_train, Y_train)\n",
        "print('Random Forest - accuracy: {:.2f}, f1 score: {:.2f}, total_time: {:.2f} sec'.format(accuracy_score(Y_test, RF.predict(X_test)),f1_score(Y_test,RF.predict(X_test),average ='macro'), time()-t0))"
      ],
      "metadata": {
        "colab": {
          "base_uri": "https://localhost:8080/"
        },
        "id": "BdA3G3-lfUVL",
        "outputId": "9c5045d6-ec49-414e-84f9-e9da1b831b1b"
      },
      "execution_count": null,
      "outputs": [
        {
          "output_type": "stream",
          "name": "stdout",
          "text": [
            "Random Forest - accuracy: 0.96, f1 score: 0.96, total_time: 23.85 sec\n"
          ]
        }
      ]
    },
    {
      "cell_type": "code",
      "source": [
        "RF = RandomForestClassifier(criterion='entropy',n_estimators=1000).fit(X_train, Y_train)\n",
        "print('Random Forest accuracy:',accuracy_score(Y_test, RF.predict(X_test)))\n",
        "plot_keyFeat_trees(RF, X_names, 'Random Forest - feature importance in predicting height', top_features=12)"
      ],
      "metadata": {
        "colab": {
          "base_uri": "https://localhost:8080/",
          "height": 480
        },
        "id": "EgeYjbEtW-Au",
        "outputId": "e80a7d26-21fa-4c74-a59a-0c3dbf34801f"
      },
      "execution_count": null,
      "outputs": [
        {
          "output_type": "stream",
          "name": "stdout",
          "text": [
            "Random Forest accuracy: 0.9642857142857143\n"
          ]
        },
        {
          "output_type": "display_data",
          "data": {
            "text/plain": [
              "<Figure size 432x288 with 0 Axes>"
            ]
          },
          "metadata": {}
        },
        {
          "output_type": "display_data",
          "data": {
            "image/png": "[encoded data removed]",
            "text/plain": [
              "<Figure size 1080x360 with 1 Axes>"
            ]
          },
          "metadata": {
            "needs_background": "light"
          }
        }
      ]
    },
    {
      "cell_type": "markdown",
      "source": [
        "Evaluate model performance"
      ],
      "metadata": {
        "id": "cHOX8VwQG81P"
      }
    },
    {
      "cell_type": "code",
      "source": [
        "#@title\n",
        "print('LinearSVM - accuracy: {:.2f}, f1: {:.2f}'.format(accuracy_score(Y_test, SVM_linear.predict(X_test)),f1_score(Y_test,SVM_linear.predict(X_test),average ='macro')))\n",
        "print('rbf_SVM - accuracy: {:.2f}, f1: {:.2f}'.format(accuracy_score(Y_test, SVM_rbf.predict(X_test)),f1_score(Y_test,SVM_rbf.predict(X_test),average ='macro')))\n",
        "print('Logistic_regression (L1) - accuracy: {:.2f}, f1: {:.2f}'.format(accuracy_score(Y_test, LR_L1.predict(X_test)),f1_score(Y_test,LR_L1.predict(X_test),average ='macro')))\n",
        "print('Logistic_regression (L2) - accuracy: {:.2f}, f1: {:.2f}'.format(accuracy_score(Y_test, LR_L2.predict(X_test)),f1_score(Y_test,LR_L2.predict(X_test),average ='macro')))\n",
        "print('Decision tree - accuracy: {:.2f}, f1: {:.2f}'.format(accuracy_score(Y_test, DT.predict(X_test)),f1_score(Y_test,DT.predict(X_test),average ='macro')))\n",
        "print('Random Forest - accuracy: {:.2f}, f1: {:.2f}'.format(accuracy_score(Y_test, RF.predict(X_test)),f1_score(Y_test,RF.predict(X_test),average ='macro')))\n",
        "print('K- Nearest Neighbour - accuracy: {:.2f}, f1: {:.2f}'.format(accuracy_score(Y_test, KNN.predict(X_test)),f1_score(Y_test,KNN.predict(X_test),average ='macro')))"
      ],
      "metadata": {
        "colab": {
          "base_uri": "https://localhost:8080/"
        },
        "id": "R4zQKyCnTe2T",
        "outputId": "2147b365-afb7-4181-c1cf-beded1926202",
        "cellView": "form"
      },
      "execution_count": null,
      "outputs": [
        {
          "output_type": "stream",
          "name": "stdout",
          "text": [
            "LinearSVM - accuracy: 0.62, f1: 0.62\n",
            "rbf_SVM - accuracy: 0.71, f1: 0.71\n",
            "Logistic_regression (L1) - accuracy: 0.73, f1: 0.73\n",
            "Logistic_regression (L2) - accuracy: 0.74, f1: 0.73\n",
            "Decision tree - accuracy: 0.90, f1: 0.90\n",
            "Random Forest - accuracy: 0.96, f1: 0.96\n",
            "K- Nearest Neighbour - accuracy: 0.88, f1: 0.88\n"
          ]
        }
      ]
    },
    {
      "cell_type": "code",
      "source": [
        "#@title\n",
        "### Confusion matrix (predictive performance on different classes)\n",
        "def plot_confusion_matrix(cm, classes,\n",
        "                          normalize=False,\n",
        "                          title='Confusion matrix',\n",
        "                          cmap=plt.cm.Blues):\n",
        "    \"\"\"\n",
        "    function provided by sklearn example\n",
        "    \"\"\"\n",
        "    if normalize:\n",
        "        cm = cm.astype('float') / cm.sum(axis=1)[:, np.newaxis]\n",
        "        print(\"Height - Random Forest Confusion Matrix\")\n",
        "    else:\n",
        "        print('Height - Random Forest Confusion Matrix')\n",
        "\n",
        "    print(cm)\n",
        "\n",
        "cnf_matrix = confusion_matrix(Y_test, RF.predict(X_test))\n",
        "plot_confusion_matrix(cnf_matrix, classes=activity_types,\n",
        "                      title='Height - Random Forest Confusion Matrix')"
      ],
      "metadata": {
        "colab": {
          "base_uri": "https://localhost:8080/"
        },
        "id": "dqK5eXgaSRBD",
        "outputId": "299685e9-d686-4d84-a4d4-3a66a1715625",
        "cellView": "form"
      },
      "execution_count": null,
      "outputs": [
        {
          "output_type": "stream",
          "name": "stdout",
          "text": [
            "Height - Random Forest Confusion Matrix\n",
            "[[451  14]\n",
            " [ 22 521]]\n"
          ]
        }
      ]
    },
    {
      "cell_type": "markdown",
      "source": [
        "###Summary"
      ],
      "metadata": {
        "id": "dpcNCCdWMU8l"
      }
    },
    {
      "cell_type": "markdown",
      "source": [
        "Performance of the models varied significantly with the Random Forest Classifier having the highest accuracy for each variable. Models ranged in accuracy of predicting gender 70% to 97%, height 62% to 96%, age 63% to 94% and weight from 61% to 96% accuracy. \n",
        "\n",
        "Confusion matrices showed that the Random Tree models for gender, weight and height had a higher number of false positives and age a higher number of false negatives. The false positives incorrectly predicted that gender was male or weight and height were above average. The false negative incorrectly predicted an age lower than the average."
      ],
      "metadata": {
        "id": "ytaFv4YyMY_6"
      }
    }
  ]
}
