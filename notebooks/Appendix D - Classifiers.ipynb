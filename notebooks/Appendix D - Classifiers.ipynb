{
  "nbformat": 4,
  "nbformat_minor": 0,
  "metadata": {
    "colab": {
      "name": "Grouped.ipynb",
      "provenance": [],
      "collapsed_sections": []
    },
    "kernelspec": {
      "name": "python3",
      "display_name": "Python 3"
    },
    "language_info": {
      "name": "python"
    }
  },
  "cells": [
    {
      "cell_type": "markdown",
      "source": [
        "#Model assessment"
      ],
      "metadata": {
        "id": "yw_NIy_h_-aY"
      }
    },
    {
      "cell_type": "markdown",
      "source": [
        "Connect to Google Drive, load libraries, reference"
      ],
      "metadata": {
        "id": "N9x4eHyT_xtF"
      }
    },
    {
      "cell_type": "code",
      "execution_count": 134,
      "metadata": {
        "id": "mJxLrgvgytqk",
        "collapsed": true,
        "cellView": "form",
        "colab": {
          "base_uri": "https://localhost:8080/"
        },
        "outputId": "56411815-7f7a-4c8b-f9fa-fa1a0e634c45"
      },
      "outputs": [
        {
          "output_type": "stream",
          "name": "stdout",
          "text": [
            "Drive already mounted at /gdrive; to attempt to forcibly remount, call drive.mount(\"/gdrive\", force_remount=True).\n",
            "/gdrive\n",
            "/gdrive/MyDrive/CSC8635\n",
            "Tensorflow version 2.7.0\n",
            "WARNING:tensorflow:There are non-GPU devices in `tf.distribute.Strategy`, not using nccl allreduce.\n",
            "INFO:tensorflow:Using MirroredStrategy with devices ('/job:localhost/replica:0/task:0/device:CPU:0',)\n"
          ]
        }
      ],
      "source": [
        "#@title\n",
        "from google.colab import drive\n",
        "drive.mount('/gdrive')\n",
        "%cd /gdrive\n",
        "%cd /gdrive/MyDrive/CSC8635/\n",
        "\n",
        "## set up the libraries that are needed to run the analysis\n",
        "from mpl_toolkits.mplot3d import Axes3D\n",
        "from sklearn.preprocessing import StandardScaler\n",
        "import matplotlib.pyplot as plt # plotting\n",
        "import numpy as np # linear algebra\n",
        "import os # accessing directory structure\n",
        "import pandas as pd # data processing, CSV file I/O (e.g. pd.read_csv)\n",
        "import keras\n",
        "import itertools\n",
        "import re, time\n",
        "import tensorflow as tf\n",
        "\n",
        "from sklearn.metrics import accuracy_score\n",
        "from sklearn.model_selection import train_test_split\n",
        "from sklearn.metrics import confusion_matrix\n",
        "\n",
        "from keras.datasets import mnist\n",
        "from keras.callbacks import TensorBoard\n",
        "from keras.layers import Input, Dense\n",
        "from keras.models import Model\n",
        "from keras.regularizers import l2\n",
        "from tensorflow.keras.utils import to_categorical\n",
        "\n",
        "from keras.models import Sequential\n",
        "from keras.layers import Dense, Activation, Dropout\n",
        "from keras.utils import np_utils\n",
        "\n",
        "from time import time\n",
        "from sklearn.linear_model import LogisticRegression\n",
        "from sklearn.ensemble import RandomForestClassifier\n",
        "from sklearn.neighbors import KNeighborsClassifier\n",
        "from sklearn.tree import DecisionTreeClassifier\n",
        "from sklearn.svm import SVC\n",
        "from sklearn.metrics import accuracy_score, f1_score\n",
        "\n",
        "from keras.layers import Dense, Dropout, Flatten\n",
        "from keras.layers import Conv2D, MaxPooling2D\n",
        "from keras import backend as K\n",
        "\n",
        "batch_size = 128\n",
        "num_classes = 10\n",
        "epochs = 5\n",
        "from matplotlib import pyplot as plt\n",
        "print(\"Tensorflow version \" + tf.__version__)\n",
        "AUTOTUNE = tf.data.AUTOTUNE\n",
        "try: # detect TPUs\n",
        "    tpu = tf.distribute.cluster_resolver.TPUClusterResolver.connect() # TPU detection\n",
        "    strategy = tf.distribute.TPUStrategy(tpu)\n",
        "except ValueError: # detect GPUs\n",
        "    strategy = tf.distribute.MirroredStrategy() # for GPU or multi-GPU machines\n",
        "    #strategy = tf.distribute.get_strategy() # default strategy that works on CPU and single GPU\n",
        "    #strategy = tf.distribute.experimental.MultiWorkerMirroredStrategy() # for clusters of multi-GPU machines\n",
        "#print(\"Number of accelerators: \", strategy.num_replicas_in_sync)\n",
        "\n",
        "#Based on code: https://www.kaggle.com/teaprint/my-analysis-on-motion-sensor-data"
      ]
    },
    {
      "cell_type": "markdown",
      "source": [
        "Load data"
      ],
      "metadata": {
        "id": "Li7gNuW7_8Yv"
      }
    },
    {
      "cell_type": "code",
      "source": [
        "#@title\n",
        "#set up for machine learning\n",
        "import numpy as np # linear algebra\n",
        "import pandas as pd # data processing, CSV file I/O (e.g. pd.read_csv)\n",
        "import matplotlib.pyplot as plt\n",
        "%matplotlib inline\n",
        "from glob import glob\n",
        "import sklearn\n",
        "import tensorflow as tf\n",
        "\n",
        "import os\n",
        "#print(os.listdir(\"A_DeviceMotion_data/A_DeviceMotion_data\"))\n",
        "\n",
        "# Data Folders:\n",
        "Folders = glob('A_DeviceMotion_data/A_DeviceMotion_data/*_*')\n",
        "Folders = [s for s in Folders if \"csv\" not in s]\n",
        "\n",
        "Df_all_list = []\n",
        "Exp = 0\n",
        "# Segment the data to 400 samples frames , each one will be a different experiment\n",
        "Segment_Size = 400\n",
        "\n",
        "# Activity types dict:\n",
        "activity_codes = {'dws':1,'jog':2,'sit':3,'std':4,'ups':5,'wlk':6}        \n",
        "activity_types = list(activity_codes.keys())\n",
        "\n",
        "# Load All data:\n",
        "for j  in Folders:\n",
        "  Csv = glob(j + '/*' )\n",
        "  for i in Csv:\n",
        "    df = pd.read_csv(i)\n",
        "    df['Activity'] = activity_codes[j[40:43]]\n",
        "    df['Sub_Num'] = i[len(j)+5:-4]\n",
        "    df['Exp_num'] = 1\n",
        "    ExpNum = np.zeros((df.shape[0])) \n",
        "    for i in range(0,df.shape[0]-Segment_Size,Segment_Size):\n",
        "      ExpNum[range(i,i+Segment_Size)] = i/Segment_Size +Exp*100 \n",
        "    df['Exp_num'] = ExpNum\n",
        "    #Df_all = pd.concat([Df_all,df])\n",
        "    Df_all_list.append(df)\n",
        "    Exp += 1        \n",
        "Df_all = pd.concat(Df_all_list,axis=0)  \n",
        "print(f'The data has been loaded.')\n",
        "print(f'The dimensions of the complete dataset are {Df_all.shape}.')\n",
        "print(f'The 16 column headers are {Df_all.columns}.')\n",
        "#check unique values for the participants\n",
        "#np.unique(Df_all['Sub_Num'])"
      ],
      "metadata": {
        "colab": {
          "base_uri": "https://localhost:8080/"
        },
        "id": "LGTMSlLxEC37",
        "outputId": "eee8ade0-761f-45ed-af96-53151fdbbf79",
        "cellView": "form"
      },
      "execution_count": 135,
      "outputs": [
        {
          "output_type": "stream",
          "name": "stdout",
          "text": [
            "The data has been loaded.\n",
            "The dimensions of the complete dataset are (1412865, 16).\n",
            "The 16 column headers are Index(['Unnamed: 0', 'attitude.roll', 'attitude.pitch', 'attitude.yaw',\n",
            "       'gravity.x', 'gravity.y', 'gravity.z', 'rotationRate.x',\n",
            "       'rotationRate.y', 'rotationRate.z', 'userAcceleration.x',\n",
            "       'userAcceleration.y', 'userAcceleration.z', 'Activity', 'Sub_Num',\n",
            "       'Exp_num'],\n",
            "      dtype='object').\n"
          ]
        }
      ]
    },
    {
      "cell_type": "markdown",
      "source": [
        "Feature engineering (group by Experiment Number, sum, sum of squares, max, min, skew, standard deviation), set up X and Y, response variable is activity type"
      ],
      "metadata": {
        "id": "LlSHOrjhyhha"
      }
    },
    {
      "cell_type": "code",
      "source": [
        "#@title\n",
        "#  Calculate features\n",
        "df_sum = Df_all.groupby('Exp_num', axis=0).mean().reset_index()\n",
        "df_sum.columns = df_sum.columns.str.replace('.','_sum_')\n",
        "\n",
        "df_sum_SS = np.power(Df_all.astype(float),2).groupby('Exp_num', axis=0).median().reset_index() \n",
        "df_sum_SS.columns = df_sum_SS.columns.str.replace('.','_sumSS_')\n",
        "\n",
        "df_max = Df_all.groupby('Exp_num', axis=0).max().reset_index()\n",
        "df_max.columns = df_max.columns.str.replace('.','_max_')\n",
        "\n",
        "df_min = Df_all.groupby('Exp_num', axis=0).min().reset_index()\n",
        "df_min.columns = df_min.columns.str.replace('.','_min_')\n",
        "\n",
        "df_skew = Df_all.groupby('Exp_num', axis=0).skew().reset_index()\n",
        "df_skew.columns = df_skew.columns.str.replace('.','_skew_')\n",
        "\n",
        "df_std = Df_all.groupby('Exp_num', axis=0).std().reset_index()\n",
        "df_std.columns = df_std.columns.str.replace('.','_std_')\n",
        "\n",
        "Df_Features = pd.concat([ df_max , df_sum[df_sum.columns[2:-2]], \n",
        "                         df_min[df_min.columns[2:-2]], df_sum_SS[df_sum_SS.columns[2:-2]], \n",
        "                         df_std[df_std.columns[2:-2]], df_skew[df_skew.columns[2:-2]]], axis=1)\n",
        "\n",
        "X = Df_Features.drop(['Exp_num','Unnamed: 0','Activity','Sub_Num'],axis=1)\n",
        "Y = Df_Features['Activity']\n",
        "#print('Shape of X:', X.shape)\n",
        "#print('Shape of Y:', Y.shape)"
      ],
      "metadata": {
        "id": "k3NkfsxpprQK",
        "cellView": "form"
      },
      "execution_count": 136,
      "outputs": []
    },
    {
      "cell_type": "markdown",
      "source": [
        "Train classifier model"
      ],
      "metadata": {
        "id": "2uJK8547Ok-a"
      }
    },
    {
      "cell_type": "code",
      "source": [
        "#@title\n",
        "#### Construct neural architecture for baseline model\n",
        "input_dim = X.shape[1]\n",
        "input_img = Input(shape=(input_dim,))\n",
        "d = Dense(50, activation='relu')(input_img)\n",
        "d = Dense(20, activation='relu')(d)\n",
        "output = Dense(7, activation='softmax', kernel_regularizer=l2(0.01))(d)\n",
        "model = Model(input_img,output)\n",
        "model.compile(optimizer='adam', loss='binary_crossentropy',\n",
        "                 metrics=['categorical_accuracy'])"
      ],
      "metadata": {
        "id": "JNTcN2SmOYGI",
        "cellView": "form"
      },
      "execution_count": 137,
      "outputs": []
    },
    {
      "cell_type": "markdown",
      "source": [
        "Train model on scaled data"
      ],
      "metadata": {
        "id": "65ZMZ8d8BKsH"
      }
    },
    {
      "cell_type": "code",
      "source": [
        "#@title\n",
        "# One-hot encoding\n",
        "Y = to_categorical(Y)\n",
        "print(Y.shape)\n",
        "X_train, X_test, Y_train, Y_test = train_test_split(X, Y, test_size=0.3, random_state=0)\n",
        "\n",
        "scaler = StandardScaler()\n",
        "scaler.fit(X_train)\n",
        "# Apply transform to both the training set and the test set.\n",
        "X_train = scaler.transform(X_train)\n",
        "X_test = scaler.transform(X_test)\n",
        "\n",
        "history = model.fit(X_train, Y_train,\n",
        "                epochs=1000,\n",
        "                batch_size=100,\n",
        "                shuffle=True,\n",
        "                verbose=0,\n",
        "                validation_data=[X_test,Y_test])"
      ],
      "metadata": {
        "colab": {
          "base_uri": "https://localhost:8080/"
        },
        "id": "JbpdfIAFPWPw",
        "outputId": "09ac79f7-9294-475d-ba06-ca6f7832baae"
      },
      "execution_count": 138,
      "outputs": [
        {
          "output_type": "stream",
          "name": "stdout",
          "text": [
            "(3359, 7)\n"
          ]
        }
      ]
    },
    {
      "cell_type": "markdown",
      "source": [
        "Evaluate model"
      ],
      "metadata": {
        "id": "GoTz8jluBMkP"
      }
    },
    {
      "cell_type": "markdown",
      "source": [
        "####**Activity type**"
      ],
      "metadata": {
        "id": "W92fSLreM52T"
      }
    },
    {
      "cell_type": "code",
      "source": [
        "#@title\n",
        "#### Check model performance\n",
        "### Overall test accuracy\n",
        "score = model.evaluate(X_test, Y_test)\n",
        "print ('Neural Network Model (keras) accuracy:', score[1])"
      ],
      "metadata": {
        "colab": {
          "base_uri": "https://localhost:8080/"
        },
        "id": "MsN8lfNIP0tF",
        "outputId": "1273642a-d47d-4b44-cbd8-01488dffda50"
      },
      "execution_count": 139,
      "outputs": [
        {
          "output_type": "stream",
          "name": "stdout",
          "text": [
            "32/32 [==============================] - 0s 1ms/step - loss: 0.0099 - categorical_accuracy: 0.9940\n",
            "Neural Network Model (keras) accuracy: 0.9940476417541504\n"
          ]
        }
      ]
    },
    {
      "cell_type": "markdown",
      "source": [
        "Assess feature importance, Random Forest Classifier"
      ],
      "metadata": {
        "id": "ONrvcUvOBRck"
      }
    },
    {
      "cell_type": "code",
      "source": [
        "#@title\n",
        "from sklearn.ensemble import GradientBoostingClassifier\n",
        "from sklearn.ensemble import RandomForestClassifier\n",
        "\n",
        "clf1 = RandomForestClassifier(n_estimators=100, max_depth=None,\n",
        "     min_samples_split=2, random_state=0)\n",
        "clf1.fit(X_train, Y_train)\n",
        "featureImportance = clf1.feature_importances_\n",
        "\n",
        "# normalize by max importance\n",
        "featureImportance = featureImportance / featureImportance.max()\n",
        "feature_names = X.columns\n",
        "idxSorted = np.argsort(featureImportance)[-10:]\n",
        "barPos = np.arange(idxSorted.shape[0]) + .5\n",
        "plt.barh(barPos, featureImportance[idxSorted], align='center')\n",
        "plt.yticks(barPos, feature_names[idxSorted])\n",
        "plt.xlabel('Variable Importance')\n",
        "plt.subplots_adjust(left=0.2, right=0.9, top=0.9, bottom=0.1)\n",
        "plt.show()\n"
      ],
      "metadata": {
        "colab": {
          "base_uri": "https://localhost:8080/",
          "height": 292
        },
        "id": "-UFkXLOmQEJF",
        "outputId": "ed2b9476-47a0-49f7-faf9-98cb17a17a7b",
        "cellView": "form"
      },
      "execution_count": 140,
      "outputs": [
        {
          "output_type": "display_data",
          "data": {
            "image/png": "[encoded data removed]",
            "text/plain": [
              "<Figure size 432x288 with 1 Axes>"
            ]
          },
          "metadata": {
            "needs_background": "light"
          }
        }
      ]
    },
    {
      "cell_type": "markdown",
      "source": [
        "Assess feature importance, Gradient Boosting Classifier"
      ],
      "metadata": {
        "id": "WEB56xfoBuD_"
      }
    },
    {
      "cell_type": "code",
      "source": [
        "#@title\n",
        "# Need to one-hot decode before feeding into GBM\n",
        "from sklearn.ensemble import GradientBoostingClassifier\n",
        "from sklearn.ensemble import RandomForestClassifier\n",
        "\n",
        "y_train = np.argmax(Y_train,axis=1)\n",
        "clf2 = GradientBoostingClassifier(n_estimators=100, learning_rate=1.0,\n",
        "     max_depth=1, random_state=0)\n",
        "clf2.fit(X_train, y_train)\n",
        "featureImportance = clf2.feature_importances_\n",
        "\n",
        "\n",
        "# normalize by max importance\n",
        "featureImportance = featureImportance / featureImportance.max()\n",
        "feature_names = X.columns\n",
        "idxSorted = np.argsort(featureImportance)[-10:]\n",
        "barPos = np.arange(idxSorted.shape[0]) + .5\n",
        "plt.barh(barPos, featureImportance[idxSorted], align='center')\n",
        "plt.yticks(barPos, feature_names[idxSorted])\n",
        "plt.xlabel('Variable Importance')\n",
        "plt.subplots_adjust(left=0.2, right=0.9, top=0.9, bottom=0.1)\n",
        "plt.show()"
      ],
      "metadata": {
        "colab": {
          "base_uri": "https://localhost:8080/",
          "height": 292
        },
        "id": "Eq6mdk94QREe",
        "outputId": "35541269-96e3-4aa0-b5d1-34a93f218f6f",
        "cellView": "form"
      },
      "execution_count": null,
      "outputs": [
        {
          "output_type": "display_data",
          "data": {
            "image/png": "[encoded data removed]",
            "text/plain": [
              "<Figure size 432x288 with 1 Axes>"
            ]
          },
          "metadata": {
            "needs_background": "light"
          }
        }
      ]
    },
    {
      "cell_type": "markdown",
      "source": [
        "###**Trial Participant**"
      ],
      "metadata": {
        "id": "R1ilrnHPCV6m"
      }
    },
    {
      "cell_type": "code",
      "source": [
        "#@title\n",
        "# Let target label become subjects\n",
        "Y1 = Df_Features['Sub_Num']\n"
      ],
      "metadata": {
        "id": "lxEx_IjMQxWS"
      },
      "execution_count": 141,
      "outputs": []
    },
    {
      "cell_type": "markdown",
      "source": [
        "Set model parameters"
      ],
      "metadata": {
        "id": "0zjyeP1pCjlw"
      }
    },
    {
      "cell_type": "code",
      "source": [
        "#@title\n",
        "#### Construct neural Architeture for baseline model\n",
        "input_dim = X.shape[1]\n",
        "input_img = Input(shape=(input_dim,))\n",
        "d = Dense(50, activation='relu')(input_img)\n",
        "d = Dense(20, activation='relu')(d)\n",
        "output = Dense(25, activation='softmax', kernel_regularizer=l2(0.01))(d)\n",
        "model = Model(input_img,output)\n",
        "model.compile(optimizer='adam', loss='binary_crossentropy',\n",
        "                 metrics=['categorical_accuracy'])"
      ],
      "metadata": {
        "id": "rVRH4xw7RID6"
      },
      "execution_count": 142,
      "outputs": []
    },
    {
      "cell_type": "markdown",
      "source": [
        "Train and test model"
      ],
      "metadata": {
        "id": "x8h3KHV8Cnle"
      }
    },
    {
      "cell_type": "code",
      "source": [
        "#@title\n",
        "# One-hot encoding\n",
        "\n",
        "y1 = to_categorical(Y1)\n",
        "print(Y1.shape)\n",
        "X_train, X_test, Y_train, Y_test = train_test_split(X, y1, test_size=0.3, random_state=0)\n",
        "\n",
        "scaler = StandardScaler()\n",
        "scaler.fit(X_train)\n",
        "# Apply transform to both the training set and the test set.\n",
        "X_train = scaler.transform(X_train)\n",
        "X_test = scaler.transform(X_test)\n",
        "\n",
        "history = model.fit(X_train, Y_train,\n",
        "                epochs=1000,\n",
        "                batch_size=100,\n",
        "                shuffle=True,\n",
        "                verbose=0,\n",
        "                validation_data=[X_test,Y_test])\n",
        "\n",
        "### Overall test accuracy\n",
        "score = model.evaluate(X_test, Y_test)\n",
        "print ('Neural Network Model (keras) accuracy:', score[1])"
      ],
      "metadata": {
        "colab": {
          "base_uri": "https://localhost:8080/"
        },
        "id": "JWCv8gVvRL-k",
        "outputId": "60ad46d1-1664-4f29-e777-67f9f8294011"
      },
      "execution_count": 143,
      "outputs": [
        {
          "output_type": "stream",
          "name": "stdout",
          "text": [
            "(3359,)\n",
            "32/32 [==============================] - 0s 2ms/step - loss: 0.0513 - categorical_accuracy: 0.8542\n",
            "Neural Network Model (keras) accuracy: 0.8541666865348816\n"
          ]
        }
      ]
    },
    {
      "cell_type": "markdown",
      "source": [
        "Compare with other models"
      ],
      "metadata": {
        "id": "g-0e3WkHNKoL"
      }
    },
    {
      "cell_type": "code",
      "source": [
        "#@title\n",
        "X_train, X_test, Y_train, Y_test = train_test_split(X, Y1, test_size=0.3, random_state=0)\n",
        "\n",
        "scaler = StandardScaler()\n",
        "scaler.fit(X_train)\n",
        "# Apply transform to both the training set and the test set.\n",
        "X_train = scaler.transform(X_train)\n",
        "X_test = scaler.transform(X_test)"
      ],
      "metadata": {
        "id": "w5um4H1rNWv_"
      },
      "execution_count": 152,
      "outputs": []
    },
    {
      "cell_type": "code",
      "source": [
        "#@title\n",
        "LR_L1 = LogisticRegression(C=10, penalty='l2').fit(X_train, Y_train)\n",
        "LR_L2 = LogisticRegression(C=100, penalty='l2').fit(X_train, Y_train)\n",
        "SVM_linear = SVC(kernel=\"linear\", C=0.001).fit(X_train, Y_train)\n",
        "SVM_rbf = SVC(kernel=\"rbf\", C=1000, gamma=1e-5).fit(X_train, Y_train)\n",
        "DT = DecisionTreeClassifier(criterion='entropy').fit(X_train, Y_train)\n",
        "RF = RandomForestClassifier(criterion='entropy',n_estimators=1000).fit(X_train, Y_train)\n",
        "clf = KNeighborsClassifier(5)\n",
        "KNN = clf.fit(X_train, Y_train)"
      ],
      "metadata": {
        "id": "ryKklkz3NK4Q"
      },
      "execution_count": 153,
      "outputs": []
    },
    {
      "cell_type": "markdown",
      "source": [
        "Model performance = predicting trial participant"
      ],
      "metadata": {
        "id": "ap9far6ZNI6K"
      }
    },
    {
      "cell_type": "code",
      "source": [
        "#@title\n",
        "print('LinearSVM - accuracy: {:.2f}, f1: {:.2f}'.format(accuracy_score(Y_test, SVM_linear.predict(X_test)),f1_score(Y_test,SVM_linear.predict(X_test),average ='macro')))\n",
        "print('rbf_SVM - accuracy: {:.2f}, f1: {:.2f}'.format(accuracy_score(Y_test, SVM_rbf.predict(X_test)),f1_score(Y_test,SVM_rbf.predict(X_test),average ='macro')))\n",
        "print('Logistic_regression (L1) - accuracy: {:.2f}, f1: {:.2f}'.format(accuracy_score(Y_test, LR_L1.predict(X_test)),f1_score(Y_test,LR_L1.predict(X_test),average ='macro')))\n",
        "print('Logistic_regression (L2) - accuracy: {:.2f}, f1: {:.2f}'.format(accuracy_score(Y_test, LR_L2.predict(X_test)),f1_score(Y_test,LR_L2.predict(X_test),average ='macro')))\n",
        "print('Decision tree - accuracy: {:.2f}, f1: {:.2f}'.format(accuracy_score(Y_test, DT.predict(X_test)),f1_score(Y_test,DT.predict(X_test),average ='macro')))\n",
        "print('Random Forest - accuracy: {:.2f}, f1: {:.2f}'.format(accuracy_score(Y_test, RF.predict(X_test)),f1_score(Y_test,RF.predict(X_test),average ='macro')))\n",
        "print('K- Nearest Neighbour - accuracy: {:.2f}, f1: {:.2f}'.format(accuracy_score(Y_test, KNN.predict(X_test)),f1_score(Y_test,KNN.predict(X_test),average ='macro')))\n"
      ],
      "metadata": {
        "colab": {
          "base_uri": "https://localhost:8080/"
        },
        "id": "eXA621xgNEyA",
        "outputId": "d5df5730-1750-48ba-e7a1-3bbce3b3bf56"
      },
      "execution_count": 146,
      "outputs": [
        {
          "output_type": "stream",
          "name": "stdout",
          "text": [
            "LinearSVM - accuracy: 0.25, f1: 0.21\n",
            "rbf_SVM - accuracy: 0.63, f1: 0.63\n",
            "Logistic_regression (L1) - accuracy: 0.76, f1: 0.76\n",
            "Logistic_regression (L2) - accuracy: 0.76, f1: 0.76\n",
            "Decision tree - accuracy: 0.77, f1: 0.77\n",
            "Random Forest - accuracy: 0.95, f1: 0.95\n",
            "K- Nearest Neighbour - accuracy: 0.75, f1: 0.75\n"
          ]
        }
      ]
    },
    {
      "cell_type": "code",
      "source": [
        "#@title\n",
        "feature_names = X.columns\n",
        "X_names = feature_names\n",
        "\n",
        "X_train, X_test, Y_train, Y_test = train_test_split(X, Y1, test_size=0.3, random_state=0)\n",
        "\n",
        "scaler = StandardScaler()\n",
        "scaler.fit(X_train)\n",
        "# Apply transform to both the training set and the test set.\n",
        "X_train = scaler.transform(X_train)\n",
        "X_test = scaler.transform(X_test)\n",
        "\n",
        "DT = DecisionTreeClassifier(criterion='entropy').fit(X_train, Y_train)\n",
        "\n",
        "# for tree-based classifier's feature importance plotting\n",
        "def plot_keyFeat_trees(classifier, feature_names, clf_id, top_features=10):\n",
        "    importances = classifier.feature_importances_\n",
        "    indices = np.argsort(importances)[::-1]\n",
        "    indices_vis = indices[:top_features]\n",
        "    \n",
        "    plt.figure()\n",
        "    plt.figure(figsize=(15, 5))\n",
        "    plt.title(clf_id)\n",
        "    plt.bar(range(top_features), importances[indices_vis],\n",
        "       color=\"b\", align=\"center\")\n",
        "    plt.xticks(range(top_features), indices)\n",
        "    plt.xlim([-1, top_features])\n",
        "    feature_names = np.array(feature_names)\n",
        "    plt.xticks(np.arange(0, top_features), feature_names[indices_vis], rotation=60, ha='right')\n",
        "    plt.show()\n",
        "\n",
        "#print('Decision tree accuracy:',accuracy_score(Y_test, DT.predict(X_test)))\n",
        "plot_keyFeat_trees(DT, X_names, 'Decision Tree - feature importance in predicting trial participant', top_features=12)"
      ],
      "metadata": {
        "colab": {
          "base_uri": "https://localhost:8080/",
          "height": 444
        },
        "id": "wt5hBkFIU4Eb",
        "outputId": "001a951e-1114-415e-ea0b-b288ffb05914"
      },
      "execution_count": 155,
      "outputs": [
        {
          "output_type": "display_data",
          "data": {
            "text/plain": [
              "<Figure size 432x288 with 0 Axes>"
            ]
          },
          "metadata": {}
        },
        {
          "output_type": "display_data",
          "data": {
            "image/png": "[encoded data removed]",
            "text/plain": [
              "<Figure size 1080x360 with 1 Axes>"
            ]
          },
          "metadata": {
            "needs_background": "light"
          }
        }
      ]
    },
    {
      "cell_type": "code",
      "source": [
        "#@title\n",
        "RF = RandomForestClassifier(criterion='entropy',n_estimators=1000).fit(X_train, Y_train)\n",
        "print('Random Forest accuracy:',accuracy_score(Y_test, RF.predict(X_test)))\n",
        "plot_keyFeat_trees(RF, X_names, 'Random Forest - feature importance in predicting trial participant', top_features=12)"
      ],
      "metadata": {
        "colab": {
          "base_uri": "https://localhost:8080/",
          "height": 451
        },
        "id": "bod2VPsPVVT1",
        "outputId": "799b9971-b385-4aea-c2be-8d8fab23a8fb",
        "cellView": "form"
      },
      "execution_count": 164,
      "outputs": [
        {
          "output_type": "stream",
          "name": "stdout",
          "text": [
            "Random Forest accuracy: 0.9494047619047619\n"
          ]
        },
        {
          "output_type": "display_data",
          "data": {
            "text/plain": [
              "<Figure size 432x288 with 0 Axes>"
            ]
          },
          "metadata": {}
        },
        {
          "output_type": "display_data",
          "data": {
            "image/png": "[encoded data removed]",
            "text/plain": [
              "<Figure size 1080x360 with 1 Axes>"
            ]
          },
          "metadata": {
            "needs_background": "light"
          }
        }
      ]
    },
    {
      "cell_type": "markdown",
      "source": [
        "####**Trial participant and activity type**"
      ],
      "metadata": {
        "id": "23j7SzF9DEdy"
      }
    },
    {
      "cell_type": "code",
      "source": [
        "#@title\n",
        "for i in range(1,7):\n",
        "    df = Df_Features[Df_Features['Activity']==i]\n",
        "    x = df.drop(['Exp_num','Unnamed: 0','Activity','Sub_Num'],axis=1)\n",
        "    y = df['Sub_Num']\n",
        "    y = to_categorical(y)\n",
        "    \n",
        "    #### Construct Neural Architecture\n",
        "    input_dim = x.shape[1]\n",
        "    input_img = Input(shape=(input_dim,))\n",
        "    d = Dense(50, activation='relu')(input_img)\n",
        "    d = Dense(20, activation='relu')(d)\n",
        "    output = Dense(25, activation='softmax', kernel_regularizer=l2(0.01))(d)\n",
        "    model = Model(input_img,output)\n",
        "    model.compile(optimizer='adam', loss='binary_crossentropy',\n",
        "                     metrics=['categorical_accuracy'])\n",
        "    \n",
        "    X_train, X_test, Y_train, Y_test = train_test_split(x, y, test_size=0.3, random_state=0)\n",
        "\n",
        "    history = model.fit(X_train, Y_train,\n",
        "                    epochs=1000,\n",
        "                    batch_size=100,\n",
        "                    shuffle=True,\n",
        "                    verbose=0,\n",
        "                    validation_data=[X_test,Y_test])\n",
        "    \n",
        "    ### Overall test accuracy\n",
        "    score = model.evaluate(X_test, Y_test)\n",
        "    print('Activity type:', activity_types[i-1])\n",
        "    print('Neural Network Model (keras) accuracy:', score[1])"
      ],
      "metadata": {
        "colab": {
          "base_uri": "https://localhost:8080/"
        },
        "id": "4Tk63leZTTK3",
        "outputId": "68fadb8e-f96e-4648-8b3c-922794bab769",
        "cellView": "form"
      },
      "execution_count": 147,
      "outputs": [
        {
          "output_type": "stream",
          "name": "stdout",
          "text": [
            "3/3 [==============================] - 0s 5ms/step - loss: 0.0773 - categorical_accuracy: 0.7865\n",
            "Activity type: dws\n",
            "Neural Network Model (keras) accuracy: 0.7865168452262878\n",
            "3/3 [==============================] - 0s 5ms/step - loss: 0.0363 - categorical_accuracy: 0.9574\n",
            "Activity type: jog\n",
            "Neural Network Model (keras) accuracy: 0.957446813583374\n",
            "8/8 [==============================] - 0s 2ms/step - loss: 0.0316 - categorical_accuracy: 0.9069\n",
            "Activity type: sit\n",
            "Neural Network Model (keras) accuracy: 0.9068825840950012\n",
            "7/7 [==============================] - 0s 3ms/step - loss: 0.0914 - categorical_accuracy: 0.7098\n",
            "Activity type: std\n",
            "Neural Network Model (keras) accuracy: 0.7098214030265808\n",
            "4/4 [==============================] - 0s 3ms/step - loss: 0.0423 - categorical_accuracy: 0.9167\n",
            "Activity type: ups\n",
            "Neural Network Model (keras) accuracy: 0.9166666865348816\n",
            "8/8 [==============================] - 0s 2ms/step - loss: 0.0187 - categorical_accuracy: 0.9639\n",
            "Activity type: wlk\n",
            "Neural Network Model (keras) accuracy: 0.9638554453849792\n"
          ]
        }
      ]
    },
    {
      "cell_type": "markdown",
      "source": [
        "###**Gender**"
      ],
      "metadata": {
        "id": "919SrWujDeAI"
      }
    },
    {
      "cell_type": "markdown",
      "source": [
        "Mapping for gender (1 for male, 0 for female)"
      ],
      "metadata": {
        "id": "cHSqbLXpDT4x"
      }
    },
    {
      "cell_type": "code",
      "source": [
        "#@title\n",
        "mapping = {\n",
        "    '1': 1,\n",
        "    '2': 1,\n",
        "    '3': 0,\n",
        "    '4': 1,\n",
        "    '5': 0,\n",
        "    '6':1,\n",
        "    '7':0,\n",
        "    '8':0,\n",
        "    '9':1,\n",
        "    '10':0,\n",
        "    '11':1,\n",
        "    '12':1,\n",
        "    '13':1,\n",
        "    '14':1,\n",
        "    '15':1,\n",
        "    '16':0,\n",
        "    '17':1,\n",
        "    '18':0,\n",
        "    '19':0,\n",
        "    '20':1,\n",
        "    '21':1,\n",
        "    '22':1,\n",
        "    '23':0,\n",
        "    '24':0\n",
        "\n",
        "}"
      ],
      "metadata": {
        "id": "5dhjPfRcTfh5",
        "cellView": "form"
      },
      "execution_count": null,
      "outputs": []
    },
    {
      "cell_type": "code",
      "source": [
        "#@title\n",
        "# Create gender labels\n",
        "Y2 = [mapping[i] for i in Df_Features['Sub_Num']]"
      ],
      "metadata": {
        "id": "YXKt0DRzTjFW",
        "cellView": "form"
      },
      "execution_count": null,
      "outputs": []
    },
    {
      "cell_type": "markdown",
      "source": [
        "Train model"
      ],
      "metadata": {
        "id": "rR3VbgUtXn9z"
      }
    },
    {
      "cell_type": "code",
      "source": [
        "#@title\n",
        "y2 = to_categorical(Y2)\n",
        "\n",
        "X_train, X_test, Y_train, Y_test = train_test_split(X, y2, test_size=0.3, random_state=0)\n",
        "#print('The number of training samples:',X_train.shape[0])\n",
        "#print('The number of test samples:',X_test.shape[0])\n",
        "\n",
        "scaler = StandardScaler()\n",
        "scaler.fit(X_train)\n",
        "# Apply transform to both the training set and the test set.\n",
        "X_train = scaler.transform(X_train)\n",
        "X_test = scaler.transform(X_test)\n",
        "\n",
        "#### Construct neural Architecture for baseline model\n",
        "input_dim = X.shape[1]\n",
        "input_img = Input(shape=(input_dim,))\n",
        "d = Dense(50, activation='relu')(input_img)\n",
        "d = Dense(20, activation='relu')(d)\n",
        "output = Dense(2, activation='softmax', kernel_regularizer=l2(0.01))(d)\n",
        "model = Model(input_img,output)\n",
        "model.compile(optimizer='adam', loss='binary_crossentropy',\n",
        "                 metrics=['categorical_accuracy'])\n",
        "    \n",
        "history = model.fit(X_train, Y_train,\n",
        "                epochs=1000,\n",
        "                batch_size=100,\n",
        "                shuffle=True,\n",
        "                verbose=0,\n",
        "                validation_data=[X_test,Y_test])\n",
        "\n",
        "### Overall test accuracy\n",
        "score = model.evaluate(X_test, Y_test)\n",
        "print ('Neural Network Model (keras) accuracy:', score[1])"
      ],
      "metadata": {
        "colab": {
          "base_uri": "https://localhost:8080/"
        },
        "id": "56IlLzAUTmx-",
        "outputId": "61fd994e-9ccf-4ee3-ea91-33e4cd5dc0b4",
        "cellView": "form"
      },
      "execution_count": null,
      "outputs": [
        {
          "output_type": "stream",
          "name": "stdout",
          "text": [
            "32/32 [==============================] - 0s 1ms/step - loss: 0.7213 - categorical_accuracy: 0.8968\n",
            "Neural Network Model (keras) accuracy: 0.89682537317276\n"
          ]
        }
      ]
    },
    {
      "cell_type": "markdown",
      "source": [
        "Prepare training and test data sets, apply scaling"
      ],
      "metadata": {
        "id": "fHJDND1Q_hbT"
      }
    },
    {
      "cell_type": "code",
      "source": [
        "#@title\n",
        "X_train, X_test, Y_train, Y_test = train_test_split(X, Y2, test_size=0.3, random_state=0)\n",
        "\n",
        "scaler = StandardScaler()\n",
        "scaler.fit(X_train)\n",
        "# Apply transform to both the training set and the test set.\n",
        "X_train = scaler.transform(X_train)\n",
        "X_test = scaler.transform(X_test)"
      ],
      "metadata": {
        "cellView": "form",
        "id": "SjhKtqGV_Z_h"
      },
      "execution_count": null,
      "outputs": []
    },
    {
      "cell_type": "markdown",
      "source": [
        "Compare with other models - train and test"
      ],
      "metadata": {
        "id": "KTJsjPcaD7Wz"
      }
    },
    {
      "cell_type": "code",
      "source": [
        "#@title\n",
        "LR_L1 = LogisticRegression(C=10, penalty='l2').fit(X_train, Y_train)\n",
        "LR_L2 = LogisticRegression(C=100, penalty='l2').fit(X_train, Y_train)\n",
        "SVM_linear = SVC(kernel=\"linear\", C=0.001).fit(X_train, Y_train)\n",
        "SVM_rbf = SVC(kernel=\"rbf\", C=1000, gamma=1e-5).fit(X_train, Y_train)\n",
        "DT = DecisionTreeClassifier(criterion='entropy').fit(X_train, Y_train)\n",
        "RF = RandomForestClassifier(criterion='entropy',n_estimators=1000).fit(X_train, Y_train)\n",
        "clf = KNeighborsClassifier(5)\n",
        "KNN = clf.fit(X_train, Y_train)"
      ],
      "metadata": {
        "id": "hgSVwD77WAA9",
        "cellView": "form"
      },
      "execution_count": null,
      "outputs": []
    },
    {
      "cell_type": "markdown",
      "source": [
        "Show results of model performance by gender identification"
      ],
      "metadata": {
        "id": "vY-5cyWDD_AP"
      }
    },
    {
      "cell_type": "code",
      "source": [
        "#@title\n",
        "print('LinearSVM - accuracy: {:.2f}, f1: {:.2f}'.format(accuracy_score(Y_test, SVM_linear.predict(X_test)),f1_score(Y_test,SVM_linear.predict(X_test),average ='macro')))\n",
        "print('rbf_SVM - accuracy: {:.2f}, f1: {:.2f}'.format(accuracy_score(Y_test, SVM_rbf.predict(X_test)),f1_score(Y_test,SVM_rbf.predict(X_test),average ='macro')))\n",
        "print('Logistic_regression (L1) - accuracy: {:.2f}, f1: {:.2f}'.format(accuracy_score(Y_test, LR_L1.predict(X_test)),f1_score(Y_test,LR_L1.predict(X_test),average ='macro')))\n",
        "print('Logistic_regression (L2) - accuracy: {:.2f}, f1: {:.2f}'.format(accuracy_score(Y_test, LR_L2.predict(X_test)),f1_score(Y_test,LR_L2.predict(X_test),average ='macro')))\n",
        "print('Decision tree - accuracy: {:.2f}, f1: {:.2f}'.format(accuracy_score(Y_test, DT.predict(X_test)),f1_score(Y_test,DT.predict(X_test),average ='macro')))\n",
        "print('Random Forest - accuracy: {:.2f}, f1: {:.2f}'.format(accuracy_score(Y_test, RF.predict(X_test)),f1_score(Y_test,RF.predict(X_test),average ='macro')))\n",
        "print('K- Nearest Neighbour - accuracy: {:.2f}, f1: {:.2f}'.format(accuracy_score(Y_test, KNN.predict(X_test)),f1_score(Y_test,KNN.predict(X_test),average ='macro')))\n"
      ],
      "metadata": {
        "colab": {
          "base_uri": "https://localhost:8080/"
        },
        "id": "Tvxl6jKfWB88",
        "outputId": "17e2ec6e-ed04-485d-a9a7-c1215c278a9c",
        "cellView": "form"
      },
      "execution_count": null,
      "outputs": [
        {
          "output_type": "stream",
          "name": "stdout",
          "text": [
            "LinearSVM - accuracy: 0.70, f1: 0.70\n",
            "rbf_SVM - accuracy: 0.75, f1: 0.74\n",
            "Logistic_regression (L1) - accuracy: 0.79, f1: 0.79\n",
            "Logistic_regression (L2) - accuracy: 0.79, f1: 0.79\n",
            "Decision tree - accuracy: 0.92, f1: 0.92\n",
            "Random Forest - accuracy: 0.97, f1: 0.97\n",
            "K- Nearest Neighbour - accuracy: 0.90, f1: 0.90\n"
          ]
        }
      ]
    },
    {
      "cell_type": "code",
      "source": [
        "#@title\n",
        "### Confusion matrix (predictive performance on different classes)\n",
        "def plot_confusion_matrix(cm, classes,\n",
        "                          normalize=False,\n",
        "                          title='Confusion matrix',\n",
        "                          cmap=plt.cm.Blues):\n",
        "    \"\"\"\n",
        "    function provided by sklearn example\n",
        "    \"\"\"\n",
        "    if normalize:\n",
        "        cm = cm.astype('float') / cm.sum(axis=1)[:, np.newaxis]\n",
        "        print(\"Gender - Random Forest Confusion Matrix\")\n",
        "    else:\n",
        "        print('Gender - Random Forest Confusion Matrix')\n",
        "\n",
        "    print(cm)\n",
        "\n",
        "cnf_matrix = confusion_matrix(Y_test, RF.predict(X_test))\n",
        "plot_confusion_matrix(cnf_matrix, classes=activity_types,\n",
        "                      title='Gender - Random Forest Confusion Matrix')"
      ],
      "metadata": {
        "colab": {
          "base_uri": "https://localhost:8080/"
        },
        "cellView": "form",
        "id": "cB2vfQkH_seE",
        "outputId": "d884c931-c549-417f-8655-a7880aac4b3c"
      },
      "execution_count": null,
      "outputs": [
        {
          "output_type": "stream",
          "name": "stdout",
          "text": [
            "Gender - Random Forest Confusion Matrix\n",
            "[[410  12]\n",
            " [ 20 566]]\n"
          ]
        }
      ]
    },
    {
      "cell_type": "markdown",
      "source": [
        "###**Weight**"
      ],
      "metadata": {
        "id": "WgX1dYtfFcSy"
      }
    },
    {
      "cell_type": "markdown",
      "source": [
        "Mapping - above the average weight 72.125kg are labeled as 1; 0 for below average."
      ],
      "metadata": {
        "id": "INSM8UeeTsX_"
      }
    },
    {
      "cell_type": "code",
      "source": [
        "#@title\n",
        "mapping = {\n",
        "    '1': 1,\n",
        "    '2': 0,\n",
        "    '3': 0,\n",
        "    '4': 1,\n",
        "    '5': 0,\n",
        "    '6':1,\n",
        "    '7':0,\n",
        "    '8':0,\n",
        "    '9':1,\n",
        "    '10':0,\n",
        "    '11':0,\n",
        "    '12':0,\n",
        "    '13':0,\n",
        "    '14':0,\n",
        "    '15':0,\n",
        "    '16':1,\n",
        "    '17':1,\n",
        "    '18':0,\n",
        "    '19':1,\n",
        "    '20':1,\n",
        "    '21':0,\n",
        "    '22':1,\n",
        "    '23':0,\n",
        "    '24':1\n",
        "\n",
        "}"
      ],
      "metadata": {
        "id": "-iLH9iNpTpR1",
        "cellView": "form"
      },
      "execution_count": null,
      "outputs": []
    },
    {
      "cell_type": "code",
      "source": [
        "#@title\n",
        "# Create weight labels\n",
        "Y3 = [mapping[i] for i in Df_Features['Sub_Num']]"
      ],
      "metadata": {
        "id": "HlxEUov-T0Ud",
        "cellView": "form"
      },
      "execution_count": null,
      "outputs": []
    },
    {
      "cell_type": "code",
      "source": [
        "#@title\n",
        "y3 = to_categorical(Y3)\n",
        "\n",
        "X_train, X_test, Y_train, Y_test = train_test_split(X, y3, test_size=0.3, random_state=0)\n",
        "#print('The number of training samples:',X_train.shape[0])\n",
        "#print('The number of test samples:',X_test.shape[0])\n",
        "\n",
        "scaler = StandardScaler()\n",
        "scaler.fit(X_train)\n",
        "# Apply transform to both the training set and the test set.\n",
        "X_train = scaler.transform(X_train)\n",
        "X_test = scaler.transform(X_test)\n",
        "\n",
        "#### Construct neural architecture for baseline model\n",
        "input_dim = x.shape[1]\n",
        "input_img = Input(shape=(input_dim,))\n",
        "d = Dense(50, activation='relu')(input_img)\n",
        "d = Dense(20, activation='relu')(d)\n",
        "output = Dense(2, activation='softmax', kernel_regularizer=l2(0.01))(d)\n",
        "model = Model(input_img,output)\n",
        "model.compile(optimizer='adam', loss='binary_crossentropy',\n",
        "                 metrics=['categorical_accuracy'])\n",
        "    \n",
        "history = model.fit(X_train, Y_train,\n",
        "                epochs=1000,\n",
        "                batch_size=100,\n",
        "                shuffle=True,\n",
        "                verbose=0,\n",
        "                validation_data=[X_test,Y_test])\n",
        "\n",
        "### Overall test accuracy\n",
        "score = model.evaluate(X_test, Y_test)\n",
        "print ('Neural Network (keras) accuracy:', score[1])"
      ],
      "metadata": {
        "colab": {
          "base_uri": "https://localhost:8080/"
        },
        "id": "bmMPPMUBT1W5",
        "outputId": "a6a17c09-2942-48c4-e0b6-0f60005e6859",
        "cellView": "form"
      },
      "execution_count": null,
      "outputs": [
        {
          "output_type": "stream",
          "name": "stdout",
          "text": [
            "32/32 [==============================] - 0s 1ms/step - loss: 0.6858 - categorical_accuracy: 0.8909\n",
            "Neural Network (keras) accuracy: 0.8908730149269104\n"
          ]
        }
      ]
    },
    {
      "cell_type": "code",
      "source": [
        "#@title\n",
        "X_train, X_test, Y_train, Y_test = train_test_split(X, Y3, test_size=0.3, random_state=0)\n",
        "\n",
        "scaler = StandardScaler()\n",
        "scaler.fit(X_train)\n",
        "# Apply transform to both the training set and the test set.\n",
        "X_train = scaler.transform(X_train)\n",
        "X_test = scaler.transform(X_test)\n",
        "\n",
        "LR_L1 = LogisticRegression(C=10, penalty='l2').fit(X_train, Y_train)\n",
        "LR_L2 = LogisticRegression(C=100, penalty='l2').fit(X_train, Y_train)\n",
        "SVM_linear = SVC(kernel=\"linear\", C=0.001).fit(X_train, Y_train)\n",
        "SVM_rbf = SVC(kernel=\"rbf\", C=1000, gamma=1e-5).fit(X_train, Y_train)\n",
        "DT = DecisionTreeClassifier(criterion='entropy').fit(X_train, Y_train)\n",
        "RF = RandomForestClassifier(criterion='entropy',n_estimators=1000).fit(X_train, Y_train)\n",
        "clf = KNeighborsClassifier(5)\n",
        "KNN = clf.fit(X_train, Y_train)"
      ],
      "metadata": {
        "id": "vR4sTKk8Vlg5",
        "cellView": "form"
      },
      "execution_count": null,
      "outputs": []
    },
    {
      "cell_type": "markdown",
      "source": [
        "Evaluate model performance"
      ],
      "metadata": {
        "id": "uLRoDHfASD2D"
      }
    },
    {
      "cell_type": "code",
      "source": [
        "#@title\n",
        "print('LinearSVM - accuracy: {:.2f}, f1: {:.2f}'.format(accuracy_score(Y_test, SVM_linear.predict(X_test)),f1_score(Y_test,SVM_linear.predict(X_test),average ='macro')))\n",
        "print('rbf_SVM - accuracy: {:.2f}, f1: {:.2f}'.format(accuracy_score(Y_test, SVM_rbf.predict(X_test)),f1_score(Y_test,SVM_rbf.predict(X_test),average ='macro')))\n",
        "print('Logistic_regression (L1) - accuracy: {:.2f}, f1: {:.2f}'.format(accuracy_score(Y_test, LR_L1.predict(X_test)),f1_score(Y_test,LR_L1.predict(X_test),average ='macro')))\n",
        "print('Logistic_regression (L2) - accuracy: {:.2f}, f1: {:.2f}'.format(accuracy_score(Y_test, LR_L2.predict(X_test)),f1_score(Y_test,LR_L2.predict(X_test),average ='macro')))\n",
        "print('Decision tree - accuracy: {:.2f}, f1: {:.2f}'.format(accuracy_score(Y_test, DT.predict(X_test)),f1_score(Y_test,DT.predict(X_test),average ='macro')))\n",
        "print('Random Forest - accuracy: {:.2f}, f1: {:.2f}'.format(accuracy_score(Y_test, RF.predict(X_test)),f1_score(Y_test,RF.predict(X_test),average ='macro')))\n",
        "print('K- Nearest Neighbour - accuracy: {:.2f}, f1: {:.2f}'.format(accuracy_score(Y_test, KNN.predict(X_test)),f1_score(Y_test,KNN.predict(X_test),average ='macro')))\n"
      ],
      "metadata": {
        "colab": {
          "base_uri": "https://localhost:8080/"
        },
        "id": "4UQnSJOlVrLX",
        "outputId": "fe69b7d8-49e2-4e13-85c6-e89b2b755393",
        "cellView": "form"
      },
      "execution_count": null,
      "outputs": [
        {
          "output_type": "stream",
          "name": "stdout",
          "text": [
            "LinearSVM - accuracy: 0.61, f1: 0.47\n",
            "rbf_SVM - accuracy: 0.70, f1: 0.66\n",
            "Logistic_regression (L1) - accuracy: 0.73, f1: 0.71\n",
            "Logistic_regression (L2) - accuracy: 0.74, f1: 0.72\n",
            "Decision tree - accuracy: 0.88, f1: 0.88\n",
            "Random Forest - accuracy: 0.96, f1: 0.96\n",
            "K- Nearest Neighbour - accuracy: 0.87, f1: 0.87\n"
          ]
        }
      ]
    },
    {
      "cell_type": "code",
      "source": [
        "#@title\n",
        "### Confusion matrix (predictive performance on different classes)\n",
        "def plot_confusion_matrix(cm, classes,\n",
        "                          normalize=False,\n",
        "                          title='Confusion matrix',\n",
        "                          cmap=plt.cm.Blues):\n",
        "    \"\"\"\n",
        "    function provided by sklearn example\n",
        "    \"\"\"\n",
        "    if normalize:\n",
        "        cm = cm.astype('float') / cm.sum(axis=1)[:, np.newaxis]\n",
        "        print(\"Weight - Random Forest Confusion Matrix\")\n",
        "    else:\n",
        "        print('Weight - Random Forest Confusion Matrix')\n",
        "\n",
        "    print(cm)\n",
        "\n",
        "cnf_matrix = confusion_matrix(Y_test, RF.predict(X_test))\n",
        "plot_confusion_matrix(cnf_matrix, classes=activity_types,\n",
        "                      title='Weight - Random Forest Confusion Matrix')"
      ],
      "metadata": {
        "colab": {
          "base_uri": "https://localhost:8080/"
        },
        "cellView": "form",
        "id": "vld9GFSf945F",
        "outputId": "3578b663-a174-414e-af78-72da85787dca"
      },
      "execution_count": null,
      "outputs": [
        {
          "output_type": "stream",
          "name": "stdout",
          "text": [
            "Weight - Random Forest Confusion Matrix\n",
            "[[564  11]\n",
            " [ 30 403]]\n"
          ]
        }
      ]
    },
    {
      "cell_type": "markdown",
      "source": [
        "Age"
      ],
      "metadata": {
        "id": "g8v_JLjvF8w6"
      }
    },
    {
      "cell_type": "markdown",
      "source": [
        "Mapping - subjects above the average age of 28.79 are labeled as 1; 0 for below average"
      ],
      "metadata": {
        "id": "Lo1khGeGE7VP"
      }
    },
    {
      "cell_type": "code",
      "source": [
        "#@title\n",
        "mapping = {\n",
        "    '1': 1,\n",
        "    '2': 0,\n",
        "    '3': 0,\n",
        "    '4': 1,\n",
        "    '5': 0,\n",
        "    '6':0,\n",
        "    '7':1,\n",
        "    '8':0,\n",
        "    '9':1,\n",
        "    '10':1,\n",
        "    '11':0,\n",
        "    '12':1,\n",
        "    '13':1,\n",
        "    '14':1,\n",
        "    '15':1,\n",
        "    '16':1,\n",
        "    '17':0,\n",
        "    '18':0,\n",
        "    '19':0,\n",
        "    '20':0,\n",
        "    '21':0,\n",
        "    '22':1,\n",
        "    '23':0,\n",
        "    '24':0\n",
        "\n",
        "}\n"
      ],
      "metadata": {
        "id": "yy7nVcxTE6rL",
        "cellView": "form"
      },
      "execution_count": null,
      "outputs": []
    },
    {
      "cell_type": "code",
      "source": [
        "#@title\n",
        "# Create age labels\n",
        "Y4 = [mapping[i] for i in Df_Features['Sub_Num']]"
      ],
      "metadata": {
        "id": "KqCFzSxNFFX6",
        "cellView": "form"
      },
      "execution_count": null,
      "outputs": []
    },
    {
      "cell_type": "code",
      "source": [
        "#@title\n",
        "y4 = to_categorical(Y4)\n",
        "\n",
        "X_train, X_test, Y_train, Y_test = train_test_split(X, y4, test_size=0.3, random_state=0)\n",
        "#print('The number of training samples:',X_train.shape[0])\n",
        "#print('The number of test samples:',X_test.shape[0])\n",
        "\n",
        "scaler = StandardScaler()\n",
        "scaler.fit(X_train)\n",
        "# Apply transform to both the training set and the test set.\n",
        "X_train = scaler.transform(X_train)\n",
        "X_test = scaler.transform(X_test)\n",
        "\n",
        "#### Construct neural architecture for baseline model\n",
        "input_dim = X.shape[1]\n",
        "input_img = Input(shape=(input_dim,))\n",
        "d = Dense(50, activation='relu')(input_img)\n",
        "d = Dense(20, activation='relu')(d)\n",
        "output = Dense(2, activation='softmax', kernel_regularizer=l2(0.01))(d)\n",
        "model = Model(input_img,output)\n",
        "model.compile(optimizer='adam', loss='binary_crossentropy',\n",
        "                 metrics=['categorical_accuracy'])\n",
        "    \n",
        "history = model.fit(X_train, Y_train,\n",
        "                epochs=1000,\n",
        "                batch_size=100,\n",
        "                shuffle=True,\n",
        "                verbose=0,\n",
        "                validation_data=[X_test,Y_test])\n",
        "\n",
        "### Overall test accuracy\n",
        "score = model.evaluate(X_test, Y_test)\n",
        "print ('keras test accuracy score:', score[1])"
      ],
      "metadata": {
        "colab": {
          "base_uri": "https://localhost:8080/"
        },
        "id": "WxUh5eBJFL-e",
        "outputId": "fabbd2a1-e388-4a2b-c3d0-1b75a0059f9f",
        "cellView": "form"
      },
      "execution_count": null,
      "outputs": [
        {
          "output_type": "stream",
          "name": "stdout",
          "text": [
            "32/32 [==============================] - 0s 2ms/step - loss: 0.6896 - categorical_accuracy: 0.8829\n",
            "keras test accuracy score: 0.8829365372657776\n"
          ]
        }
      ]
    },
    {
      "cell_type": "markdown",
      "source": [
        "Train and test models"
      ],
      "metadata": {
        "id": "YZ_kBQ1vGLz9"
      }
    },
    {
      "cell_type": "code",
      "source": [
        "#@title\n",
        "X_train, X_test, Y_train, Y_test = train_test_split(X, Y4, test_size=0.3, random_state=0)\n",
        "\n",
        "scaler = StandardScaler()\n",
        "scaler.fit(X_train)\n",
        "# Apply transform to both the training set and the test set.\n",
        "X_train = scaler.transform(X_train)\n",
        "X_test = scaler.transform(X_test)\n",
        "\n",
        "LR_L1 = LogisticRegression(C=10, penalty='l2').fit(X_train, Y_train)\n",
        "LR_L2 = LogisticRegression(C=100, penalty='l2').fit(X_train, Y_train)\n",
        "SVM_linear = SVC(kernel=\"linear\", C=0.001).fit(X_train, Y_train)\n",
        "SVM_rbf = SVC(kernel=\"rbf\", C=1000, gamma=1e-5).fit(X_train, Y_train)\n",
        "DT = DecisionTreeClassifier(criterion='entropy').fit(X_train, Y_train)\n",
        "RF = RandomForestClassifier(criterion='entropy',n_estimators=1000).fit(X_train, Y_train)\n",
        "clf = KNeighborsClassifier(5)\n",
        "KNN = clf.fit(X_train, Y_train)\n",
        "\n"
      ],
      "metadata": {
        "id": "P4XX_Gd4T6VG",
        "cellView": "form"
      },
      "execution_count": null,
      "outputs": []
    },
    {
      "cell_type": "markdown",
      "source": [
        "Evaluate model performance"
      ],
      "metadata": {
        "id": "hYFQBMmTGN4I"
      }
    },
    {
      "cell_type": "code",
      "source": [
        "#@title\n",
        "print('LinearSVM - accuracy: {:.2f}, f1: {:.2f}'.format(accuracy_score(Y_test, SVM_linear.predict(X_test)),f1_score(Y_test,SVM_linear.predict(X_test),average ='macro')))\n",
        "print('rbf_SVM - accuracy: {:.2f}, f1: {:.2f}'.format(accuracy_score(Y_test, SVM_rbf.predict(X_test)),f1_score(Y_test,SVM_rbf.predict(X_test),average ='macro')))\n",
        "print('Logistic_regression (L1) - accuracy: {:.2f}, f1: {:.2f}'.format(accuracy_score(Y_test, LR_L1.predict(X_test)),f1_score(Y_test,LR_L1.predict(X_test),average ='macro')))\n",
        "print('Logistic_regression (L2) - accuracy: {:.2f}, f1: {:.2f}'.format(accuracy_score(Y_test, LR_L2.predict(X_test)),f1_score(Y_test,LR_L2.predict(X_test),average ='macro')))\n",
        "print('Decision tree - accuracy: {:.2f}, f1: {:.2f}'.format(accuracy_score(Y_test, DT.predict(X_test)),f1_score(Y_test,DT.predict(X_test),average ='macro')))\n",
        "print('Random Forest - accuracy: {:.2f}, f1: {:.2f}'.format(accuracy_score(Y_test, RF.predict(X_test)),f1_score(Y_test,RF.predict(X_test),average ='macro')))\n",
        "print('K- Nearest Neighbour - accuracy: {:.2f}, f1: {:.2f}'.format(accuracy_score(Y_test, KNN.predict(X_test)),f1_score(Y_test,KNN.predict(X_test),average ='macro')))\n"
      ],
      "metadata": {
        "colab": {
          "base_uri": "https://localhost:8080/"
        },
        "id": "1xtbKM9qUAWp",
        "outputId": "ac3f4de1-20b2-44de-9dd5-fd7860d37741",
        "cellView": "form"
      },
      "execution_count": null,
      "outputs": [
        {
          "output_type": "stream",
          "name": "stdout",
          "text": [
            "LinearSVM - accuracy: 0.63, f1: 0.57\n",
            "rbf_SVM - accuracy: 0.69, f1: 0.68\n",
            "Logistic_regression (L1) - accuracy: 0.72, f1: 0.71\n",
            "Logistic_regression (L2) - accuracy: 0.72, f1: 0.72\n",
            "Decision tree - accuracy: 0.87, f1: 0.87\n",
            "Random Forest - accuracy: 0.94, f1: 0.94\n",
            "K- Nearest Neighbour - accuracy: 0.87, f1: 0.87\n"
          ]
        }
      ]
    },
    {
      "cell_type": "code",
      "source": [
        "#@title\n",
        "### Confusion matrix (predictive performance on different classes)\n",
        "def plot_confusion_matrix(cm, classes,\n",
        "                          normalize=False,\n",
        "                          title='Confusion matrix',\n",
        "                          cmap=plt.cm.Blues):\n",
        "    \"\"\"\n",
        "    function provided by sklearn example\n",
        "    \"\"\"\n",
        "    if normalize:\n",
        "        cm = cm.astype('float') / cm.sum(axis=1)[:, np.newaxis]\n",
        "        print(\"Age - Random Forest Confusion Matrix\")\n",
        "    else:\n",
        "        print('Age - Random Forest Confusion Matrix')\n",
        "\n",
        "    print(cm)\n",
        "\n",
        "cnf_matrix = confusion_matrix(Y_test, RF.predict(X_test))\n",
        "plot_confusion_matrix(cnf_matrix, classes=activity_types,\n",
        "                      title='Age - Random Forest Confusion Matrix')"
      ],
      "metadata": {
        "colab": {
          "base_uri": "https://localhost:8080/"
        },
        "cellView": "form",
        "id": "JGD-qQbd-6cN",
        "outputId": "c3d3a3e1-bed3-436f-fa97-2545123009bd"
      },
      "execution_count": null,
      "outputs": [
        {
          "output_type": "stream",
          "name": "stdout",
          "text": [
            "Age - Random Forest Confusion Matrix\n",
            "[[520  31]\n",
            " [ 26 431]]\n"
          ]
        }
      ]
    },
    {
      "cell_type": "markdown",
      "source": [
        "###**Height**"
      ],
      "metadata": {
        "id": "bziYShRuGRcw"
      }
    },
    {
      "cell_type": "markdown",
      "source": [
        "Mapping - the trail participants with above average height of 174.2cm are labeled as 1; 0 for below average"
      ],
      "metadata": {
        "id": "PqHhNTzPFVEo"
      }
    },
    {
      "cell_type": "code",
      "source": [
        "#@title\n",
        "mapping = {\n",
        "    '1': 1,\n",
        "    '2': 1,\n",
        "    '3': 0,\n",
        "    '4': 1,\n",
        "    '5': 0,\n",
        "    '6':1,\n",
        "    '7':1,\n",
        "    '8':0,\n",
        "    '9':1,\n",
        "    '10':0,\n",
        "    '11':1,\n",
        "    '12':0,\n",
        "    '13':1,\n",
        "    '14':1,\n",
        "    '15':1,\n",
        "    '16':0,\n",
        "    '17':1,\n",
        "    '18':0,\n",
        "    '19':0,\n",
        "    '20':1,\n",
        "    '21':0,\n",
        "    '22':1,\n",
        "    '23':0,\n",
        "    '24':0\n",
        "\n",
        "}\n"
      ],
      "metadata": {
        "id": "2SFWtYtJGQUP",
        "cellView": "form"
      },
      "execution_count": null,
      "outputs": []
    },
    {
      "cell_type": "code",
      "source": [
        "#@title\n",
        "# Create age labels\n",
        "Y5 = [mapping[i] for i in Df_Features['Sub_Num']]"
      ],
      "metadata": {
        "id": "x2gmrR3eGSLk",
        "cellView": "form"
      },
      "execution_count": null,
      "outputs": []
    },
    {
      "cell_type": "code",
      "source": [
        "#@title\n",
        "y5 = to_categorical(Y5)\n",
        "\n",
        "X_train, X_test, Y_train, Y_test = train_test_split(X, y5, test_size=0.3, random_state=0)\n",
        "#print('The number of training samples:',X_train.shape[0])\n",
        "#print('The number of test samples:',X_test.shape[0])\n",
        "\n",
        "from sklearn.preprocessing import StandardScaler\n",
        "scaler = StandardScaler()\n",
        "\n",
        "scaler.fit(X_train)\n",
        "# Apply transform to both the training set and the test set.\n",
        "X_train = scaler.transform(X_train)\n",
        "X_test = scaler.transform(X_test)\n",
        "\n",
        "#### Construct neural architecture for baseline model\n",
        "input_dim = X.shape[1]\n",
        "input_img = Input(shape=(input_dim,))\n",
        "d = Dense(50, activation='relu')(input_img)\n",
        "d = Dense(20, activation='relu')(d)\n",
        "output = Dense(2, activation='softmax', kernel_regularizer=l2(0.01))(d)\n",
        "model = Model(input_img,output)\n",
        "model.compile(optimizer='adam', loss='binary_crossentropy',\n",
        "                 metrics=['categorical_accuracy'])\n",
        "    \n",
        "history = model.fit(X_train, Y_train,\n",
        "                epochs=1000,\n",
        "                batch_size=100,\n",
        "                shuffle=True,\n",
        "                verbose=0,\n",
        "                validation_data=[X_test,Y_test])\n",
        "\n",
        "### Overall test accuracy\n",
        "score = model.evaluate(X_test, Y_test)\n",
        "print ('Neural Network Model (keras) accuracy:', score[1])"
      ],
      "metadata": {
        "colab": {
          "base_uri": "https://localhost:8080/"
        },
        "id": "0FLec5U1GR9O",
        "outputId": "37ddd05e-f27a-4404-cb1b-4d378e6af0b6",
        "cellView": "form"
      },
      "execution_count": null,
      "outputs": [
        {
          "output_type": "stream",
          "name": "stdout",
          "text": [
            "32/32 [==============================] - 0s 1ms/step - loss: 0.7268 - categorical_accuracy: 0.8810\n",
            "Neural Network Model (keras) accuracy: 0.8809523582458496\n"
          ]
        }
      ]
    },
    {
      "cell_type": "markdown",
      "source": [
        "Train and test models"
      ],
      "metadata": {
        "id": "Z3vbCPUuG6DV"
      }
    },
    {
      "cell_type": "code",
      "source": [
        "#@title\n",
        "X_train, X_test, Y_train, Y_test = train_test_split(X, Y5, test_size=0.3, random_state=0)\n",
        "\n",
        "LR_L1 = LogisticRegression(C=10, penalty='l2').fit(X_train, Y_train)\n",
        "LR_L2 = LogisticRegression(C=100, penalty='l2').fit(X_train, Y_train)\n",
        "SVM_linear = SVC(kernel=\"linear\", C=0.001).fit(X_train, Y_train)\n",
        "SVM_rbf = SVC(kernel=\"rbf\", C=1000, gamma=1e-5).fit(X_train, Y_train)\n",
        "DT = DecisionTreeClassifier(criterion='entropy').fit(X_train, Y_train)\n",
        "RF = RandomForestClassifier(criterion='entropy',n_estimators=1000).fit(X_train, Y_train)\n",
        "clf = KNeighborsClassifier(5)\n",
        "KNN = clf.fit(X_train, Y_train)"
      ],
      "metadata": {
        "id": "gbvKbvgjG_kE",
        "cellView": "form"
      },
      "execution_count": null,
      "outputs": []
    },
    {
      "cell_type": "markdown",
      "source": [
        "Evaluate model performance"
      ],
      "metadata": {
        "id": "cHOX8VwQG81P"
      }
    },
    {
      "cell_type": "code",
      "source": [
        "#@title\n",
        "print('LinearSVM - accuracy: {:.2f}, f1: {:.2f}'.format(accuracy_score(Y_test, SVM_linear.predict(X_test)),f1_score(Y_test,SVM_linear.predict(X_test),average ='macro')))\n",
        "print('rbf_SVM - accuracy: {:.2f}, f1: {:.2f}'.format(accuracy_score(Y_test, SVM_rbf.predict(X_test)),f1_score(Y_test,SVM_rbf.predict(X_test),average ='macro')))\n",
        "print('Logistic_regression (L1) - accuracy: {:.2f}, f1: {:.2f}'.format(accuracy_score(Y_test, LR_L1.predict(X_test)),f1_score(Y_test,LR_L1.predict(X_test),average ='macro')))\n",
        "print('Logistic_regression (L2) - accuracy: {:.2f}, f1: {:.2f}'.format(accuracy_score(Y_test, LR_L2.predict(X_test)),f1_score(Y_test,LR_L2.predict(X_test),average ='macro')))\n",
        "print('Decision tree - accuracy: {:.2f}, f1: {:.2f}'.format(accuracy_score(Y_test, DT.predict(X_test)),f1_score(Y_test,DT.predict(X_test),average ='macro')))\n",
        "print('Random Forest - accuracy: {:.2f}, f1: {:.2f}'.format(accuracy_score(Y_test, RF.predict(X_test)),f1_score(Y_test,RF.predict(X_test),average ='macro')))\n",
        "print('K- Nearest Neighbour - accuracy: {:.2f}, f1: {:.2f}'.format(accuracy_score(Y_test, KNN.predict(X_test)),f1_score(Y_test,KNN.predict(X_test),average ='macro')))"
      ],
      "metadata": {
        "colab": {
          "base_uri": "https://localhost:8080/"
        },
        "id": "R4zQKyCnTe2T",
        "outputId": "4970a906-1f66-4fd8-a763-74fae883d2c3",
        "cellView": "form"
      },
      "execution_count": null,
      "outputs": [
        {
          "output_type": "stream",
          "name": "stdout",
          "text": [
            "LinearSVM - accuracy: 0.62, f1: 0.62\n",
            "rbf_SVM - accuracy: 0.71, f1: 0.71\n",
            "Logistic_regression (L1) - accuracy: 0.73, f1: 0.73\n",
            "Logistic_regression (L2) - accuracy: 0.74, f1: 0.73\n",
            "Decision tree - accuracy: 0.90, f1: 0.90\n",
            "Random Forest - accuracy: 0.96, f1: 0.96\n",
            "K- Nearest Neighbour - accuracy: 0.88, f1: 0.88\n"
          ]
        }
      ]
    },
    {
      "cell_type": "code",
      "source": [
        "#@title\n",
        "### Confusion matrix (predictive performance on different classes)\n",
        "def plot_confusion_matrix(cm, classes,\n",
        "                          normalize=False,\n",
        "                          title='Confusion matrix',\n",
        "                          cmap=plt.cm.Blues):\n",
        "    \"\"\"\n",
        "    function provided by sklearn example\n",
        "    \"\"\"\n",
        "    if normalize:\n",
        "        cm = cm.astype('float') / cm.sum(axis=1)[:, np.newaxis]\n",
        "        print(\"Height - Random Forest Confusion Matrix\")\n",
        "    else:\n",
        "        print('Height - Random Forest Confusion Matrix')\n",
        "\n",
        "    print(cm)\n",
        "\n",
        "cnf_matrix = confusion_matrix(Y_test, RF.predict(X_test))\n",
        "plot_confusion_matrix(cnf_matrix, classes=activity_types,\n",
        "                      title='Height - Random Forest Confusion Matrix')"
      ],
      "metadata": {
        "colab": {
          "base_uri": "https://localhost:8080/"
        },
        "id": "dqK5eXgaSRBD",
        "outputId": "d03f1bc5-fc8e-4276-d0f8-1ed8ffd07aac",
        "cellView": "form"
      },
      "execution_count": null,
      "outputs": [
        {
          "output_type": "stream",
          "name": "stdout",
          "text": [
            "Height - Random Forest Confusion Matrix\n",
            "[[450  15]\n",
            " [ 21 522]]\n"
          ]
        }
      ]
    },
    {
      "cell_type": "markdown",
      "source": [
        "###Summary"
      ],
      "metadata": {
        "id": "dpcNCCdWMU8l"
      }
    },
    {
      "cell_type": "markdown",
      "source": [
        "Performance of the models varied significantly with the Random Forest Classifier having the highest accuracy for each variable. Models ranged in accuracy of predicting gender 70% to 97%, height 62% to 96%, age 63% to 94% and weight from 61% to 96% accuracy. \n",
        "\n",
        "Confusion matrices showed that the Random Tree models for gender, weight and height had a higher number of false positives and age a higher number of false negatives. The false positives incorrectly predicted that gender was male or weight and height were above average. The false negative incorrectly predicted an age lower than the average."
      ],
      "metadata": {
        "id": "ytaFv4YyMY_6"
      }
    }
  ]
}