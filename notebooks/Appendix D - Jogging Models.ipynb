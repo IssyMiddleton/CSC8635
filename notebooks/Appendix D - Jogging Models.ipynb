{
  "nbformat": 4,
  "nbformat_minor": 0,
  "metadata": {
    "colab": {
      "name": "Jogging.ipynb",
      "provenance": [],
      "collapsed_sections": []
    },
    "kernelspec": {
      "name": "python3",
      "display_name": "Python 3"
    },
    "language_info": {
      "name": "python"
    }
  },
  "cells": [
    {
      "cell_type": "markdown",
      "source": [
        "#Model evaluation - Jogging"
      ],
      "metadata": {
        "id": "yw_NIy_h_-aY"
      }
    },
    {
      "cell_type": "markdown",
      "source": [
        "Connect to Google Drive, load libraries, reference"
      ],
      "metadata": {
        "id": "N9x4eHyT_xtF"
      }
    },
    {
      "cell_type": "code",
      "execution_count": null,
      "metadata": {
        "id": "mJxLrgvgytqk",
        "collapsed": true,
        "cellView": "form",
        "colab": {
          "base_uri": "https://localhost:8080/"
        },
        "outputId": "029e31c7-ba8a-402f-c540-6652ed6b55e3"
      },
      "outputs": [
        {
          "output_type": "stream",
          "name": "stdout",
          "text": [
            "Drive already mounted at /gdrive; to attempt to forcibly remount, call drive.mount(\"/gdrive\", force_remount=True).\n",
            "/gdrive\n",
            "/gdrive/MyDrive/CSC8635\n",
            "Tensorflow version 2.7.0\n",
            "WARNING:tensorflow:There are non-GPU devices in `tf.distribute.Strategy`, not using nccl allreduce.\n",
            "INFO:tensorflow:Using MirroredStrategy with devices ('/job:localhost/replica:0/task:0/device:CPU:0',)\n"
          ]
        }
      ],
      "source": [
        "#@title\n",
        "from google.colab import drive\n",
        "drive.mount('/gdrive')\n",
        "%cd /gdrive\n",
        "%cd /gdrive/MyDrive/CSC8635/\n",
        "\n",
        "## set up the libraries that are needed to run the analysis\n",
        "from mpl_toolkits.mplot3d import Axes3D\n",
        "from sklearn.preprocessing import StandardScaler\n",
        "import matplotlib.pyplot as plt # plotting\n",
        "import numpy as np # linear algebra\n",
        "import os # accessing directory structure\n",
        "import pandas as pd # data processing, CSV file I/O (e.g. pd.read_csv)\n",
        "import keras\n",
        "import itertools\n",
        "import re, time\n",
        "import tensorflow as tf\n",
        "\n",
        "from sklearn.metrics import accuracy_score\n",
        "from sklearn.model_selection import train_test_split\n",
        "from sklearn.metrics import confusion_matrix\n",
        "\n",
        "from keras.datasets import mnist\n",
        "from keras.callbacks import TensorBoard\n",
        "from keras.layers import Input, Dense\n",
        "from keras.models import Model\n",
        "from keras.regularizers import l2\n",
        "from tensorflow.keras.utils import to_categorical\n",
        "\n",
        "from keras.models import Sequential\n",
        "from keras.layers import Dense, Activation, Dropout\n",
        "from keras.utils import np_utils\n",
        "\n",
        "from time import time\n",
        "from sklearn.linear_model import LogisticRegression\n",
        "from sklearn.ensemble import RandomForestClassifier\n",
        "from sklearn.neighbors import KNeighborsClassifier\n",
        "from sklearn.tree import DecisionTreeClassifier\n",
        "from sklearn.svm import SVC\n",
        "from sklearn.metrics import accuracy_score, f1_score\n",
        "\n",
        "from keras.layers import Dense, Dropout, Flatten\n",
        "from keras.layers import Conv2D, MaxPooling2D\n",
        "from keras import backend as K\n",
        "\n",
        "batch_size = 128\n",
        "num_classes = 10\n",
        "epochs = 5\n",
        "from matplotlib import pyplot as plt\n",
        "print(\"Tensorflow version \" + tf.__version__)\n",
        "AUTOTUNE = tf.data.AUTOTUNE\n",
        "try: # detect TPUs\n",
        "    tpu = tf.distribute.cluster_resolver.TPUClusterResolver.connect() # TPU detection\n",
        "    strategy = tf.distribute.TPUStrategy(tpu)\n",
        "except ValueError: # detect GPUs\n",
        "    strategy = tf.distribute.MirroredStrategy() # for GPU or multi-GPU machines\n",
        "    #strategy = tf.distribute.get_strategy() # default strategy that works on CPU and single GPU\n",
        "    #strategy = tf.distribute.experimental.MultiWorkerMirroredStrategy() # for clusters of multi-GPU machines\n",
        "#print(\"Number of accelerators: \", strategy.num_replicas_in_sync)\n",
        "\n",
        "#Based on code: https://www.kaggle.com/teaprint/my-analysis-on-motion-sensor-data"
      ]
    },
    {
      "cell_type": "markdown",
      "source": [
        "Load data"
      ],
      "metadata": {
        "id": "Li7gNuW7_8Yv"
      }
    },
    {
      "cell_type": "code",
      "source": [
        "#@title\n",
        "#set up for machine learning\n",
        "import numpy as np # linear algebra\n",
        "import pandas as pd # data processing, CSV file I/O (e.g. pd.read_csv)\n",
        "import matplotlib.pyplot as plt\n",
        "%matplotlib inline\n",
        "from glob import glob\n",
        "import sklearn\n",
        "import tensorflow as tf\n",
        "\n",
        "import os\n",
        "#print(os.listdir(\"A_DeviceMotion_data/A_DeviceMotion_data\"))\n",
        "\n",
        "# Data Folders:\n",
        "Folders = glob('A_DeviceMotion_data/A_DeviceMotion_data/*_*')\n",
        "Folders = [s for s in Folders if \"csv\" not in s]\n",
        "\n",
        "Df_all_list = []\n",
        "Exp = 0\n",
        "# Segment the data to 400 samples frames , each one will be a different experiment\n",
        "Segment_Size = 400\n",
        "\n",
        "# Activity types dict:\n",
        "activity_codes = {'dws':1,'jog':2,'sit':3,'std':4,'ups':5,'wlk':6}        \n",
        "activity_types = list(activity_codes.keys())\n",
        "\n",
        "# Load All data:\n",
        "for j  in Folders:\n",
        "  Csv = glob(j + '/*' )\n",
        "  for i in Csv:\n",
        "    df = pd.read_csv(i)\n",
        "    df['Activity'] = activity_codes[j[40:43]] #IMPORTANT: this index is selecting the three letter reference for activity from your filepath\n",
        "    df['Sub_Num'] = i[len(j)+5:-4]\n",
        "    df['Exp_num'] = 1\n",
        "    ExpNum = np.zeros((df.shape[0])) \n",
        "    for i in range(0,df.shape[0]-Segment_Size,Segment_Size):\n",
        "      ExpNum[range(i,i+Segment_Size)] = i/Segment_Size +Exp*100 \n",
        "    df['Exp_num'] = ExpNum\n",
        "    #Df_all = pd.concat([Df_all,df])\n",
        "    Df_all_list.append(df)\n",
        "    Exp += 1        \n",
        "Df_all = pd.concat(Df_all_list,axis=0)  \n",
        "print(f'The data has been loaded.')\n",
        "print(f'The dimensions of the complete dataset are {Df_all.shape}.')\n",
        "print(f'The 16 column headers are {Df_all.columns}.')\n",
        "#check unique values for the participants\n",
        "#np.unique(Df_all['Sub_Num'])"
      ],
      "metadata": {
        "colab": {
          "base_uri": "https://localhost:8080/"
        },
        "id": "LGTMSlLxEC37",
        "outputId": "2da95e3e-dcc2-4573-c9b5-d3c34ca94370",
        "cellView": "form"
      },
      "execution_count": null,
      "outputs": [
        {
          "output_type": "stream",
          "name": "stdout",
          "text": [
            "The data has been loaded.\n",
            "The dimensions of the complete dataset are (1412865, 16).\n",
            "The 16 column headers are Index(['Unnamed: 0', 'attitude.roll', 'attitude.pitch', 'attitude.yaw',\n",
            "       'gravity.x', 'gravity.y', 'gravity.z', 'rotationRate.x',\n",
            "       'rotationRate.y', 'rotationRate.z', 'userAcceleration.x',\n",
            "       'userAcceleration.y', 'userAcceleration.z', 'Activity', 'Sub_Num',\n",
            "       'Exp_num'],\n",
            "      dtype='object').\n"
          ]
        }
      ]
    },
    {
      "cell_type": "markdown",
      "source": [
        "Select sitting activity type (Jogging = 2, 134231 rows)"
      ],
      "metadata": {
        "id": "LlSHOrjhyhha"
      }
    },
    {
      "cell_type": "code",
      "source": [
        "#@title\n",
        "Jogging = Df_all.loc[(Df_all['Activity'] >= 2)\n",
        "                     & (Df_all['Activity'] < 3)]"
      ],
      "metadata": {
        "id": "4e87gXo0Gzmu",
        "cellView": "form"
      },
      "execution_count": null,
      "outputs": []
    },
    {
      "cell_type": "code",
      "source": [
        "#@title\n",
        "X = Jogging.drop(['Exp_num','Unnamed: 0','Activity','Sub_Num'],axis=1)\n",
        "Y = Jogging['Sub_Num']\n",
        "print('Shape of X:', X.shape)\n",
        "print('Shape of Y:', Y.shape)"
      ],
      "metadata": {
        "colab": {
          "base_uri": "https://localhost:8080/"
        },
        "id": "StqHnMcl7fjK",
        "outputId": "aa5dce18-bd1a-4301-bd5c-f944068bac21",
        "cellView": "form"
      },
      "execution_count": null,
      "outputs": [
        {
          "output_type": "stream",
          "name": "stdout",
          "text": [
            "Shape of X: (134231, 12)\n",
            "Shape of Y: (134231,)\n"
          ]
        }
      ]
    },
    {
      "cell_type": "markdown",
      "source": [
        "###**Trial Participant**"
      ],
      "metadata": {
        "id": "rf4T2ZXj3zrF"
      }
    },
    {
      "cell_type": "markdown",
      "source": [
        "Split data into train and test"
      ],
      "metadata": {
        "id": "eUZOK5TClFny"
      }
    },
    {
      "cell_type": "code",
      "source": [
        "#@title\n",
        "X_train, X_test, Y_train, Y_test = train_test_split(X, Y, test_size=0.3, random_state=0)"
      ],
      "metadata": {
        "id": "FQOdDpi0-mzP",
        "cellView": "form"
      },
      "execution_count": null,
      "outputs": []
    },
    {
      "cell_type": "markdown",
      "source": [
        "Scale data"
      ],
      "metadata": {
        "id": "UDiATgnZlJe1"
      }
    },
    {
      "cell_type": "code",
      "source": [
        "#@title\n",
        "#scale the data\n",
        "\n",
        "scaler = StandardScaler()\n",
        "scaler.fit(X_train)\n",
        "# Apply transform to both the training set and the test set.\n",
        "X_train = scaler.transform(X_train)\n",
        "X_test = scaler.transform(X_test)"
      ],
      "metadata": {
        "cellView": "form",
        "id": "loAj58pjPN4Z"
      },
      "execution_count": null,
      "outputs": []
    },
    {
      "cell_type": "markdown",
      "source": [
        "Train and test model"
      ],
      "metadata": {
        "id": "x8h3KHV8Cnle"
      }
    },
    {
      "cell_type": "code",
      "source": [
        "#@title\n",
        "t0=time()\n",
        "LR_L1 = LogisticRegression(C=10, penalty='l2').fit(X_train, Y_train)\n",
        "print('Logistic_regression (L1) - accuracy: {:.2f}, f1 score: {:.2f}, total_time: {:.2f} sec'.format(accuracy_score(Y_test, LR_L1.predict(X_test)),f1_score(Y_test,LR_L1.predict(X_test),average ='macro'), time()-t0))"
      ],
      "metadata": {
        "id": "naMnUtrZA-PL",
        "colab": {
          "base_uri": "https://localhost:8080/"
        },
        "outputId": "a6ac08de-6d15-4e72-8c59-0915adb302b0",
        "cellView": "form"
      },
      "execution_count": null,
      "outputs": [
        {
          "output_type": "stream",
          "name": "stderr",
          "text": [
            "/usr/local/lib/python3.7/dist-packages/sklearn/linear_model/_logistic.py:818: ConvergenceWarning: lbfgs failed to converge (status=1):\n",
            "STOP: TOTAL NO. of ITERATIONS REACHED LIMIT.\n",
            "\n",
            "Increase the number of iterations (max_iter) or scale the data as shown in:\n",
            "    https://scikit-learn.org/stable/modules/preprocessing.html\n",
            "Please also refer to the documentation for alternative solver options:\n",
            "    https://scikit-learn.org/stable/modules/linear_model.html#logistic-regression\n",
            "  extra_warning_msg=_LOGISTIC_SOLVER_CONVERGENCE_MSG,\n"
          ]
        },
        {
          "output_type": "stream",
          "name": "stdout",
          "text": [
            "Logistic_regression (L1) - accuracy: 0.26, f1 score: 0.22, total_time: 20.95 sec\n"
          ]
        }
      ]
    },
    {
      "cell_type": "code",
      "source": [
        "#@title\n",
        "t0=time()\n",
        "LR_L2 = LogisticRegression(C=100, penalty='l2').fit(X_train, Y_train)\n",
        "print('Logistic_regression (L2) - accuracy: {:.2f}, f1 score: {:.2f}, total_time: {:.2f} sec'.format(accuracy_score(Y_test, LR_L2.predict(X_test)),f1_score(Y_test,LR_L1.predict(X_test),average ='macro'), time()-t0))"
      ],
      "metadata": {
        "id": "zRXE2Go8BAao",
        "colab": {
          "base_uri": "https://localhost:8080/"
        },
        "outputId": "bd162272-c160-4040-c584-864b144d72c0",
        "cellView": "form"
      },
      "execution_count": null,
      "outputs": [
        {
          "output_type": "stream",
          "name": "stderr",
          "text": [
            "/usr/local/lib/python3.7/dist-packages/sklearn/linear_model/_logistic.py:818: ConvergenceWarning: lbfgs failed to converge (status=1):\n",
            "STOP: TOTAL NO. of ITERATIONS REACHED LIMIT.\n",
            "\n",
            "Increase the number of iterations (max_iter) or scale the data as shown in:\n",
            "    https://scikit-learn.org/stable/modules/preprocessing.html\n",
            "Please also refer to the documentation for alternative solver options:\n",
            "    https://scikit-learn.org/stable/modules/linear_model.html#logistic-regression\n",
            "  extra_warning_msg=_LOGISTIC_SOLVER_CONVERGENCE_MSG,\n"
          ]
        },
        {
          "output_type": "stream",
          "name": "stdout",
          "text": [
            "Logistic_regression (L2) - accuracy: 0.26, f1 score: 0.22, total_time: 20.73 sec\n"
          ]
        }
      ]
    },
    {
      "cell_type": "code",
      "source": [
        "#@title\n",
        "t0=time()\n",
        "DT = DecisionTreeClassifier(criterion='entropy').fit(X_train, Y_train)\n",
        "print('Decision Tree - accuracy: {:.2f}, f1 score: {:.2f}, total_time: {:.2f} sec'.format(accuracy_score(Y_test, DT.predict(X_test)),f1_score(Y_test,DT.predict(X_test),average ='macro'), time()-t0))"
      ],
      "metadata": {
        "id": "MY_Kn-C1DEWC",
        "colab": {
          "base_uri": "https://localhost:8080/"
        },
        "outputId": "b48ffbef-b6ac-4663-f668-91507052c503",
        "cellView": "form"
      },
      "execution_count": null,
      "outputs": [
        {
          "output_type": "stream",
          "name": "stdout",
          "text": [
            "Decision Tree - accuracy: 0.80, f1 score: 0.79, total_time: 14.85 sec\n"
          ]
        }
      ]
    },
    {
      "cell_type": "code",
      "source": [
        "#@title\n",
        "feature_names = X.columns\n",
        "X_names = feature_names\n",
        "\n",
        "# for tree-based classifier's feature importance plotting\n",
        "def plot_keyFeat_trees(classifier, feature_names, clf_id, top_features=10):\n",
        "    importances = classifier.feature_importances_\n",
        "    indices = np.argsort(importances)[::-1]\n",
        "    indices_vis = indices[:top_features]\n",
        "    \n",
        "    plt.figure()\n",
        "    plt.figure(figsize=(15, 5))\n",
        "    plt.title(clf_id)\n",
        "    plt.bar(range(top_features), importances[indices_vis],\n",
        "       color=\"b\", align=\"center\")\n",
        "    plt.xticks(range(top_features), indices)\n",
        "    plt.xlim([-1, top_features])\n",
        "    feature_names = np.array(feature_names)\n",
        "    plt.xticks(np.arange(0, top_features), feature_names[indices_vis], rotation=60, ha='right')\n",
        "    plt.show()\n",
        "\n",
        "print('Decision tree accuracy:',accuracy_score(Y_test, DT.predict(X_test)))\n",
        "plot_keyFeat_trees(DT, X_names, 'Decision Tree - feature importance in predicting trial participant (jogging)', top_features=12)"
      ],
      "metadata": {
        "colab": {
          "base_uri": "https://localhost:8080/",
          "height": 445
        },
        "id": "2FzQzjLYCJOx",
        "outputId": "0b1ec577-bdb3-4961-9ec6-185f507d9945",
        "cellView": "form"
      },
      "execution_count": null,
      "outputs": [
        {
          "output_type": "stream",
          "name": "stdout",
          "text": [
            "Decision tree accuracy: 0.7973925999503353\n"
          ]
        },
        {
          "output_type": "display_data",
          "data": {
            "text/plain": [
              "<Figure size 432x288 with 0 Axes>"
            ]
          },
          "metadata": {}
        },
        {
          "output_type": "display_data",
          "data": {
            "image/png": "[encoded data removed]",
            "text/plain": [
              "<Figure size 1080x360 with 1 Axes>"
            ]
          },
          "metadata": {
            "needs_background": "light"
          }
        }
      ]
    },
    {
      "cell_type": "code",
      "source": [
        "#@title\n",
        "t0=time()\n",
        "clf = KNeighborsClassifier(5)\n",
        "KNN = clf.fit(X_train, Y_train)\n",
        "print('K- Nearest Neighbour  - accuracy: {:.2f}, f1 score: {:.2f}, total_time: {:.2f} sec'.format(accuracy_score(Y_test, KNN.predict(X_test)),f1_score(Y_test,KNN.predict(X_test),average ='macro'), time()-t0))\n"
      ],
      "metadata": {
        "colab": {
          "base_uri": "https://localhost:8080/"
        },
        "id": "PikhkQbDyFAH",
        "outputId": "8c72e5aa-2ef3-41a6-8f26-b54527f40999",
        "cellView": "form"
      },
      "execution_count": null,
      "outputs": [
        {
          "output_type": "stream",
          "name": "stdout",
          "text": [
            "K- Nearest Neighbour  - accuracy: 0.92, f1 score: 0.91, total_time: 24.46 sec\n"
          ]
        }
      ]
    },
    {
      "cell_type": "markdown",
      "source": [
        "###**Gender**"
      ],
      "metadata": {
        "id": "919SrWujDeAI"
      }
    },
    {
      "cell_type": "markdown",
      "source": [
        "Mapping for gender (1 for male, 0 for female)"
      ],
      "metadata": {
        "id": "cHSqbLXpDT4x"
      }
    },
    {
      "cell_type": "code",
      "source": [
        "#@title\n",
        "mapping = {\n",
        "    '1': 1,\n",
        "    '2': 1,\n",
        "    '3': 0,\n",
        "    '4': 1,\n",
        "    '5': 0,\n",
        "    '6':1,\n",
        "    '7':0,\n",
        "    '8':0,\n",
        "    '9':1,\n",
        "    '10':0,\n",
        "    '11':1,\n",
        "    '12':1,\n",
        "    '13':1,\n",
        "    '14':1,\n",
        "    '15':1,\n",
        "    '16':0,\n",
        "    '17':1,\n",
        "    '18':0,\n",
        "    '19':0,\n",
        "    '20':1,\n",
        "    '21':1,\n",
        "    '22':1,\n",
        "    '23':0,\n",
        "    '24':0\n",
        "\n",
        "}"
      ],
      "metadata": {
        "id": "5dhjPfRcTfh5",
        "cellView": "form"
      },
      "execution_count": null,
      "outputs": []
    },
    {
      "cell_type": "code",
      "source": [
        "#@title\n",
        "# Create gender labels\n",
        "Y2 = [mapping[i] for i in Jogging['Sub_Num']]"
      ],
      "metadata": {
        "id": "YXKt0DRzTjFW",
        "cellView": "form"
      },
      "execution_count": null,
      "outputs": []
    },
    {
      "cell_type": "markdown",
      "source": [
        "Prepare training and test data sets, apply scaling"
      ],
      "metadata": {
        "id": "fHJDND1Q_hbT"
      }
    },
    {
      "cell_type": "code",
      "source": [
        "#@title\n",
        "X_train, X_test, Y_train, Y_test = train_test_split(X, Y2, test_size=0.3, random_state=0)\n",
        "\n",
        "scaler = StandardScaler()\n",
        "scaler.fit(X_train)\n",
        "# Apply transform to both the training set and the test set.\n",
        "X_train = scaler.transform(X_train)\n",
        "X_test = scaler.transform(X_test)"
      ],
      "metadata": {
        "cellView": "form",
        "id": "SjhKtqGV_Z_h"
      },
      "execution_count": null,
      "outputs": []
    },
    {
      "cell_type": "markdown",
      "source": [
        "Train and test models, print evaluation results"
      ],
      "metadata": {
        "id": "KTJsjPcaD7Wz"
      }
    },
    {
      "cell_type": "code",
      "source": [
        "#@title\n",
        "t0=time()\n",
        "LR_L1 = LogisticRegression(C=10, penalty='l2').fit(X_train, Y_train)\n",
        "print('Logistic_regression (L1) - accuracy: {:.2f}, f1 score: {:.2f}, total_time: {:.2f} sec'.format(accuracy_score(Y_test, LR_L1.predict(X_test)),f1_score(Y_test,LR_L1.predict(X_test),average ='macro'), time()-t0))"
      ],
      "metadata": {
        "colab": {
          "base_uri": "https://localhost:8080/"
        },
        "cellView": "form",
        "id": "LQ81lSuxRAqg",
        "outputId": "f00a2c76-2ffb-4888-e924-df3612543367"
      },
      "execution_count": null,
      "outputs": [
        {
          "output_type": "stream",
          "name": "stdout",
          "text": [
            "Logistic_regression (L1) - accuracy: 0.61, f1 score: 0.56, total_time: 0.38 sec\n"
          ]
        }
      ]
    },
    {
      "cell_type": "code",
      "source": [
        "#@title\n",
        "t0=time()\n",
        "LR_L2 = LogisticRegression(C=100, penalty='l2').fit(X_train, Y_train)\n",
        "print('Logistic_regression (L2) - accuracy: {:.2f}, f1 score: {:.2f}, total_time: {:.2f} sec'.format(accuracy_score(Y_test, LR_L2.predict(X_test)),f1_score(Y_test,LR_L1.predict(X_test),average ='macro'), time()-t0))"
      ],
      "metadata": {
        "colab": {
          "base_uri": "https://localhost:8080/"
        },
        "cellView": "form",
        "id": "xEKDg5GmQ_LG",
        "outputId": "e69f9100-1b17-4378-a791-4a5130b0c06b"
      },
      "execution_count": null,
      "outputs": [
        {
          "output_type": "stream",
          "name": "stdout",
          "text": [
            "Logistic_regression (L2) - accuracy: 0.61, f1 score: 0.56, total_time: 0.38 sec\n"
          ]
        }
      ]
    },
    {
      "cell_type": "code",
      "source": [
        "#@title\n",
        "t0=time()\n",
        "DT = DecisionTreeClassifier(criterion='entropy').fit(X_train, Y_train)\n",
        "print('Decision Tree - accuracy: {:.2f}, f1 score: {:.2f}, total_time: {:.2f} sec'.format(accuracy_score(Y_test, DT.predict(X_test)),f1_score(Y_test,DT.predict(X_test),average ='macro'), time()-t0))"
      ],
      "metadata": {
        "colab": {
          "base_uri": "https://localhost:8080/"
        },
        "cellView": "form",
        "id": "CLR1MXrJQ_Cr",
        "outputId": "8fffc72e-a25b-4d7f-e17d-ef7d6a332c2c"
      },
      "execution_count": null,
      "outputs": [
        {
          "output_type": "stream",
          "name": "stdout",
          "text": [
            "Decision Tree - accuracy: 0.90, f1 score: 0.90, total_time: 4.86 sec\n"
          ]
        }
      ]
    },
    {
      "cell_type": "code",
      "source": [
        "#@title\n",
        "t0=time()\n",
        "clf = KNeighborsClassifier(5)\n",
        "KNN = clf.fit(X_train, Y_train)\n",
        "print('K- Nearest Neighbour  - accuracy: {:.2f}, f1 score: {:.2f}, total_time: {:.2f} sec'.format(accuracy_score(Y_test, KNN.predict(X_test)),f1_score(Y_test,KNN.predict(X_test),average ='macro'), time()-t0))"
      ],
      "metadata": {
        "colab": {
          "base_uri": "https://localhost:8080/"
        },
        "cellView": "form",
        "id": "8nE_a09xQ-6B",
        "outputId": "14d7a294-436b-417b-a325-b8418505add0"
      },
      "execution_count": null,
      "outputs": [
        {
          "output_type": "stream",
          "name": "stdout",
          "text": [
            "K- Nearest Neighbour  - accuracy: 0.97, f1 score: 0.97, total_time: 24.04 sec\n"
          ]
        }
      ]
    },
    {
      "cell_type": "markdown",
      "source": [
        "Show results of model performance by gender identification"
      ],
      "metadata": {
        "id": "vY-5cyWDD_AP"
      }
    },
    {
      "cell_type": "markdown",
      "source": [
        "###**Weight**"
      ],
      "metadata": {
        "id": "WgX1dYtfFcSy"
      }
    },
    {
      "cell_type": "markdown",
      "source": [
        "Mapping - above the average weight 72.125kg are labeled as 1; 0 for below average."
      ],
      "metadata": {
        "id": "INSM8UeeTsX_"
      }
    },
    {
      "cell_type": "code",
      "source": [
        "#@title\n",
        "mapping = {\n",
        "    '1': 1,\n",
        "    '2': 0,\n",
        "    '3': 0,\n",
        "    '4': 1,\n",
        "    '5': 0,\n",
        "    '6':1,\n",
        "    '7':0,\n",
        "    '8':0,\n",
        "    '9':1,\n",
        "    '10':0,\n",
        "    '11':0,\n",
        "    '12':0,\n",
        "    '13':0,\n",
        "    '14':0,\n",
        "    '15':0,\n",
        "    '16':1,\n",
        "    '17':1,\n",
        "    '18':0,\n",
        "    '19':1,\n",
        "    '20':1,\n",
        "    '21':0,\n",
        "    '22':1,\n",
        "    '23':0,\n",
        "    '24':1\n",
        "\n",
        "}"
      ],
      "metadata": {
        "id": "-iLH9iNpTpR1",
        "cellView": "form"
      },
      "execution_count": null,
      "outputs": []
    },
    {
      "cell_type": "code",
      "source": [
        "#@title\n",
        "# Create weight labels\n",
        "Y3 = [mapping[i] for i in Jogging['Sub_Num']]"
      ],
      "metadata": {
        "id": "HlxEUov-T0Ud",
        "cellView": "form"
      },
      "execution_count": null,
      "outputs": []
    },
    {
      "cell_type": "markdown",
      "source": [
        "Split training and test data, scale data"
      ],
      "metadata": {
        "id": "iDeZ9YO1lfDF"
      }
    },
    {
      "cell_type": "code",
      "source": [
        "#@title\n",
        "X_train, X_test, Y_train, Y_test = train_test_split(X, Y3, test_size=0.3, random_state=0)\n",
        "\n",
        "scaler = StandardScaler()\n",
        "scaler.fit(X_train)\n",
        "# Apply transform to both the training set and the test set.\n",
        "X_train = scaler.transform(X_train)\n",
        "X_test = scaler.transform(X_test)"
      ],
      "metadata": {
        "cellView": "form",
        "id": "MYr3CiA9eWud"
      },
      "execution_count": null,
      "outputs": []
    },
    {
      "cell_type": "markdown",
      "source": [
        "Evaluate model performance"
      ],
      "metadata": {
        "id": "uLRoDHfASD2D"
      }
    },
    {
      "cell_type": "code",
      "source": [
        "#@title\n",
        "t0=time()\n",
        "LR_L1 = LogisticRegression(C=10, penalty='l2').fit(X_train, Y_train)\n",
        "print('Logistic_regression (L1) - accuracy: {:.2f}, f1 score: {:.2f}, total_time: {:.2f} sec'.format(accuracy_score(Y_test, LR_L1.predict(X_test)),f1_score(Y_test,LR_L1.predict(X_test),average ='macro'), time()-t0))"
      ],
      "metadata": {
        "colab": {
          "base_uri": "https://localhost:8080/"
        },
        "cellView": "form",
        "id": "-hdwnFrpeWjN",
        "outputId": "91e3ad6b-0c29-432b-d025-b8b3afe8a082"
      },
      "execution_count": null,
      "outputs": [
        {
          "output_type": "stream",
          "name": "stdout",
          "text": [
            "Logistic_regression (L1) - accuracy: 0.56, f1 score: 0.45, total_time: 0.42 sec\n"
          ]
        }
      ]
    },
    {
      "cell_type": "code",
      "source": [
        "#@title\n",
        "t0=time()\n",
        "LR_L2 = LogisticRegression(C=100, penalty='l2').fit(X_train, Y_train)\n",
        "print('Logistic_regression (L2) - accuracy: {:.2f}, f1 score: {:.2f}, total_time: {:.2f} sec'.format(accuracy_score(Y_test, LR_L2.predict(X_test)),f1_score(Y_test,LR_L1.predict(X_test),average ='macro'), time()-t0))"
      ],
      "metadata": {
        "colab": {
          "base_uri": "https://localhost:8080/"
        },
        "cellView": "form",
        "id": "lwPIAOR-eWbB",
        "outputId": "2ca6e125-3f6e-4fc5-db53-4af2d56b4ec4"
      },
      "execution_count": null,
      "outputs": [
        {
          "output_type": "stream",
          "name": "stdout",
          "text": [
            "Logistic_regression (L2) - accuracy: 0.56, f1 score: 0.45, total_time: 0.38 sec\n"
          ]
        }
      ]
    },
    {
      "cell_type": "code",
      "source": [
        "#@title\n",
        "t0=time()\n",
        "DT = DecisionTreeClassifier(criterion='entropy').fit(X_train, Y_train)\n",
        "print('Decision Tree - accuracy: {:.2f}, f1 score: {:.2f}, total_time: {:.2f} sec'.format(accuracy_score(Y_test, DT.predict(X_test)),f1_score(Y_test,DT.predict(X_test),average ='macro'), time()-t0))"
      ],
      "metadata": {
        "colab": {
          "base_uri": "https://localhost:8080/"
        },
        "cellView": "form",
        "id": "fR7y3iKeeWR2",
        "outputId": "bb642313-00d7-4c67-d0ff-878ac5878785"
      },
      "execution_count": null,
      "outputs": [
        {
          "output_type": "stream",
          "name": "stdout",
          "text": [
            "Decision Tree - accuracy: 0.90, f1 score: 0.89, total_time: 4.59 sec\n"
          ]
        }
      ]
    },
    {
      "cell_type": "code",
      "source": [
        "#@title\n",
        "t0=time()\n",
        "clf = KNeighborsClassifier(5)\n",
        "KNN = clf.fit(X_train, Y_train)\n",
        "print('K- Nearest Neighbour  - accuracy: {:.2f}, f1 score: {:.2f}, total_time: {:.2f} sec'.format(accuracy_score(Y_test, KNN.predict(X_test)),f1_score(Y_test,KNN.predict(X_test),average ='macro'), time()-t0))"
      ],
      "metadata": {
        "colab": {
          "base_uri": "https://localhost:8080/"
        },
        "cellView": "form",
        "id": "5PIJlwcNeWFV",
        "outputId": "7a9b2f2b-1e8a-4cb0-df71-f0bd371c68d9"
      },
      "execution_count": null,
      "outputs": [
        {
          "output_type": "stream",
          "name": "stdout",
          "text": [
            "K- Nearest Neighbour  - accuracy: 0.96, f1 score: 0.96, total_time: 24.24 sec\n"
          ]
        }
      ]
    },
    {
      "cell_type": "markdown",
      "source": [
        "###**Age**"
      ],
      "metadata": {
        "id": "g8v_JLjvF8w6"
      }
    },
    {
      "cell_type": "markdown",
      "source": [
        "Mapping - subjects above the average age of 28.79 are labeled as 1; 0 for below average"
      ],
      "metadata": {
        "id": "Lo1khGeGE7VP"
      }
    },
    {
      "cell_type": "code",
      "source": [
        "#@title\n",
        "mapping = {\n",
        "    '1': 1,\n",
        "    '2': 0,\n",
        "    '3': 0,\n",
        "    '4': 1,\n",
        "    '5': 0,\n",
        "    '6':0,\n",
        "    '7':1,\n",
        "    '8':0,\n",
        "    '9':1,\n",
        "    '10':1,\n",
        "    '11':0,\n",
        "    '12':1,\n",
        "    '13':1,\n",
        "    '14':1,\n",
        "    '15':1,\n",
        "    '16':1,\n",
        "    '17':0,\n",
        "    '18':0,\n",
        "    '19':0,\n",
        "    '20':0,\n",
        "    '21':0,\n",
        "    '22':1,\n",
        "    '23':0,\n",
        "    '24':0\n",
        "\n",
        "}\n"
      ],
      "metadata": {
        "id": "yy7nVcxTE6rL",
        "cellView": "form"
      },
      "execution_count": null,
      "outputs": []
    },
    {
      "cell_type": "code",
      "source": [
        "#@title\n",
        "# Create age labels\n",
        "Y4 = [mapping[i] for i in Jogging['Sub_Num']]"
      ],
      "metadata": {
        "id": "KqCFzSxNFFX6",
        "cellView": "form"
      },
      "execution_count": null,
      "outputs": []
    },
    {
      "cell_type": "markdown",
      "source": [
        "Split data into training and test, then scale"
      ],
      "metadata": {
        "id": "YZ_kBQ1vGLz9"
      }
    },
    {
      "cell_type": "code",
      "source": [
        "#@title\n",
        "X_train, X_test, Y_train, Y_test = train_test_split(X, Y4, test_size=0.3, random_state=0)\n",
        "\n",
        "scaler = StandardScaler()\n",
        "scaler.fit(X_train)\n",
        "# Apply transform to both the training set and the test set.\n",
        "X_train = scaler.transform(X_train)\n",
        "X_test = scaler.transform(X_test)"
      ],
      "metadata": {
        "id": "P4XX_Gd4T6VG",
        "cellView": "form"
      },
      "execution_count": null,
      "outputs": []
    },
    {
      "cell_type": "markdown",
      "source": [
        "Evaluate models"
      ],
      "metadata": {
        "id": "RUhIE4D6ltNE"
      }
    },
    {
      "cell_type": "code",
      "source": [
        "#@title\n",
        "t0=time()\n",
        "LR_L1 = LogisticRegression(C=10, penalty='l2').fit(X_train, Y_train)\n",
        "print('Logistic_regression (L1) - accuracy: {:.2f}, f1 score: {:.2f}, total_time: {:.2f} sec'.format(accuracy_score(Y_test, LR_L1.predict(X_test)),f1_score(Y_test,LR_L1.predict(X_test),average ='macro'), time()-t0))"
      ],
      "metadata": {
        "colab": {
          "base_uri": "https://localhost:8080/"
        },
        "cellView": "form",
        "id": "myhGOklQe_q8",
        "outputId": "a04c919a-98bc-4f05-d4df-c3a944cb6cc9"
      },
      "execution_count": null,
      "outputs": [
        {
          "output_type": "stream",
          "name": "stdout",
          "text": [
            "Logistic_regression (L1) - accuracy: 0.60, f1 score: 0.55, total_time: 0.38 sec\n"
          ]
        }
      ]
    },
    {
      "cell_type": "code",
      "source": [
        "#@title\n",
        "t0=time()\n",
        "LR_L2 = LogisticRegression(C=100, penalty='l2').fit(X_train, Y_train)\n",
        "print('Logistic_regression (L2) - accuracy: {:.2f}, f1 score: {:.2f}, total_time: {:.2f} sec'.format(accuracy_score(Y_test, LR_L2.predict(X_test)),f1_score(Y_test,LR_L1.predict(X_test),average ='macro'), time()-t0))"
      ],
      "metadata": {
        "colab": {
          "base_uri": "https://localhost:8080/"
        },
        "cellView": "form",
        "id": "6a-SAnzie_hk",
        "outputId": "63ebdd76-5736-4b94-8af3-1edc40f799d6"
      },
      "execution_count": null,
      "outputs": [
        {
          "output_type": "stream",
          "name": "stdout",
          "text": [
            "Logistic_regression (L2) - accuracy: 0.60, f1 score: 0.55, total_time: 0.39 sec\n"
          ]
        }
      ]
    },
    {
      "cell_type": "code",
      "source": [
        "#@title\n",
        "t0=time()\n",
        "DT = DecisionTreeClassifier(criterion='entropy').fit(X_train, Y_train)\n",
        "print('Decision Tree - accuracy: {:.2f}, f1 score: {:.2f}, total_time: {:.2f} sec'.format(accuracy_score(Y_test, DT.predict(X_test)),f1_score(Y_test,DT.predict(X_test),average ='macro'), time()-t0))"
      ],
      "metadata": {
        "colab": {
          "base_uri": "https://localhost:8080/"
        },
        "cellView": "form",
        "id": "nB1Jnmwue_X1",
        "outputId": "9affde1d-acfd-4f4a-a7e9-8059a38520e3"
      },
      "execution_count": null,
      "outputs": [
        {
          "output_type": "stream",
          "name": "stdout",
          "text": [
            "Decision Tree - accuracy: 0.87, f1 score: 0.87, total_time: 4.88 sec\n"
          ]
        }
      ]
    },
    {
      "cell_type": "code",
      "source": [
        "#@title\n",
        "t0=time()\n",
        "clf = KNeighborsClassifier(5)\n",
        "KNN = clf.fit(X_train, Y_train)\n",
        "print('K- Nearest Neighbour  - accuracy: {:.2f}, f1 score: {:.2f}, total_time: {:.2f} sec'.format(accuracy_score(Y_test, KNN.predict(X_test)),f1_score(Y_test,KNN.predict(X_test),average ='macro'), time()-t0))"
      ],
      "metadata": {
        "colab": {
          "base_uri": "https://localhost:8080/"
        },
        "cellView": "form",
        "id": "kd-uhtKee9mH",
        "outputId": "0ee1c62f-1326-4581-9276-f16ee18d5a40"
      },
      "execution_count": null,
      "outputs": [
        {
          "output_type": "stream",
          "name": "stdout",
          "text": [
            "K- Nearest Neighbour  - accuracy: 0.95, f1 score: 0.95, total_time: 24.99 sec\n"
          ]
        }
      ]
    },
    {
      "cell_type": "markdown",
      "source": [
        "###**Height**"
      ],
      "metadata": {
        "id": "bziYShRuGRcw"
      }
    },
    {
      "cell_type": "markdown",
      "source": [
        "Mapping - the trail participants with above average height of 174.2cm are labeled as 1; 0 for below average"
      ],
      "metadata": {
        "id": "PqHhNTzPFVEo"
      }
    },
    {
      "cell_type": "code",
      "source": [
        "#@title\n",
        "mapping = {\n",
        "    '1': 1,\n",
        "    '2': 1,\n",
        "    '3': 0,\n",
        "    '4': 1,\n",
        "    '5': 0,\n",
        "    '6':1,\n",
        "    '7':1,\n",
        "    '8':0,\n",
        "    '9':1,\n",
        "    '10':0,\n",
        "    '11':1,\n",
        "    '12':0,\n",
        "    '13':1,\n",
        "    '14':1,\n",
        "    '15':1,\n",
        "    '16':0,\n",
        "    '17':1,\n",
        "    '18':0,\n",
        "    '19':0,\n",
        "    '20':1,\n",
        "    '21':0,\n",
        "    '22':1,\n",
        "    '23':0,\n",
        "    '24':0\n",
        "\n",
        "}\n"
      ],
      "metadata": {
        "id": "2SFWtYtJGQUP",
        "cellView": "form"
      },
      "execution_count": null,
      "outputs": []
    },
    {
      "cell_type": "code",
      "source": [
        "#@title\n",
        "# Create age labels\n",
        "Y5 = [mapping[i] for i in Jogging['Sub_Num']]"
      ],
      "metadata": {
        "id": "x2gmrR3eGSLk",
        "cellView": "form"
      },
      "execution_count": null,
      "outputs": []
    },
    {
      "cell_type": "markdown",
      "source": [
        "Split training and test data, then scale data"
      ],
      "metadata": {
        "id": "Z3vbCPUuG6DV"
      }
    },
    {
      "cell_type": "code",
      "source": [
        "#@title\n",
        "X_train, X_test, Y_train, Y_test = train_test_split(X, Y5, test_size=0.3, random_state=0)"
      ],
      "metadata": {
        "id": "gbvKbvgjG_kE",
        "cellView": "form"
      },
      "execution_count": null,
      "outputs": []
    },
    {
      "cell_type": "markdown",
      "source": [
        "Evaluate model performance"
      ],
      "metadata": {
        "id": "cHOX8VwQG81P"
      }
    },
    {
      "cell_type": "code",
      "source": [
        "#@title\n",
        "t0=time()\n",
        "LR_L1 = LogisticRegression(C=10, penalty='l2').fit(X_train, Y_train)\n",
        "print('Logistic_regression (L1) - accuracy: {:.2f}, f1 score: {:.2f}, total_time: {:.2f} sec'.format(accuracy_score(Y_test, LR_L1.predict(X_test)),f1_score(Y_test,LR_L1.predict(X_test),average ='macro'), time()-t0))"
      ],
      "metadata": {
        "colab": {
          "base_uri": "https://localhost:8080/"
        },
        "cellView": "form",
        "id": "tyRxuGy8hFp9",
        "outputId": "01bd15a0-47a9-4b50-9d8d-3ef80eea0021"
      },
      "execution_count": null,
      "outputs": [
        {
          "output_type": "stream",
          "name": "stdout",
          "text": [
            "Logistic_regression (L1) - accuracy: 0.57, f1 score: 0.55, total_time: 1.23 sec\n"
          ]
        }
      ]
    },
    {
      "cell_type": "code",
      "source": [
        "#@title\n",
        "t0=time()\n",
        "LR_L2 = LogisticRegression(C=100, penalty='l2').fit(X_train, Y_train)\n",
        "print('Logistic_regression (L2) - accuracy: {:.2f}, f1 score: {:.2f}, total_time: {:.2f} sec'.format(accuracy_score(Y_test, LR_L2.predict(X_test)),f1_score(Y_test,LR_L1.predict(X_test),average ='macro'), time()-t0))"
      ],
      "metadata": {
        "colab": {
          "base_uri": "https://localhost:8080/"
        },
        "cellView": "form",
        "id": "tNZLTXTJhFcV",
        "outputId": "874a1722-5153-4f3a-aebf-1b1f40609bce"
      },
      "execution_count": null,
      "outputs": [
        {
          "output_type": "stream",
          "name": "stdout",
          "text": [
            "Logistic_regression (L2) - accuracy: 0.57, f1 score: 0.55, total_time: 1.22 sec\n"
          ]
        }
      ]
    },
    {
      "cell_type": "code",
      "source": [
        "#@title\n",
        "t0=time()\n",
        "DT = DecisionTreeClassifier(criterion='entropy').fit(X_train, Y_train)\n",
        "print('Decision Tree - accuracy: {:.2f}, f1 score: {:.2f}, total_time: {:.2f} sec'.format(accuracy_score(Y_test, DT.predict(X_test)),f1_score(Y_test,DT.predict(X_test),average ='macro'), time()-t0))"
      ],
      "metadata": {
        "colab": {
          "base_uri": "https://localhost:8080/"
        },
        "cellView": "form",
        "id": "kKpRQzcHhD1Q",
        "outputId": "0a22d9d0-4b95-4f42-955c-4ab358f93924"
      },
      "execution_count": null,
      "outputs": [
        {
          "output_type": "stream",
          "name": "stdout",
          "text": [
            "Decision Tree - accuracy: 0.88, f1 score: 0.88, total_time: 5.12 sec\n"
          ]
        }
      ]
    },
    {
      "cell_type": "code",
      "source": [
        "#@title\n",
        "t0=time()\n",
        "clf = KNeighborsClassifier(5)\n",
        "KNN = clf.fit(X_train, Y_train)\n",
        "print('K- Nearest Neighbour  - accuracy: {:.2f}, f1 score: {:.2f}, total_time: {:.2f} sec'.format(accuracy_score(Y_test, KNN.predict(X_test)),f1_score(Y_test,KNN.predict(X_test),average ='macro'), time()-t0))"
      ],
      "metadata": {
        "colab": {
          "base_uri": "https://localhost:8080/"
        },
        "cellView": "form",
        "id": "ySYpHgJphOtD",
        "outputId": "fad8b3cc-cd7f-4a61-e63a-95537b336303"
      },
      "execution_count": null,
      "outputs": [
        {
          "output_type": "stream",
          "name": "stdout",
          "text": [
            "K- Nearest Neighbour  - accuracy: 0.94, f1 score: 0.94, total_time: 16.54 sec\n"
          ]
        }
      ]
    },
    {
      "cell_type": "markdown",
      "source": [
        "##**Summary**"
      ],
      "metadata": {
        "id": "dpcNCCdWMU8l"
      }
    },
    {
      "cell_type": "markdown",
      "source": [
        "Performance of the models varied significantly with the K- Nearest Neighbour having the highest accuracy for each variable. Models ranged in accuracy of predicting gender 62% to 97%, height 57% to 94%, age 60% to 95% and weight from 56% to 96% accuracy."
      ],
      "metadata": {
        "id": "ytaFv4YyMY_6"
      }
    }
  ]
}