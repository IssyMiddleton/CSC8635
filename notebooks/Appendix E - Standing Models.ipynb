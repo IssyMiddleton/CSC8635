{
  "nbformat": 4,
  "nbformat_minor": 0,
  "metadata": {
    "colab": {
      "name": "Standing.ipynb",
      "provenance": [],
      "collapsed_sections": []
    },
    "kernelspec": {
      "name": "python3",
      "display_name": "Python 3"
    },
    "language_info": {
      "name": "python"
    }
  },
  "cells": [
    {
      "cell_type": "markdown",
      "source": [
        "#Model evaluation - Standing"
      ],
      "metadata": {
        "id": "yw_NIy_h_-aY"
      }
    },
    {
      "cell_type": "markdown",
      "source": [
        "Connect to Google Drive, load libraries, reference"
      ],
      "metadata": {
        "id": "N9x4eHyT_xtF"
      }
    },
    {
      "cell_type": "code",
      "execution_count": null,
      "metadata": {
        "id": "mJxLrgvgytqk",
        "collapsed": true,
        "cellView": "form",
        "colab": {
          "base_uri": "https://localhost:8080/"
        },
        "outputId": "38b3a071-7335-423f-e67b-ecca1df78494"
      },
      "outputs": [
        {
          "output_type": "stream",
          "name": "stdout",
          "text": [
            "Mounted at /gdrive\n",
            "/gdrive\n",
            "/gdrive/MyDrive/CSC8635\n",
            "Tensorflow version 2.7.0\n",
            "WARNING:tensorflow:There are non-GPU devices in `tf.distribute.Strategy`, not using nccl allreduce.\n",
            "INFO:tensorflow:Using MirroredStrategy with devices ('/job:localhost/replica:0/task:0/device:CPU:0',)\n"
          ]
        }
      ],
      "source": [
        "#@title\n",
        "from google.colab import drive\n",
        "drive.mount('/gdrive')\n",
        "%cd /gdrive\n",
        "%cd /gdrive/MyDrive/CSC8635/\n",
        "\n",
        "## set up the libraries that are needed to run the analysis\n",
        "from mpl_toolkits.mplot3d import Axes3D\n",
        "from sklearn.preprocessing import StandardScaler\n",
        "import matplotlib.pyplot as plt # plotting\n",
        "import numpy as np # linear algebra\n",
        "import os # accessing directory structure\n",
        "import pandas as pd # data processing, CSV file I/O (e.g. pd.read_csv)\n",
        "import keras\n",
        "import itertools\n",
        "import re, time\n",
        "import tensorflow as tf\n",
        "\n",
        "from sklearn.metrics import accuracy_score\n",
        "from sklearn.model_selection import train_test_split\n",
        "from sklearn.metrics import confusion_matrix\n",
        "\n",
        "from keras.datasets import mnist\n",
        "from keras.callbacks import TensorBoard\n",
        "from keras.layers import Input, Dense\n",
        "from keras.models import Model\n",
        "from keras.regularizers import l2\n",
        "from tensorflow.keras.utils import to_categorical\n",
        "\n",
        "from keras.models import Sequential\n",
        "from keras.layers import Dense, Activation, Dropout\n",
        "from keras.utils import np_utils\n",
        "\n",
        "from time import time\n",
        "from sklearn.linear_model import LogisticRegression\n",
        "from sklearn.ensemble import RandomForestClassifier\n",
        "from sklearn.neighbors import KNeighborsClassifier\n",
        "from sklearn.tree import DecisionTreeClassifier\n",
        "from sklearn.svm import SVC\n",
        "from sklearn.metrics import accuracy_score, f1_score\n",
        "\n",
        "from keras.layers import Dense, Dropout, Flatten\n",
        "from keras.layers import Conv2D, MaxPooling2D\n",
        "from keras import backend as K\n",
        "\n",
        "batch_size = 128\n",
        "num_classes = 10\n",
        "epochs = 5\n",
        "from matplotlib import pyplot as plt\n",
        "print(\"Tensorflow version \" + tf.__version__)\n",
        "AUTOTUNE = tf.data.AUTOTUNE\n",
        "try: # detect TPUs\n",
        "    tpu = tf.distribute.cluster_resolver.TPUClusterResolver.connect() # TPU detection\n",
        "    strategy = tf.distribute.TPUStrategy(tpu)\n",
        "except ValueError: # detect GPUs\n",
        "    strategy = tf.distribute.MirroredStrategy() # for GPU or multi-GPU machines\n",
        "    #strategy = tf.distribute.get_strategy() # default strategy that works on CPU and single GPU\n",
        "    #strategy = tf.distribute.experimental.MultiWorkerMirroredStrategy() # for clusters of multi-GPU machines\n",
        "#print(\"Number of accelerators: \", strategy.num_replicas_in_sync)\n",
        "\n",
        "#Based on code: https://www.kaggle.com/teaprint/my-analysis-on-motion-sensor-data"
      ]
    },
    {
      "cell_type": "markdown",
      "source": [
        "Load data"
      ],
      "metadata": {
        "id": "Li7gNuW7_8Yv"
      }
    },
    {
      "cell_type": "code",
      "source": [
        "#@title\n",
        "#set up for machine learning\n",
        "import numpy as np # linear algebra\n",
        "import pandas as pd # data processing, CSV file I/O (e.g. pd.read_csv)\n",
        "import matplotlib.pyplot as plt\n",
        "%matplotlib inline\n",
        "from glob import glob\n",
        "import sklearn\n",
        "import tensorflow as tf\n",
        "\n",
        "import os\n",
        "#print(os.listdir(\"A_DeviceMotion_data/A_DeviceMotion_data\"))\n",
        "\n",
        "# Data Folders:\n",
        "Folders = glob('A_DeviceMotion_data/A_DeviceMotion_data/*_*')\n",
        "Folders = [s for s in Folders if \"csv\" not in s]\n",
        "\n",
        "Df_all_list = []\n",
        "Exp = 0\n",
        "# Segment the data to 400 samples frames , each one will be a different experiment\n",
        "Segment_Size = 400\n",
        "\n",
        "# Activity types dict:\n",
        "activity_codes = {'dws':1,'jog':2,'sit':3,'std':4,'ups':5,'wlk':6}        \n",
        "activity_types = list(activity_codes.keys())\n",
        "\n",
        "# Load All data:\n",
        "for j  in Folders:\n",
        "  Csv = glob(j + '/*' )\n",
        "  for i in Csv:\n",
        "    df = pd.read_csv(i)\n",
        "    df['Activity'] = activity_codes[j[40:43]]\n",
        "    df['Sub_Num'] = i[len(j)+5:-4]\n",
        "    df['Exp_num'] = 1\n",
        "    ExpNum = np.zeros((df.shape[0])) \n",
        "    for i in range(0,df.shape[0]-Segment_Size,Segment_Size):\n",
        "      ExpNum[range(i,i+Segment_Size)] = i/Segment_Size +Exp*100 \n",
        "    df['Exp_num'] = ExpNum\n",
        "    #Df_all = pd.concat([Df_all,df])\n",
        "    Df_all_list.append(df)\n",
        "    Exp += 1        \n",
        "Df_all = pd.concat(Df_all_list,axis=0)  \n",
        "print(f'The data has been loaded.')\n",
        "print(f'The dimensions of the complete dataset are {Df_all.shape}.')\n",
        "print(f'The 16 column headers are {Df_all.columns}.')\n",
        "#check unique values for the participants\n",
        "#np.unique(Df_all['Sub_Num'])"
      ],
      "metadata": {
        "colab": {
          "base_uri": "https://localhost:8080/"
        },
        "id": "LGTMSlLxEC37",
        "outputId": "768d8881-0a76-4b86-86a0-2cc7fecc4b7e",
        "cellView": "form"
      },
      "execution_count": null,
      "outputs": [
        {
          "output_type": "stream",
          "name": "stdout",
          "text": [
            "The data has been loaded.\n",
            "The dimensions of the complete dataset are (1412865, 16).\n",
            "The 16 column headers are Index(['Unnamed: 0', 'attitude.roll', 'attitude.pitch', 'attitude.yaw',\n",
            "       'gravity.x', 'gravity.y', 'gravity.z', 'rotationRate.x',\n",
            "       'rotationRate.y', 'rotationRate.z', 'userAcceleration.x',\n",
            "       'userAcceleration.y', 'userAcceleration.z', 'Activity', 'Sub_Num',\n",
            "       'Exp_num'],\n",
            "      dtype='object').\n"
          ]
        }
      ]
    },
    {
      "cell_type": "markdown",
      "source": [
        "Select activity type (Standing = 4, 306427 rows)"
      ],
      "metadata": {
        "id": "LlSHOrjhyhha"
      }
    },
    {
      "cell_type": "code",
      "source": [
        "#@title\n",
        "Standing = Df_all.loc[(Df_all['Activity'] >= 4)\n",
        "                     & (Df_all['Activity'] < 5)]"
      ],
      "metadata": {
        "id": "4e87gXo0Gzmu",
        "cellView": "form"
      },
      "execution_count": null,
      "outputs": []
    },
    {
      "cell_type": "code",
      "source": [
        "#@title\n",
        "X = Standing.drop(['Exp_num','Unnamed: 0','Activity','Sub_Num'],axis=1)\n",
        "Y = Standing['Sub_Num']\n",
        "print('Shape of X:', X.shape)\n",
        "print('Shape of Y:', Y.shape)"
      ],
      "metadata": {
        "colab": {
          "base_uri": "https://localhost:8080/"
        },
        "id": "StqHnMcl7fjK",
        "outputId": "42341979-5778-4170-aebc-4cf0a284291c",
        "cellView": "form"
      },
      "execution_count": null,
      "outputs": [
        {
          "output_type": "stream",
          "name": "stdout",
          "text": [
            "Shape of X: (306427, 12)\n",
            "Shape of Y: (306427,)\n"
          ]
        }
      ]
    },
    {
      "cell_type": "markdown",
      "source": [
        "###**Trial Participant**"
      ],
      "metadata": {
        "id": "qTneSzZswLyM"
      }
    },
    {
      "cell_type": "markdown",
      "source": [
        "Split data into train and test"
      ],
      "metadata": {
        "id": "eUZOK5TClFny"
      }
    },
    {
      "cell_type": "code",
      "source": [
        "#@title\n",
        "X_train, X_test, Y_train, Y_test = train_test_split(X, Y, test_size=0.3, random_state=0)"
      ],
      "metadata": {
        "id": "FQOdDpi0-mzP",
        "cellView": "form"
      },
      "execution_count": null,
      "outputs": []
    },
    {
      "cell_type": "markdown",
      "source": [
        "Scale data"
      ],
      "metadata": {
        "id": "UDiATgnZlJe1"
      }
    },
    {
      "cell_type": "code",
      "source": [
        "#@title\n",
        "#scale the data\n",
        "\n",
        "scaler = StandardScaler()\n",
        "scaler.fit(X_train)\n",
        "# Apply transform to both the training set and the test set.\n",
        "X_train = scaler.transform(X_train)\n",
        "X_test = scaler.transform(X_test)"
      ],
      "metadata": {
        "cellView": "form",
        "id": "loAj58pjPN4Z"
      },
      "execution_count": null,
      "outputs": []
    },
    {
      "cell_type": "markdown",
      "source": [
        "Train and test model"
      ],
      "metadata": {
        "id": "x8h3KHV8Cnle"
      }
    },
    {
      "cell_type": "code",
      "source": [
        "#@title\n",
        "t0=time()\n",
        "LR_L1 = LogisticRegression(C=10, penalty='l2').fit(X_train, Y_train)\n",
        "print('Logistic_regression (L1) - accuracy: {:.2f}, f1 score: {:.2f}, total_time: {:.2f} sec'.format(accuracy_score(Y_test, LR_L1.predict(X_test)),f1_score(Y_test,LR_L1.predict(X_test),average ='macro'), time()-t0))"
      ],
      "metadata": {
        "id": "naMnUtrZA-PL",
        "colab": {
          "base_uri": "https://localhost:8080/"
        },
        "outputId": "888de89c-7cb9-4fad-9fc3-2a04645e31a9",
        "cellView": "form"
      },
      "execution_count": null,
      "outputs": [
        {
          "output_type": "stream",
          "name": "stderr",
          "text": [
            "/usr/local/lib/python3.7/dist-packages/sklearn/linear_model/_logistic.py:818: ConvergenceWarning: lbfgs failed to converge (status=1):\n",
            "STOP: TOTAL NO. of ITERATIONS REACHED LIMIT.\n",
            "\n",
            "Increase the number of iterations (max_iter) or scale the data as shown in:\n",
            "    https://scikit-learn.org/stable/modules/preprocessing.html\n",
            "Please also refer to the documentation for alternative solver options:\n",
            "    https://scikit-learn.org/stable/modules/linear_model.html#logistic-regression\n",
            "  extra_warning_msg=_LOGISTIC_SOLVER_CONVERGENCE_MSG,\n"
          ]
        },
        {
          "output_type": "stream",
          "name": "stdout",
          "text": [
            "Logistic_regression (L1) - accuracy: 0.68, f1 score: 0.67, total_time: 41.00 sec\n"
          ]
        }
      ]
    },
    {
      "cell_type": "code",
      "source": [
        "#@title\n",
        "t0=time()\n",
        "LR_L2 = LogisticRegression(C=100, penalty='l2').fit(X_train, Y_train)\n",
        "print('Logistic_regression (L2) - accuracy: {:.2f}, f1 score: {:.2f}, total_time: {:.2f} sec'.format(accuracy_score(Y_test, LR_L2.predict(X_test)),f1_score(Y_test,LR_L1.predict(X_test),average ='macro'), time()-t0))"
      ],
      "metadata": {
        "id": "zRXE2Go8BAao",
        "colab": {
          "base_uri": "https://localhost:8080/"
        },
        "outputId": "8fa2e698-31f0-41b8-db21-94eceeafd10a",
        "cellView": "form"
      },
      "execution_count": null,
      "outputs": [
        {
          "output_type": "stream",
          "name": "stderr",
          "text": [
            "/usr/local/lib/python3.7/dist-packages/sklearn/linear_model/_logistic.py:818: ConvergenceWarning: lbfgs failed to converge (status=1):\n",
            "STOP: TOTAL NO. of ITERATIONS REACHED LIMIT.\n",
            "\n",
            "Increase the number of iterations (max_iter) or scale the data as shown in:\n",
            "    https://scikit-learn.org/stable/modules/preprocessing.html\n",
            "Please also refer to the documentation for alternative solver options:\n",
            "    https://scikit-learn.org/stable/modules/linear_model.html#logistic-regression\n",
            "  extra_warning_msg=_LOGISTIC_SOLVER_CONVERGENCE_MSG,\n"
          ]
        },
        {
          "output_type": "stream",
          "name": "stdout",
          "text": [
            "Logistic_regression (L2) - accuracy: 0.68, f1 score: 0.67, total_time: 41.08 sec\n"
          ]
        }
      ]
    },
    {
      "cell_type": "code",
      "source": [
        "#@title\n",
        "t0=time()\n",
        "DT = DecisionTreeClassifier(criterion='entropy').fit(X_train, Y_train)\n",
        "print('Decision Tree - accuracy: {:.2f}, f1 score: {:.2f}, total_time: {:.2f} sec'.format(accuracy_score(Y_test, DT.predict(X_test)),f1_score(Y_test,DT.predict(X_test),average ='macro'), time()-t0))"
      ],
      "metadata": {
        "id": "MY_Kn-C1DEWC",
        "colab": {
          "base_uri": "https://localhost:8080/"
        },
        "outputId": "0a1cd283-0cfd-4dc3-8d00-b9ab8aafa583",
        "cellView": "form"
      },
      "execution_count": null,
      "outputs": [
        {
          "output_type": "stream",
          "name": "stdout",
          "text": [
            "Decision Tree - accuracy: 0.98, f1 score: 0.98, total_time: 19.10 sec\n"
          ]
        }
      ]
    },
    {
      "cell_type": "code",
      "source": [
        "#@title\n",
        "feature_names = X.columns\n",
        "X_names = feature_names\n",
        "\n",
        "# for tree-based classifier's feature importance plotting\n",
        "def plot_keyFeat_trees(classifier, feature_names, clf_id, top_features=10):\n",
        "    importances = classifier.feature_importances_\n",
        "    indices = np.argsort(importances)[::-1]\n",
        "    indices_vis = indices[:top_features]\n",
        "    \n",
        "    plt.figure()\n",
        "    plt.figure(figsize=(15, 5))\n",
        "    plt.title(clf_id)\n",
        "    plt.bar(range(top_features), importances[indices_vis],\n",
        "       color=\"b\", align=\"center\")\n",
        "    plt.xticks(range(top_features), indices)\n",
        "    plt.xlim([-1, top_features])\n",
        "    feature_names = np.array(feature_names)\n",
        "    plt.xticks(np.arange(0, top_features), feature_names[indices_vis], rotation=60, ha='right')\n",
        "    plt.show()\n",
        "\n",
        "print('Decision tree accuracy:',accuracy_score(Y_test, DT.predict(X_test)))\n",
        "plot_keyFeat_trees(DT, X_names, 'Decision Tree - feature importance in predicting trial participant (Standingg)', top_features=12)"
      ],
      "metadata": {
        "colab": {
          "base_uri": "https://localhost:8080/",
          "height": 445
        },
        "id": "2FzQzjLYCJOx",
        "outputId": "e7b07570-376e-4754-97d4-46f8957f56b7",
        "cellView": "form"
      },
      "execution_count": null,
      "outputs": [
        {
          "output_type": "stream",
          "name": "stdout",
          "text": [
            "Decision tree accuracy: 0.9809853256317376\n"
          ]
        },
        {
          "output_type": "display_data",
          "data": {
            "text/plain": [
              "<Figure size 432x288 with 0 Axes>"
            ]
          },
          "metadata": {}
        },
        {
          "output_type": "display_data",
          "data": {
            "image/png": "[encoded data removed]",
            "text/plain": [
              "<Figure size 1080x360 with 1 Axes>"
            ]
          },
          "metadata": {
            "needs_background": "light"
          }
        }
      ]
    },
    {
      "cell_type": "code",
      "source": [
        "#@title\n",
        "t0=time()\n",
        "clf = KNeighborsClassifier(5)\n",
        "KNN = clf.fit(X_train, Y_train)\n",
        "print('K- Nearest Neighbour  - accuracy: {:.2f}, f1 score: {:.2f}, total_time: {:.2f} sec'.format(accuracy_score(Y_test, KNN.predict(X_test)),f1_score(Y_test,KNN.predict(X_test),average ='macro'), time()-t0))\n"
      ],
      "metadata": {
        "colab": {
          "base_uri": "https://localhost:8080/"
        },
        "id": "PikhkQbDyFAH",
        "outputId": "8be4b4be-c663-4d33-ac1f-877c7003fed4",
        "cellView": "form"
      },
      "execution_count": null,
      "outputs": [
        {
          "output_type": "stream",
          "name": "stdout",
          "text": [
            "K- Nearest Neighbour  - accuracy: 0.94, f1 score: 0.94, total_time: 93.96 sec\n"
          ]
        }
      ]
    },
    {
      "cell_type": "markdown",
      "source": [
        "###**Gender**"
      ],
      "metadata": {
        "id": "919SrWujDeAI"
      }
    },
    {
      "cell_type": "markdown",
      "source": [
        "Mapping for gender (1 for male, 0 for female)"
      ],
      "metadata": {
        "id": "cHSqbLXpDT4x"
      }
    },
    {
      "cell_type": "code",
      "source": [
        "#@title\n",
        "mapping = {\n",
        "    '1': 1,\n",
        "    '2': 1,\n",
        "    '3': 0,\n",
        "    '4': 1,\n",
        "    '5': 0,\n",
        "    '6':1,\n",
        "    '7':0,\n",
        "    '8':0,\n",
        "    '9':1,\n",
        "    '10':0,\n",
        "    '11':1,\n",
        "    '12':1,\n",
        "    '13':1,\n",
        "    '14':1,\n",
        "    '15':1,\n",
        "    '16':0,\n",
        "    '17':1,\n",
        "    '18':0,\n",
        "    '19':0,\n",
        "    '20':1,\n",
        "    '21':1,\n",
        "    '22':1,\n",
        "    '23':0,\n",
        "    '24':0\n",
        "\n",
        "}"
      ],
      "metadata": {
        "id": "5dhjPfRcTfh5",
        "cellView": "form"
      },
      "execution_count": null,
      "outputs": []
    },
    {
      "cell_type": "code",
      "source": [
        "#@title\n",
        "# Create gender labels\n",
        "Y2 = [mapping[i] for i in Standing['Sub_Num']]"
      ],
      "metadata": {
        "id": "YXKt0DRzTjFW",
        "cellView": "form"
      },
      "execution_count": null,
      "outputs": []
    },
    {
      "cell_type": "markdown",
      "source": [
        "Prepare training and test data sets, apply scaling"
      ],
      "metadata": {
        "id": "fHJDND1Q_hbT"
      }
    },
    {
      "cell_type": "code",
      "source": [
        "#@title\n",
        "X_train, X_test, Y_train, Y_test = train_test_split(X, Y2, test_size=0.3, random_state=0)\n",
        "\n",
        "scaler = StandardScaler()\n",
        "scaler.fit(X_train)\n",
        "# Apply transform to both the training set and the test set.\n",
        "X_train = scaler.transform(X_train)\n",
        "X_test = scaler.transform(X_test)"
      ],
      "metadata": {
        "cellView": "form",
        "id": "SjhKtqGV_Z_h"
      },
      "execution_count": null,
      "outputs": []
    },
    {
      "cell_type": "markdown",
      "source": [
        "Train and test models, print evaluation results"
      ],
      "metadata": {
        "id": "KTJsjPcaD7Wz"
      }
    },
    {
      "cell_type": "code",
      "source": [
        "#@title\n",
        "t0=time()\n",
        "LR_L1 = LogisticRegression(C=10, penalty='l2').fit(X_train, Y_train)\n",
        "print('Logistic_regression (L1) - accuracy: {:.2f}, f1 score: {:.2f}, total_time: {:.2f} sec'.format(accuracy_score(Y_test, LR_L1.predict(X_test)),f1_score(Y_test,LR_L1.predict(X_test),average ='macro'), time()-t0))"
      ],
      "metadata": {
        "colab": {
          "base_uri": "https://localhost:8080/"
        },
        "cellView": "form",
        "id": "LQ81lSuxRAqg",
        "outputId": "7e1e4188-9a4d-4758-ed0f-b0667e4ac19c"
      },
      "execution_count": null,
      "outputs": [
        {
          "output_type": "stream",
          "name": "stdout",
          "text": [
            "Logistic_regression (L1) - accuracy: 0.73, f1 score: 0.72, total_time: 1.08 sec\n"
          ]
        }
      ]
    },
    {
      "cell_type": "code",
      "source": [
        "#@title\n",
        "t0=time()\n",
        "LR_L2 = LogisticRegression(C=100, penalty='l2').fit(X_train, Y_train)\n",
        "print('Logistic_regression (L2) - accuracy: {:.2f}, f1 score: {:.2f}, total_time: {:.2f} sec'.format(accuracy_score(Y_test, LR_L2.predict(X_test)),f1_score(Y_test,LR_L1.predict(X_test),average ='macro'), time()-t0))"
      ],
      "metadata": {
        "colab": {
          "base_uri": "https://localhost:8080/"
        },
        "cellView": "form",
        "id": "xEKDg5GmQ_LG",
        "outputId": "c460336f-218e-46ac-f55e-f7cbe5a60755"
      },
      "execution_count": null,
      "outputs": [
        {
          "output_type": "stream",
          "name": "stdout",
          "text": [
            "Logistic_regression (L2) - accuracy: 0.73, f1 score: 0.72, total_time: 1.07 sec\n"
          ]
        }
      ]
    },
    {
      "cell_type": "code",
      "source": [
        "#@title\n",
        "t0=time()\n",
        "DT = DecisionTreeClassifier(criterion='entropy').fit(X_train, Y_train)\n",
        "print('Decision Tree - accuracy: {:.2f}, f1 score: {:.2f}, total_time: {:.2f} sec'.format(accuracy_score(Y_test, DT.predict(X_test)),f1_score(Y_test,DT.predict(X_test),average ='macro'), time()-t0))"
      ],
      "metadata": {
        "colab": {
          "base_uri": "https://localhost:8080/"
        },
        "cellView": "form",
        "id": "CLR1MXrJQ_Cr",
        "outputId": "c2b2b885-4447-466f-ad1d-dd0153295116"
      },
      "execution_count": null,
      "outputs": [
        {
          "output_type": "stream",
          "name": "stdout",
          "text": [
            "Decision Tree - accuracy: 0.99, f1 score: 0.99, total_time: 7.10 sec\n"
          ]
        }
      ]
    },
    {
      "cell_type": "code",
      "source": [
        "#@title\n",
        "t0=time()\n",
        "clf = KNeighborsClassifier(5)\n",
        "KNN = clf.fit(X_train, Y_train)\n",
        "print('K- Nearest Neighbour  - accuracy: {:.2f}, f1 score: {:.2f}, total_time: {:.2f} sec'.format(accuracy_score(Y_test, KNN.predict(X_test)),f1_score(Y_test,KNN.predict(X_test),average ='macro'), time()-t0))"
      ],
      "metadata": {
        "colab": {
          "base_uri": "https://localhost:8080/"
        },
        "cellView": "form",
        "id": "8nE_a09xQ-6B",
        "outputId": "35c445c5-eaf0-4f26-d459-0efbfaab4568"
      },
      "execution_count": null,
      "outputs": [
        {
          "output_type": "stream",
          "name": "stdout",
          "text": [
            "K- Nearest Neighbour  - accuracy: 0.98, f1 score: 0.98, total_time: 89.12 sec\n"
          ]
        }
      ]
    },
    {
      "cell_type": "markdown",
      "source": [
        "Show results of model performance by gender identification"
      ],
      "metadata": {
        "id": "vY-5cyWDD_AP"
      }
    },
    {
      "cell_type": "markdown",
      "source": [
        "###**Weight**"
      ],
      "metadata": {
        "id": "WgX1dYtfFcSy"
      }
    },
    {
      "cell_type": "markdown",
      "source": [
        "Mapping - above the average weight 72.125kg are labeled as 1; 0 for below average."
      ],
      "metadata": {
        "id": "INSM8UeeTsX_"
      }
    },
    {
      "cell_type": "code",
      "source": [
        "#@title\n",
        "mapping = {\n",
        "    '1': 1,\n",
        "    '2': 0,\n",
        "    '3': 0,\n",
        "    '4': 1,\n",
        "    '5': 0,\n",
        "    '6':1,\n",
        "    '7':0,\n",
        "    '8':0,\n",
        "    '9':1,\n",
        "    '10':0,\n",
        "    '11':0,\n",
        "    '12':0,\n",
        "    '13':0,\n",
        "    '14':0,\n",
        "    '15':0,\n",
        "    '16':1,\n",
        "    '17':1,\n",
        "    '18':0,\n",
        "    '19':1,\n",
        "    '20':1,\n",
        "    '21':0,\n",
        "    '22':1,\n",
        "    '23':0,\n",
        "    '24':1\n",
        "\n",
        "}"
      ],
      "metadata": {
        "id": "-iLH9iNpTpR1",
        "cellView": "form"
      },
      "execution_count": null,
      "outputs": []
    },
    {
      "cell_type": "code",
      "source": [
        "#@title\n",
        "# Create weight labels\n",
        "Y3 = [mapping[i] for i in Standing['Sub_Num']]"
      ],
      "metadata": {
        "id": "HlxEUov-T0Ud",
        "cellView": "form"
      },
      "execution_count": null,
      "outputs": []
    },
    {
      "cell_type": "markdown",
      "source": [
        "Split training and test data, scale data"
      ],
      "metadata": {
        "id": "iDeZ9YO1lfDF"
      }
    },
    {
      "cell_type": "code",
      "source": [
        "#@title\n",
        "X_train, X_test, Y_train, Y_test = train_test_split(X, Y3, test_size=0.3, random_state=0)\n",
        "\n",
        "scaler = StandardScaler()\n",
        "scaler.fit(X_train)\n",
        "# Apply transform to both the training set and the test set.\n",
        "X_train = scaler.transform(X_train)\n",
        "X_test = scaler.transform(X_test)"
      ],
      "metadata": {
        "cellView": "form",
        "id": "MYr3CiA9eWud"
      },
      "execution_count": null,
      "outputs": []
    },
    {
      "cell_type": "markdown",
      "source": [
        "Evaluate model performance"
      ],
      "metadata": {
        "id": "uLRoDHfASD2D"
      }
    },
    {
      "cell_type": "code",
      "source": [
        "#@title\n",
        "t0=time()\n",
        "LR_L1 = LogisticRegression(C=10, penalty='l2').fit(X_train, Y_train)\n",
        "print('Logistic_regression (L1) - accuracy: {:.2f}, f1 score: {:.2f}, total_time: {:.2f} sec'.format(accuracy_score(Y_test, LR_L1.predict(X_test)),f1_score(Y_test,LR_L1.predict(X_test),average ='macro'), time()-t0))"
      ],
      "metadata": {
        "colab": {
          "base_uri": "https://localhost:8080/"
        },
        "cellView": "form",
        "id": "-hdwnFrpeWjN",
        "outputId": "8a8973e4-b863-4593-948d-40756497b057"
      },
      "execution_count": null,
      "outputs": [
        {
          "output_type": "stream",
          "name": "stdout",
          "text": [
            "Logistic_regression (L1) - accuracy: 0.63, f1 score: 0.61, total_time: 1.22 sec\n"
          ]
        }
      ]
    },
    {
      "cell_type": "code",
      "source": [
        "#@title\n",
        "t0=time()\n",
        "LR_L2 = LogisticRegression(C=100, penalty='l2').fit(X_train, Y_train)\n",
        "print('Logistic_regression (L2) - accuracy: {:.2f}, f1 score: {:.2f}, total_time: {:.2f} sec'.format(accuracy_score(Y_test, LR_L2.predict(X_test)),f1_score(Y_test,LR_L1.predict(X_test),average ='macro'), time()-t0))"
      ],
      "metadata": {
        "colab": {
          "base_uri": "https://localhost:8080/"
        },
        "cellView": "form",
        "id": "lwPIAOR-eWbB",
        "outputId": "ca3d16ae-f89c-4a06-9d93-a1a6e0221292"
      },
      "execution_count": null,
      "outputs": [
        {
          "output_type": "stream",
          "name": "stdout",
          "text": [
            "Logistic_regression (L2) - accuracy: 0.63, f1 score: 0.61, total_time: 1.19 sec\n"
          ]
        }
      ]
    },
    {
      "cell_type": "code",
      "source": [
        "#@title\n",
        "t0=time()\n",
        "DT = DecisionTreeClassifier(criterion='entropy').fit(X_train, Y_train)\n",
        "print('Decision Tree - accuracy: {:.2f}, f1 score: {:.2f}, total_time: {:.2f} sec'.format(accuracy_score(Y_test, DT.predict(X_test)),f1_score(Y_test,DT.predict(X_test),average ='macro'), time()-t0))"
      ],
      "metadata": {
        "colab": {
          "base_uri": "https://localhost:8080/"
        },
        "cellView": "form",
        "id": "fR7y3iKeeWR2",
        "outputId": "603cc2aa-eb28-4f6d-8cc7-fd2a4b54b087"
      },
      "execution_count": null,
      "outputs": [
        {
          "output_type": "stream",
          "name": "stdout",
          "text": [
            "Decision Tree - accuracy: 0.99, f1 score: 0.99, total_time: 7.06 sec\n"
          ]
        }
      ]
    },
    {
      "cell_type": "code",
      "source": [
        "#@title\n",
        "t0=time()\n",
        "clf = KNeighborsClassifier(5)\n",
        "KNN = clf.fit(X_train, Y_train)\n",
        "print('K- Nearest Neighbour  - accuracy: {:.2f}, f1 score: {:.2f}, total_time: {:.2f} sec'.format(accuracy_score(Y_test, KNN.predict(X_test)),f1_score(Y_test,KNN.predict(X_test),average ='macro'), time()-t0))"
      ],
      "metadata": {
        "colab": {
          "base_uri": "https://localhost:8080/"
        },
        "cellView": "form",
        "id": "5PIJlwcNeWFV",
        "outputId": "4ff8a6d1-31cc-4155-d562-5666ae781061"
      },
      "execution_count": null,
      "outputs": [
        {
          "output_type": "stream",
          "name": "stdout",
          "text": [
            "K- Nearest Neighbour  - accuracy: 0.97, f1 score: 0.97, total_time: 89.41 sec\n"
          ]
        }
      ]
    },
    {
      "cell_type": "markdown",
      "source": [
        "###**Age**"
      ],
      "metadata": {
        "id": "g8v_JLjvF8w6"
      }
    },
    {
      "cell_type": "markdown",
      "source": [
        "Mapping - subjects above the average age of 28.79 are labeled as 1; 0 for below average"
      ],
      "metadata": {
        "id": "Lo1khGeGE7VP"
      }
    },
    {
      "cell_type": "code",
      "source": [
        "#@title\n",
        "mapping = {\n",
        "    '1': 1,\n",
        "    '2': 0,\n",
        "    '3': 0,\n",
        "    '4': 1,\n",
        "    '5': 0,\n",
        "    '6':0,\n",
        "    '7':1,\n",
        "    '8':0,\n",
        "    '9':1,\n",
        "    '10':1,\n",
        "    '11':0,\n",
        "    '12':1,\n",
        "    '13':1,\n",
        "    '14':1,\n",
        "    '15':1,\n",
        "    '16':1,\n",
        "    '17':0,\n",
        "    '18':0,\n",
        "    '19':0,\n",
        "    '20':0,\n",
        "    '21':0,\n",
        "    '22':1,\n",
        "    '23':0,\n",
        "    '24':0\n",
        "\n",
        "}\n"
      ],
      "metadata": {
        "id": "yy7nVcxTE6rL",
        "cellView": "form"
      },
      "execution_count": null,
      "outputs": []
    },
    {
      "cell_type": "code",
      "source": [
        "#@title\n",
        "# Create age labels\n",
        "Y4 = [mapping[i] for i in Standing['Sub_Num']]"
      ],
      "metadata": {
        "id": "KqCFzSxNFFX6",
        "cellView": "form"
      },
      "execution_count": null,
      "outputs": []
    },
    {
      "cell_type": "markdown",
      "source": [
        "Split data into training and test, then scale"
      ],
      "metadata": {
        "id": "YZ_kBQ1vGLz9"
      }
    },
    {
      "cell_type": "code",
      "source": [
        "#@title\n",
        "X_train, X_test, Y_train, Y_test = train_test_split(X, Y4, test_size=0.3, random_state=0)\n",
        "\n",
        "scaler = StandardScaler()\n",
        "scaler.fit(X_train)\n",
        "# Apply transform to both the training set and the test set.\n",
        "X_train = scaler.transform(X_train)\n",
        "X_test = scaler.transform(X_test)"
      ],
      "metadata": {
        "id": "P4XX_Gd4T6VG",
        "cellView": "form"
      },
      "execution_count": null,
      "outputs": []
    },
    {
      "cell_type": "markdown",
      "source": [
        "Evaluate models"
      ],
      "metadata": {
        "id": "RUhIE4D6ltNE"
      }
    },
    {
      "cell_type": "code",
      "source": [
        "#@title\n",
        "t0=time()\n",
        "LR_L1 = LogisticRegression(C=10, penalty='l2').fit(X_train, Y_train)\n",
        "print('Logistic_regression (L1) - accuracy: {:.2f}, f1 score: {:.2f}, total_time: {:.2f} sec'.format(accuracy_score(Y_test, LR_L1.predict(X_test)),f1_score(Y_test,LR_L1.predict(X_test),average ='macro'), time()-t0))"
      ],
      "metadata": {
        "colab": {
          "base_uri": "https://localhost:8080/"
        },
        "cellView": "form",
        "id": "myhGOklQe_q8",
        "outputId": "a78d4b09-ac3e-4bfe-a038-f644721e9936"
      },
      "execution_count": null,
      "outputs": [
        {
          "output_type": "stream",
          "name": "stdout",
          "text": [
            "Logistic_regression (L1) - accuracy: 0.70, f1 score: 0.69, total_time: 0.84 sec\n"
          ]
        }
      ]
    },
    {
      "cell_type": "code",
      "source": [
        "#@title\n",
        "t0=time()\n",
        "LR_L2 = LogisticRegression(C=100, penalty='l2').fit(X_train, Y_train)\n",
        "print('Logistic_regression (L2) - accuracy: {:.2f}, f1 score: {:.2f}, total_time: {:.2f} sec'.format(accuracy_score(Y_test, LR_L2.predict(X_test)),f1_score(Y_test,LR_L1.predict(X_test),average ='macro'), time()-t0))"
      ],
      "metadata": {
        "colab": {
          "base_uri": "https://localhost:8080/"
        },
        "cellView": "form",
        "id": "6a-SAnzie_hk",
        "outputId": "8cd59132-51c6-474d-844b-7a2e88b9a3ba"
      },
      "execution_count": null,
      "outputs": [
        {
          "output_type": "stream",
          "name": "stdout",
          "text": [
            "Logistic_regression (L2) - accuracy: 0.70, f1 score: 0.69, total_time: 0.87 sec\n"
          ]
        }
      ]
    },
    {
      "cell_type": "code",
      "source": [
        "#@title\n",
        "t0=time()\n",
        "DT = DecisionTreeClassifier(criterion='entropy').fit(X_train, Y_train)\n",
        "print('Decision Tree - accuracy: {:.2f}, f1 score: {:.2f}, total_time: {:.2f} sec'.format(accuracy_score(Y_test, DT.predict(X_test)),f1_score(Y_test,DT.predict(X_test),average ='macro'), time()-t0))"
      ],
      "metadata": {
        "colab": {
          "base_uri": "https://localhost:8080/"
        },
        "cellView": "form",
        "id": "nB1Jnmwue_X1",
        "outputId": "a2526943-d318-4012-d7e3-432a71a9448d"
      },
      "execution_count": null,
      "outputs": [
        {
          "output_type": "stream",
          "name": "stdout",
          "text": [
            "Decision Tree - accuracy: 0.99, f1 score: 0.99, total_time: 7.75 sec\n"
          ]
        }
      ]
    },
    {
      "cell_type": "code",
      "source": [
        "#@title\n",
        "t0=time()\n",
        "clf = KNeighborsClassifier(5)\n",
        "KNN = clf.fit(X_train, Y_train)\n",
        "print('K- Nearest Neighbour  - accuracy: {:.2f}, f1 score: {:.2f}, total_time: {:.2f} sec'.format(accuracy_score(Y_test, KNN.predict(X_test)),f1_score(Y_test,KNN.predict(X_test),average ='macro'), time()-t0))"
      ],
      "metadata": {
        "colab": {
          "base_uri": "https://localhost:8080/"
        },
        "cellView": "form",
        "id": "kd-uhtKee9mH",
        "outputId": "25eaed17-bd56-4f83-bb1e-d7bfb44e5a04"
      },
      "execution_count": null,
      "outputs": [
        {
          "output_type": "stream",
          "name": "stdout",
          "text": [
            "K- Nearest Neighbour  - accuracy: 0.97, f1 score: 0.97, total_time: 94.09 sec\n"
          ]
        }
      ]
    },
    {
      "cell_type": "markdown",
      "source": [
        "###**Height**"
      ],
      "metadata": {
        "id": "bziYShRuGRcw"
      }
    },
    {
      "cell_type": "markdown",
      "source": [
        "Mapping - the trail participants with above average height of 174.2cm are labeled as 1; 0 for below average"
      ],
      "metadata": {
        "id": "PqHhNTzPFVEo"
      }
    },
    {
      "cell_type": "code",
      "source": [
        "#@title\n",
        "mapping = {\n",
        "    '1': 1,\n",
        "    '2': 1,\n",
        "    '3': 0,\n",
        "    '4': 1,\n",
        "    '5': 0,\n",
        "    '6':1,\n",
        "    '7':1,\n",
        "    '8':0,\n",
        "    '9':1,\n",
        "    '10':0,\n",
        "    '11':1,\n",
        "    '12':0,\n",
        "    '13':1,\n",
        "    '14':1,\n",
        "    '15':1,\n",
        "    '16':0,\n",
        "    '17':1,\n",
        "    '18':0,\n",
        "    '19':0,\n",
        "    '20':1,\n",
        "    '21':0,\n",
        "    '22':1,\n",
        "    '23':0,\n",
        "    '24':0\n",
        "\n",
        "}\n"
      ],
      "metadata": {
        "id": "2SFWtYtJGQUP",
        "cellView": "form"
      },
      "execution_count": null,
      "outputs": []
    },
    {
      "cell_type": "code",
      "source": [
        "#@title\n",
        "# Create age labels\n",
        "Y5 = [mapping[i] for i in Standing['Sub_Num']]"
      ],
      "metadata": {
        "id": "x2gmrR3eGSLk",
        "cellView": "form"
      },
      "execution_count": null,
      "outputs": []
    },
    {
      "cell_type": "markdown",
      "source": [
        "Split training and test data, then scale data"
      ],
      "metadata": {
        "id": "Z3vbCPUuG6DV"
      }
    },
    {
      "cell_type": "code",
      "source": [
        "#@title\n",
        "X_train, X_test, Y_train, Y_test = train_test_split(X, Y5, test_size=0.3, random_state=0)"
      ],
      "metadata": {
        "id": "gbvKbvgjG_kE",
        "cellView": "form"
      },
      "execution_count": null,
      "outputs": []
    },
    {
      "cell_type": "markdown",
      "source": [
        "Evaluate model performance"
      ],
      "metadata": {
        "id": "cHOX8VwQG81P"
      }
    },
    {
      "cell_type": "code",
      "source": [
        "#@title\n",
        "t0=time()\n",
        "LR_L1 = LogisticRegression(C=10, penalty='l2').fit(X_train, Y_train)\n",
        "print('Logistic_regression (L1) - accuracy: {:.2f}, f1 score: {:.2f}, total_time: {:.2f} sec'.format(accuracy_score(Y_test, LR_L1.predict(X_test)),f1_score(Y_test,LR_L1.predict(X_test),average ='macro'), time()-t0))"
      ],
      "metadata": {
        "colab": {
          "base_uri": "https://localhost:8080/"
        },
        "cellView": "form",
        "id": "tyRxuGy8hFp9",
        "outputId": "31f2d737-5e19-4814-afff-a05745616429"
      },
      "execution_count": null,
      "outputs": [
        {
          "output_type": "stream",
          "name": "stderr",
          "text": [
            "/usr/local/lib/python3.7/dist-packages/sklearn/linear_model/_logistic.py:818: ConvergenceWarning: lbfgs failed to converge (status=1):\n",
            "STOP: TOTAL NO. of ITERATIONS REACHED LIMIT.\n",
            "\n",
            "Increase the number of iterations (max_iter) or scale the data as shown in:\n",
            "    https://scikit-learn.org/stable/modules/preprocessing.html\n",
            "Please also refer to the documentation for alternative solver options:\n",
            "    https://scikit-learn.org/stable/modules/linear_model.html#logistic-regression\n",
            "  extra_warning_msg=_LOGISTIC_SOLVER_CONVERGENCE_MSG,\n"
          ]
        },
        {
          "output_type": "stream",
          "name": "stdout",
          "text": [
            "Logistic_regression (L1) - accuracy: 0.72, f1 score: 0.72, total_time: 3.78 sec\n"
          ]
        }
      ]
    },
    {
      "cell_type": "code",
      "source": [
        "#@title\n",
        "t0=time()\n",
        "LR_L2 = LogisticRegression(C=100, penalty='l2').fit(X_train, Y_train)\n",
        "print('Logistic_regression (L2) - accuracy: {:.2f}, f1 score: {:.2f}, total_time: {:.2f} sec'.format(accuracy_score(Y_test, LR_L2.predict(X_test)),f1_score(Y_test,LR_L1.predict(X_test),average ='macro'), time()-t0))"
      ],
      "metadata": {
        "colab": {
          "base_uri": "https://localhost:8080/"
        },
        "cellView": "form",
        "id": "tNZLTXTJhFcV",
        "outputId": "fd597e82-08c7-44e1-def4-fca329079e0c"
      },
      "execution_count": null,
      "outputs": [
        {
          "output_type": "stream",
          "name": "stderr",
          "text": [
            "/usr/local/lib/python3.7/dist-packages/sklearn/linear_model/_logistic.py:818: ConvergenceWarning: lbfgs failed to converge (status=1):\n",
            "STOP: TOTAL NO. of ITERATIONS REACHED LIMIT.\n",
            "\n",
            "Increase the number of iterations (max_iter) or scale the data as shown in:\n",
            "    https://scikit-learn.org/stable/modules/preprocessing.html\n",
            "Please also refer to the documentation for alternative solver options:\n",
            "    https://scikit-learn.org/stable/modules/linear_model.html#logistic-regression\n",
            "  extra_warning_msg=_LOGISTIC_SOLVER_CONVERGENCE_MSG,\n"
          ]
        },
        {
          "output_type": "stream",
          "name": "stdout",
          "text": [
            "Logistic_regression (L2) - accuracy: 0.73, f1 score: 0.72, total_time: 3.94 sec\n"
          ]
        }
      ]
    },
    {
      "cell_type": "code",
      "source": [
        "#@title\n",
        "t0=time()\n",
        "DT = DecisionTreeClassifier(criterion='entropy').fit(X_train, Y_train)\n",
        "print('Decision Tree - accuracy: {:.2f}, f1 score: {:.2f}, total_time: {:.2f} sec'.format(accuracy_score(Y_test, DT.predict(X_test)),f1_score(Y_test,DT.predict(X_test),average ='macro'), time()-t0))"
      ],
      "metadata": {
        "colab": {
          "base_uri": "https://localhost:8080/"
        },
        "cellView": "form",
        "id": "kKpRQzcHhD1Q",
        "outputId": "119f77c2-afa4-46df-84b4-5685049cf5e6"
      },
      "execution_count": null,
      "outputs": [
        {
          "output_type": "stream",
          "name": "stdout",
          "text": [
            "Decision Tree - accuracy: 0.99, f1 score: 0.99, total_time: 6.70 sec\n"
          ]
        }
      ]
    },
    {
      "cell_type": "code",
      "source": [
        "#@title\n",
        "t0=time()\n",
        "clf = KNeighborsClassifier(5)\n",
        "KNN = clf.fit(X_train, Y_train)\n",
        "print('K- Nearest Neighbour  - accuracy: {:.2f}, f1 score: {:.2f}, total_time: {:.2f} sec'.format(accuracy_score(Y_test, KNN.predict(X_test)),f1_score(Y_test,KNN.predict(X_test),average ='macro'), time()-t0))"
      ],
      "metadata": {
        "colab": {
          "base_uri": "https://localhost:8080/"
        },
        "cellView": "form",
        "id": "ySYpHgJphOtD",
        "outputId": "6d4d2918-514b-46ff-c3d6-eec6db34a0ab"
      },
      "execution_count": null,
      "outputs": [
        {
          "output_type": "stream",
          "name": "stdout",
          "text": [
            "K- Nearest Neighbour  - accuracy: 0.99, f1 score: 0.99, total_time: 14.95 sec\n"
          ]
        }
      ]
    },
    {
      "cell_type": "markdown",
      "source": [
        "##**Summary**"
      ],
      "metadata": {
        "id": "dpcNCCdWMU8l"
      }
    },
    {
      "cell_type": "markdown",
      "source": [
        "Performance of the models varied significantly with the Decision Tree Classification Model marginally more accurate than K- Nearest Neighbour, having the highest accuracy for each variable. Models ranged in accuracy of predicting gender 73% to 99%, height 72% to 99%, age 70% to 99% and weight from 63% to 99% accuracy."
      ],
      "metadata": {
        "id": "ytaFv4YyMY_6"
      }
    }
  ]
}