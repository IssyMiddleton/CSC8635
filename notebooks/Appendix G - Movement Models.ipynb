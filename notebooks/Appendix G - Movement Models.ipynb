{
  "nbformat": 4,
  "nbformat_minor": 0,
  "metadata": {
    "colab": {
      "name": "Move.ipynb",
      "provenance": [],
      "collapsed_sections": []
    },
    "kernelspec": {
      "name": "python3",
      "display_name": "Python 3"
    },
    "language_info": {
      "name": "python"
    }
  },
  "cells": [
    {
      "cell_type": "markdown",
      "source": [
        "#Model evaluation - Move"
      ],
      "metadata": {
        "id": "yw_NIy_h_-aY"
      }
    },
    {
      "cell_type": "markdown",
      "source": [
        "Connect to Google Drive, load libraries, reference"
      ],
      "metadata": {
        "id": "N9x4eHyT_xtF"
      }
    },
    {
      "cell_type": "code",
      "execution_count": null,
      "metadata": {
        "id": "mJxLrgvgytqk",
        "collapsed": true,
        "cellView": "form",
        "colab": {
          "base_uri": "https://localhost:8080/"
        },
        "outputId": "198e976c-f3b5-42cc-bfd7-c85ea1e80d13"
      },
      "outputs": [
        {
          "output_type": "stream",
          "name": "stdout",
          "text": [
            "Mounted at /gdrive\n",
            "/gdrive\n",
            "/gdrive/MyDrive/CSC8635\n",
            "Tensorflow version 2.7.0\n",
            "WARNING:tensorflow:There are non-GPU devices in `tf.distribute.Strategy`, not using nccl allreduce.\n",
            "INFO:tensorflow:Using MirroredStrategy with devices ('/job:localhost/replica:0/task:0/device:CPU:0',)\n"
          ]
        }
      ],
      "source": [
        "#@title\n",
        "from google.colab import drive\n",
        "drive.mount('/gdrive')\n",
        "%cd /gdrive\n",
        "%cd /gdrive/MyDrive/CSC8635/\n",
        "\n",
        "## set up the libraries that are needed to run the analysis\n",
        "from mpl_toolkits.mplot3d import Axes3D\n",
        "from sklearn.preprocessing import StandardScaler\n",
        "import matplotlib.pyplot as plt # plotting\n",
        "import numpy as np # linear algebra\n",
        "import os # accessing directory structure\n",
        "import pandas as pd # data processing, CSV file I/O (e.g. pd.read_csv)\n",
        "import keras\n",
        "import itertools\n",
        "import re, time\n",
        "import tensorflow as tf\n",
        "\n",
        "from sklearn.metrics import accuracy_score\n",
        "from sklearn.model_selection import train_test_split\n",
        "from sklearn.metrics import confusion_matrix\n",
        "\n",
        "from keras.datasets import mnist\n",
        "from keras.callbacks import TensorBoard\n",
        "from keras.layers import Input, Dense\n",
        "from keras.models import Model\n",
        "from keras.regularizers import l2\n",
        "from tensorflow.keras.utils import to_categorical\n",
        "\n",
        "from keras.models import Sequential\n",
        "from keras.layers import Dense, Activation, Dropout\n",
        "from keras.utils import np_utils\n",
        "\n",
        "from time import time\n",
        "from sklearn.linear_model import LogisticRegression\n",
        "from sklearn.ensemble import RandomForestClassifier\n",
        "from sklearn.neighbors import KNeighborsClassifier\n",
        "from sklearn.tree import DecisionTreeClassifier\n",
        "from sklearn.svm import SVC\n",
        "from sklearn.metrics import accuracy_score, f1_score\n",
        "\n",
        "from keras.layers import Dense, Dropout, Flatten\n",
        "from keras.layers import Conv2D, MaxPooling2D\n",
        "from keras import backend as K\n",
        "\n",
        "batch_size = 128\n",
        "num_classes = 10\n",
        "epochs = 5\n",
        "from matplotlib import pyplot as plt\n",
        "print(\"Tensorflow version \" + tf.__version__)\n",
        "AUTOTUNE = tf.data.AUTOTUNE\n",
        "try: # detect TPUs\n",
        "    tpu = tf.distribute.cluster_resolver.TPUClusterResolver.connect() # TPU detection\n",
        "    strategy = tf.distribute.TPUStrategy(tpu)\n",
        "except ValueError: # detect GPUs\n",
        "    strategy = tf.distribute.MirroredStrategy() # for GPU or multi-GPU machines\n",
        "    #strategy = tf.distribute.get_strategy() # default strategy that works on CPU and single GPU\n",
        "    #strategy = tf.distribute.experimental.MultiWorkerMirroredStrategy() # for clusters of multi-GPU machines\n",
        "#print(\"Number of accelerators: \", strategy.num_replicas_in_sync)\n",
        "\n",
        "#Based on code: https://www.kaggle.com/teaprint/my-analysis-on-motion-sensor-data"
      ]
    },
    {
      "cell_type": "markdown",
      "source": [
        "Load data"
      ],
      "metadata": {
        "id": "Li7gNuW7_8Yv"
      }
    },
    {
      "cell_type": "code",
      "source": [
        "#@title\n",
        "#set up for machine learning\n",
        "import numpy as np # linear algebra\n",
        "import pandas as pd # data processing, CSV file I/O (e.g. pd.read_csv)\n",
        "import matplotlib.pyplot as plt\n",
        "%matplotlib inline\n",
        "from glob import glob\n",
        "import sklearn\n",
        "import tensorflow as tf\n",
        "\n",
        "import os\n",
        "#print(os.listdir(\"A_DeviceMotion_data/A_DeviceMotion_data\"))\n",
        "\n",
        "# Data Folders:\n",
        "Folders = glob('A_DeviceMotion_data/A_DeviceMotion_data/*_*')\n",
        "Folders = [s for s in Folders if \"csv\" not in s]\n",
        "\n",
        "Df_all_list = []\n",
        "Exp = 0\n",
        "# Segment the data to 400 samples frames , each one will be a different experiment\n",
        "Segment_Size = 400\n",
        "\n",
        "# Activity types dict:\n",
        "activity_codes = {'dws':1,'jog':2,'sit':3,'std':4,'ups':5,'wlk':6}        \n",
        "activity_types = list(activity_codes.keys())\n",
        "\n",
        "# Load All data:\n",
        "for j  in Folders:\n",
        "  Csv = glob(j + '/*' )\n",
        "  for i in Csv:\n",
        "    df = pd.read_csv(i)\n",
        "    df['Activity'] = activity_codes[j[40:43]] #IMPORTANT: this index is selecting the three letter reference for activity from your filepath and may need adjusting\n",
        "    df['Sub_Num'] = i[len(j)+5:-4]\n",
        "    df['Exp_num'] = 1\n",
        "    ExpNum = np.zeros((df.shape[0])) \n",
        "    for i in range(0,df.shape[0]-Segment_Size,Segment_Size):\n",
        "      ExpNum[range(i,i+Segment_Size)] = i/Segment_Size +Exp*100 \n",
        "    df['Exp_num'] = ExpNum\n",
        "    #Df_all = pd.concat([Df_all,df])\n",
        "    Df_all_list.append(df)\n",
        "    Exp += 1        \n",
        "Df_all = pd.concat(Df_all_list,axis=0)  \n",
        "print(f'The data has been loaded.')\n",
        "print(f'The dimensions of the complete dataset are {Df_all.shape}.')\n",
        "print(f'The 16 column headers are {Df_all.columns}.')\n",
        "#check unique values for the participants\n",
        "#np.unique(Df_all['Sub_Num'])"
      ],
      "metadata": {
        "colab": {
          "base_uri": "https://localhost:8080/"
        },
        "id": "LGTMSlLxEC37",
        "outputId": "e633156d-2ed5-4e73-ed33-0a417a1baacf",
        "cellView": "form"
      },
      "execution_count": null,
      "outputs": [
        {
          "output_type": "stream",
          "name": "stdout",
          "text": [
            "The data has been loaded.\n",
            "The dimensions of the complete dataset are (1412865, 16).\n",
            "The 16 column headers are Index(['Unnamed: 0', 'attitude.roll', 'attitude.pitch', 'attitude.yaw',\n",
            "       'gravity.x', 'gravity.y', 'gravity.z', 'rotationRate.x',\n",
            "       'rotationRate.y', 'rotationRate.z', 'userAcceleration.x',\n",
            "       'userAcceleration.y', 'userAcceleration.z', 'Activity', 'Sub_Num',\n",
            "       'Exp_num'],\n",
            "      dtype='object').\n"
          ]
        }
      ]
    },
    {
      "cell_type": "markdown",
      "source": [
        "Select sitting activity type (Move = 4, 808000 rows)"
      ],
      "metadata": {
        "id": "LlSHOrjhyhha"
      }
    },
    {
      "cell_type": "code",
      "source": [
        "#@title\n",
        "Move = Df_all.loc[(Df_all['Activity'] == 4)\n",
        "                     | (Df_all['Activity'] >= 5)]"
      ],
      "metadata": {
        "id": "4e87gXo0Gzmu",
        "cellView": "form"
      },
      "execution_count": null,
      "outputs": []
    },
    {
      "cell_type": "code",
      "source": [
        "#@title\n",
        "X = Move.drop(['Exp_num','Unnamed: 0','Activity','Sub_Num'],axis=1)\n",
        "Y = Move['Sub_Num']\n",
        "print('Shape of X:', X.shape)\n",
        "print('Shape of Y:', Y.shape)"
      ],
      "metadata": {
        "colab": {
          "base_uri": "https://localhost:8080/"
        },
        "id": "StqHnMcl7fjK",
        "outputId": "176f56fc-5ef1-4ae1-f3dc-3b23ec20c0bb",
        "cellView": "form"
      },
      "execution_count": null,
      "outputs": [
        {
          "output_type": "stream",
          "name": "stdout",
          "text": [
            "Shape of X: (808000, 12)\n",
            "Shape of Y: (808000,)\n"
          ]
        }
      ]
    },
    {
      "cell_type": "markdown",
      "source": [
        "###**Trial Participant**"
      ],
      "metadata": {
        "id": "4Bk9dFqSwxBf"
      }
    },
    {
      "cell_type": "markdown",
      "source": [
        "Split data into train and test"
      ],
      "metadata": {
        "id": "eUZOK5TClFny"
      }
    },
    {
      "cell_type": "code",
      "source": [
        "#@title\n",
        "X_train, X_test, Y_train, Y_test = train_test_split(X, Y, test_size=0.3, random_state=0)"
      ],
      "metadata": {
        "id": "FQOdDpi0-mzP",
        "cellView": "form"
      },
      "execution_count": null,
      "outputs": []
    },
    {
      "cell_type": "markdown",
      "source": [
        "Scale data"
      ],
      "metadata": {
        "id": "UDiATgnZlJe1"
      }
    },
    {
      "cell_type": "code",
      "source": [
        "#@title\n",
        "#scale the data\n",
        "\n",
        "scaler = StandardScaler()\n",
        "scaler.fit(X_train)\n",
        "# Apply transform to both the training set and the test set.\n",
        "X_train = scaler.transform(X_train)\n",
        "X_test = scaler.transform(X_test)"
      ],
      "metadata": {
        "cellView": "form",
        "id": "loAj58pjPN4Z"
      },
      "execution_count": null,
      "outputs": []
    },
    {
      "cell_type": "markdown",
      "source": [
        "Train and test model"
      ],
      "metadata": {
        "id": "x8h3KHV8Cnle"
      }
    },
    {
      "cell_type": "code",
      "source": [
        "#@title\n",
        "t0=time()\n",
        "LR_L1 = LogisticRegression(C=10, penalty='l2').fit(X_train, Y_train)\n",
        "print('Logistic_regression (L1) - accuracy: {:.2f}, f1 score: {:.2f}, total_time: {:.2f} sec'.format(accuracy_score(Y_test, LR_L1.predict(X_test)),f1_score(Y_test,LR_L1.predict(X_test),average ='macro'), time()-t0))"
      ],
      "metadata": {
        "id": "naMnUtrZA-PL",
        "colab": {
          "base_uri": "https://localhost:8080/"
        },
        "outputId": "3f81e214-c31b-40ae-9020-b5e4bc668512",
        "cellView": "form"
      },
      "execution_count": null,
      "outputs": [
        {
          "output_type": "stream",
          "name": "stderr",
          "text": [
            "/usr/local/lib/python3.7/dist-packages/sklearn/linear_model/_logistic.py:818: ConvergenceWarning: lbfgs failed to converge (status=1):\n",
            "STOP: TOTAL NO. of ITERATIONS REACHED LIMIT.\n",
            "\n",
            "Increase the number of iterations (max_iter) or scale the data as shown in:\n",
            "    https://scikit-learn.org/stable/modules/preprocessing.html\n",
            "Please also refer to the documentation for alternative solver options:\n",
            "    https://scikit-learn.org/stable/modules/linear_model.html#logistic-regression\n",
            "  extra_warning_msg=_LOGISTIC_SOLVER_CONVERGENCE_MSG,\n"
          ]
        },
        {
          "output_type": "stream",
          "name": "stdout",
          "text": [
            "Logistic_regression (L1) - accuracy: 0.29, f1 score: 0.24, total_time: 98.54 sec\n"
          ]
        }
      ]
    },
    {
      "cell_type": "code",
      "source": [
        "#@title\n",
        "t0=time()\n",
        "LR_L2 = LogisticRegression(C=100, penalty='l2').fit(X_train, Y_train)\n",
        "print('Logistic_regression (L2) - accuracy: {:.2f}, f1 score: {:.2f}, total_time: {:.2f} sec'.format(accuracy_score(Y_test, LR_L2.predict(X_test)),f1_score(Y_test,LR_L1.predict(X_test),average ='macro'), time()-t0))"
      ],
      "metadata": {
        "id": "zRXE2Go8BAao",
        "colab": {
          "base_uri": "https://localhost:8080/"
        },
        "outputId": "515fb5f4-4f62-410a-a312-543e0543fa22",
        "cellView": "form"
      },
      "execution_count": null,
      "outputs": [
        {
          "output_type": "stream",
          "name": "stderr",
          "text": [
            "/usr/local/lib/python3.7/dist-packages/sklearn/linear_model/_logistic.py:818: ConvergenceWarning: lbfgs failed to converge (status=1):\n",
            "STOP: TOTAL NO. of ITERATIONS REACHED LIMIT.\n",
            "\n",
            "Increase the number of iterations (max_iter) or scale the data as shown in:\n",
            "    https://scikit-learn.org/stable/modules/preprocessing.html\n",
            "Please also refer to the documentation for alternative solver options:\n",
            "    https://scikit-learn.org/stable/modules/linear_model.html#logistic-regression\n",
            "  extra_warning_msg=_LOGISTIC_SOLVER_CONVERGENCE_MSG,\n"
          ]
        },
        {
          "output_type": "stream",
          "name": "stdout",
          "text": [
            "Logistic_regression (L2) - accuracy: 0.29, f1 score: 0.24, total_time: 103.75 sec\n"
          ]
        }
      ]
    },
    {
      "cell_type": "code",
      "source": [
        "#@title\n",
        "t0=time()\n",
        "DT = DecisionTreeClassifier(criterion='entropy').fit(X_train, Y_train)\n",
        "print('Decision Tree - accuracy: {:.2f}, f1 score: {:.2f}, total_time: {:.2f} sec'.format(accuracy_score(Y_test, DT.predict(X_test)),f1_score(Y_test,DT.predict(X_test),average ='macro'), time()-t0))"
      ],
      "metadata": {
        "id": "MY_Kn-C1DEWC",
        "colab": {
          "base_uri": "https://localhost:8080/"
        },
        "outputId": "dcfddc10-8b56-418d-a0a0-6eec6ac03233",
        "cellView": "form"
      },
      "execution_count": null,
      "outputs": [
        {
          "output_type": "stream",
          "name": "stdout",
          "text": [
            "Decision Tree - accuracy: 0.84, f1 score: 0.84, total_time: 105.85 sec\n"
          ]
        }
      ]
    },
    {
      "cell_type": "code",
      "source": [
        "#@title\n",
        "feature_names = X.columns\n",
        "X_names = feature_names\n",
        "\n",
        "# for tree-based classifier's feature importance plotting\n",
        "def plot_keyFeat_trees(classifier, feature_names, clf_id, top_features=10):\n",
        "    importances = classifier.feature_importances_\n",
        "    indices = np.argsort(importances)[::-1]\n",
        "    indices_vis = indices[:top_features]\n",
        "    \n",
        "    plt.figure()\n",
        "    plt.figure(figsize=(15, 5))\n",
        "    plt.title(clf_id)\n",
        "    plt.bar(range(top_features), importances[indices_vis],\n",
        "       color=\"b\", align=\"center\")\n",
        "    plt.xticks(range(top_features), indices)\n",
        "    plt.xlim([-1, top_features])\n",
        "    feature_names = np.array(feature_names)\n",
        "    plt.xticks(np.arange(0, top_features), feature_names[indices_vis], rotation=60, ha='right')\n",
        "    plt.show()\n",
        "\n",
        "print('Decision tree accuracy:',accuracy_score(Y_test, DT.predict(X_test)))\n",
        "plot_keyFeat_trees(DT, X_names, 'Decision Tree - feature importance in predicting trial participant (Moveg)', top_features=12)"
      ],
      "metadata": {
        "colab": {
          "base_uri": "https://localhost:8080/",
          "height": 445
        },
        "id": "2FzQzjLYCJOx",
        "outputId": "ec11a19a-ad5f-4443-f657-19ad979e069f",
        "cellView": "form"
      },
      "execution_count": null,
      "outputs": [
        {
          "output_type": "stream",
          "name": "stdout",
          "text": [
            "Decision tree accuracy: 0.8376237623762376\n"
          ]
        },
        {
          "output_type": "display_data",
          "data": {
            "text/plain": [
              "<Figure size 432x288 with 0 Axes>"
            ]
          },
          "metadata": {}
        },
        {
          "output_type": "display_data",
          "data": {
            "image/png": "[encoded data removed]",
            "text/plain": [
              "<Figure size 1080x360 with 1 Axes>"
            ]
          },
          "metadata": {
            "needs_background": "light"
          }
        }
      ]
    },
    {
      "cell_type": "code",
      "source": [
        "#@title\n",
        "t0=time()\n",
        "clf = KNeighborsClassifier(5)\n",
        "KNN = clf.fit(X_train, Y_train)\n",
        "print('K- Nearest Neighbour  - accuracy: {:.2f}, f1 score: {:.2f}, total_time: {:.2f} sec'.format(accuracy_score(Y_test, KNN.predict(X_test)),f1_score(Y_test,KNN.predict(X_test),average ='macro'), time()-t0))\n"
      ],
      "metadata": {
        "colab": {
          "base_uri": "https://localhost:8080/"
        },
        "id": "PikhkQbDyFAH",
        "outputId": "956e14ff-750e-4237-aa1e-b10c328f40f0",
        "cellView": "form"
      },
      "execution_count": null,
      "outputs": [
        {
          "output_type": "stream",
          "name": "stdout",
          "text": [
            "K- Nearest Neighbour  - accuracy: 0.92, f1 score: 0.92, total_time: 297.98 sec\n"
          ]
        }
      ]
    },
    {
      "cell_type": "markdown",
      "source": [
        "###**Gender**"
      ],
      "metadata": {
        "id": "919SrWujDeAI"
      }
    },
    {
      "cell_type": "markdown",
      "source": [
        "Mapping for gender (1 for male, 0 for female)"
      ],
      "metadata": {
        "id": "cHSqbLXpDT4x"
      }
    },
    {
      "cell_type": "code",
      "source": [
        "#@title\n",
        "mapping = {\n",
        "    '1': 1,\n",
        "    '2': 1,\n",
        "    '3': 0,\n",
        "    '4': 1,\n",
        "    '5': 0,\n",
        "    '6':1,\n",
        "    '7':0,\n",
        "    '8':0,\n",
        "    '9':1,\n",
        "    '10':0,\n",
        "    '11':1,\n",
        "    '12':1,\n",
        "    '13':1,\n",
        "    '14':1,\n",
        "    '15':1,\n",
        "    '16':0,\n",
        "    '17':1,\n",
        "    '18':0,\n",
        "    '19':0,\n",
        "    '20':1,\n",
        "    '21':1,\n",
        "    '22':1,\n",
        "    '23':0,\n",
        "    '24':0\n",
        "\n",
        "}"
      ],
      "metadata": {
        "id": "5dhjPfRcTfh5",
        "cellView": "form"
      },
      "execution_count": null,
      "outputs": []
    },
    {
      "cell_type": "code",
      "source": [
        "#@title\n",
        "# Create gender labels\n",
        "Y2 = [mapping[i] for i in Move['Sub_Num']]"
      ],
      "metadata": {
        "id": "YXKt0DRzTjFW",
        "cellView": "form"
      },
      "execution_count": null,
      "outputs": []
    },
    {
      "cell_type": "markdown",
      "source": [
        "Prepare training and test data sets, apply scaling"
      ],
      "metadata": {
        "id": "fHJDND1Q_hbT"
      }
    },
    {
      "cell_type": "code",
      "source": [
        "#@title\n",
        "X_train, X_test, Y_train, Y_test = train_test_split(X, Y2, test_size=0.3, random_state=0)\n",
        "\n",
        "scaler = StandardScaler()\n",
        "scaler.fit(X_train)\n",
        "# Apply transform to both the training set and the test set.\n",
        "X_train = scaler.transform(X_train)\n",
        "X_test = scaler.transform(X_test)"
      ],
      "metadata": {
        "cellView": "form",
        "id": "SjhKtqGV_Z_h"
      },
      "execution_count": null,
      "outputs": []
    },
    {
      "cell_type": "markdown",
      "source": [
        "Train and test models, print evaluation results"
      ],
      "metadata": {
        "id": "KTJsjPcaD7Wz"
      }
    },
    {
      "cell_type": "code",
      "source": [
        "#@title\n",
        "t0=time()\n",
        "LR_L1 = LogisticRegression(C=10, penalty='l2').fit(X_train, Y_train)\n",
        "print('Logistic_regression (L1) - accuracy: {:.2f}, f1 score: {:.2f}, total_time: {:.2f} sec'.format(accuracy_score(Y_test, LR_L1.predict(X_test)),f1_score(Y_test,LR_L1.predict(X_test),average ='macro'), time()-t0))"
      ],
      "metadata": {
        "colab": {
          "base_uri": "https://localhost:8080/"
        },
        "cellView": "form",
        "id": "LQ81lSuxRAqg",
        "outputId": "1454f244-7fd1-4f71-a993-046944eaf0d1"
      },
      "execution_count": null,
      "outputs": [
        {
          "output_type": "stream",
          "name": "stdout",
          "text": [
            "Logistic_regression (L1) - accuracy: 0.60, f1 score: 0.55, total_time: 2.59 sec\n"
          ]
        }
      ]
    },
    {
      "cell_type": "code",
      "source": [
        "#@title\n",
        "t0=time()\n",
        "LR_L2 = LogisticRegression(C=100, penalty='l2').fit(X_train, Y_train)\n",
        "print('Logistic_regression (L2) - accuracy: {:.2f}, f1 score: {:.2f}, total_time: {:.2f} sec'.format(accuracy_score(Y_test, LR_L2.predict(X_test)),f1_score(Y_test,LR_L1.predict(X_test),average ='macro'), time()-t0))"
      ],
      "metadata": {
        "colab": {
          "base_uri": "https://localhost:8080/"
        },
        "cellView": "form",
        "id": "xEKDg5GmQ_LG",
        "outputId": "d436f566-30c4-4dfc-eaab-976be822477b"
      },
      "execution_count": null,
      "outputs": [
        {
          "output_type": "stream",
          "name": "stdout",
          "text": [
            "Logistic_regression (L2) - accuracy: 0.60, f1 score: 0.55, total_time: 2.58 sec\n"
          ]
        }
      ]
    },
    {
      "cell_type": "code",
      "source": [
        "#@title\n",
        "t0=time()\n",
        "DT = DecisionTreeClassifier(criterion='entropy').fit(X_train, Y_train)\n",
        "print('Decision Tree - accuracy: {:.2f}, f1 score: {:.2f}, total_time: {:.2f} sec'.format(accuracy_score(Y_test, DT.predict(X_test)),f1_score(Y_test,DT.predict(X_test),average ='macro'), time()-t0))"
      ],
      "metadata": {
        "colab": {
          "base_uri": "https://localhost:8080/"
        },
        "cellView": "form",
        "id": "CLR1MXrJQ_Cr",
        "outputId": "9ec0e1d4-89e6-4a8e-e9de-ead939d7ee7c"
      },
      "execution_count": null,
      "outputs": [
        {
          "output_type": "stream",
          "name": "stdout",
          "text": [
            "Decision Tree - accuracy: 0.93, f1 score: 0.92, total_time: 35.27 sec\n"
          ]
        }
      ]
    },
    {
      "cell_type": "code",
      "source": [
        "#@title\n",
        "t0=time()\n",
        "clf = KNeighborsClassifier(5)\n",
        "KNN = clf.fit(X_train, Y_train)\n",
        "print('K- Nearest Neighbour  - accuracy: {:.2f}, f1 score: {:.2f}, total_time: {:.2f} sec'.format(accuracy_score(Y_test, KNN.predict(X_test)),f1_score(Y_test,KNN.predict(X_test),average ='macro'), time()-t0))"
      ],
      "metadata": {
        "colab": {
          "base_uri": "https://localhost:8080/"
        },
        "cellView": "form",
        "id": "8nE_a09xQ-6B",
        "outputId": "45b7fa8c-67c5-4972-96a2-92fa4943fa38"
      },
      "execution_count": null,
      "outputs": [
        {
          "output_type": "stream",
          "name": "stdout",
          "text": [
            "K- Nearest Neighbour  - accuracy: 0.97, f1 score: 0.97, total_time: 390.19 sec\n"
          ]
        }
      ]
    },
    {
      "cell_type": "markdown",
      "source": [
        "Show results of model performance by gender identification"
      ],
      "metadata": {
        "id": "vY-5cyWDD_AP"
      }
    },
    {
      "cell_type": "markdown",
      "source": [
        "###**Weight**"
      ],
      "metadata": {
        "id": "WgX1dYtfFcSy"
      }
    },
    {
      "cell_type": "markdown",
      "source": [
        "Mapping - above the average weight 72.125kg are labeled as 1; 0 for below average."
      ],
      "metadata": {
        "id": "INSM8UeeTsX_"
      }
    },
    {
      "cell_type": "code",
      "source": [
        "#@title\n",
        "mapping = {\n",
        "    '1': 1,\n",
        "    '2': 0,\n",
        "    '3': 0,\n",
        "    '4': 1,\n",
        "    '5': 0,\n",
        "    '6':1,\n",
        "    '7':0,\n",
        "    '8':0,\n",
        "    '9':1,\n",
        "    '10':0,\n",
        "    '11':0,\n",
        "    '12':0,\n",
        "    '13':0,\n",
        "    '14':0,\n",
        "    '15':0,\n",
        "    '16':1,\n",
        "    '17':1,\n",
        "    '18':0,\n",
        "    '19':1,\n",
        "    '20':1,\n",
        "    '21':0,\n",
        "    '22':1,\n",
        "    '23':0,\n",
        "    '24':1\n",
        "\n",
        "}"
      ],
      "metadata": {
        "id": "-iLH9iNpTpR1",
        "cellView": "form"
      },
      "execution_count": null,
      "outputs": []
    },
    {
      "cell_type": "code",
      "source": [
        "#@title\n",
        "# Create weight labels\n",
        "Y3 = [mapping[i] for i in Move['Sub_Num']]"
      ],
      "metadata": {
        "id": "HlxEUov-T0Ud",
        "cellView": "form"
      },
      "execution_count": null,
      "outputs": []
    },
    {
      "cell_type": "markdown",
      "source": [
        "Split training and test data, scale data"
      ],
      "metadata": {
        "id": "iDeZ9YO1lfDF"
      }
    },
    {
      "cell_type": "code",
      "source": [
        "#@title\n",
        "X_train, X_test, Y_train, Y_test = train_test_split(X, Y3, test_size=0.3, random_state=0)\n",
        "\n",
        "scaler = StandardScaler()\n",
        "scaler.fit(X_train)\n",
        "# Apply transform to both the training set and the test set.\n",
        "X_train = scaler.transform(X_train)\n",
        "X_test = scaler.transform(X_test)"
      ],
      "metadata": {
        "cellView": "form",
        "id": "MYr3CiA9eWud"
      },
      "execution_count": null,
      "outputs": []
    },
    {
      "cell_type": "markdown",
      "source": [
        "Evaluate model performance"
      ],
      "metadata": {
        "id": "uLRoDHfASD2D"
      }
    },
    {
      "cell_type": "code",
      "source": [
        "#@title\n",
        "t0=time()\n",
        "LR_L1 = LogisticRegression(C=10, penalty='l2').fit(X_train, Y_train)\n",
        "print('Logistic_regression (L1) - accuracy: {:.2f}, f1 score: {:.2f}, total_time: {:.2f} sec'.format(accuracy_score(Y_test, LR_L1.predict(X_test)),f1_score(Y_test,LR_L1.predict(X_test),average ='macro'), time()-t0))"
      ],
      "metadata": {
        "colab": {
          "base_uri": "https://localhost:8080/"
        },
        "cellView": "form",
        "id": "-hdwnFrpeWjN",
        "outputId": "742e1097-9c27-474d-c770-19db7d4e2997"
      },
      "execution_count": null,
      "outputs": [
        {
          "output_type": "stream",
          "name": "stdout",
          "text": [
            "Logistic_regression (L1) - accuracy: 0.60, f1 score: 0.51, total_time: 2.40 sec\n"
          ]
        }
      ]
    },
    {
      "cell_type": "code",
      "source": [
        "#@title\n",
        "t0=time()\n",
        "LR_L2 = LogisticRegression(C=100, penalty='l2').fit(X_train, Y_train)\n",
        "print('Logistic_regression (L2) - accuracy: {:.2f}, f1 score: {:.2f}, total_time: {:.2f} sec'.format(accuracy_score(Y_test, LR_L2.predict(X_test)),f1_score(Y_test,LR_L1.predict(X_test),average ='macro'), time()-t0))"
      ],
      "metadata": {
        "colab": {
          "base_uri": "https://localhost:8080/"
        },
        "cellView": "form",
        "id": "lwPIAOR-eWbB",
        "outputId": "100ce2fc-2f03-4362-8303-49da20fe2755"
      },
      "execution_count": null,
      "outputs": [
        {
          "output_type": "stream",
          "name": "stdout",
          "text": [
            "Logistic_regression (L2) - accuracy: 0.60, f1 score: 0.51, total_time: 2.39 sec\n"
          ]
        }
      ]
    },
    {
      "cell_type": "code",
      "source": [
        "#@title\n",
        "t0=time()\n",
        "DT = DecisionTreeClassifier(criterion='entropy').fit(X_train, Y_train)\n",
        "print('Decision Tree - accuracy: {:.2f}, f1 score: {:.2f}, total_time: {:.2f} sec'.format(accuracy_score(Y_test, DT.predict(X_test)),f1_score(Y_test,DT.predict(X_test),average ='macro'), time()-t0))"
      ],
      "metadata": {
        "colab": {
          "base_uri": "https://localhost:8080/"
        },
        "cellView": "form",
        "id": "fR7y3iKeeWR2",
        "outputId": "42520d1a-56fd-4910-f721-a2f6e5b86b14"
      },
      "execution_count": null,
      "outputs": [
        {
          "output_type": "stream",
          "name": "stdout",
          "text": [
            "Decision Tree - accuracy: 0.91, f1 score: 0.91, total_time: 37.74 sec\n"
          ]
        }
      ]
    },
    {
      "cell_type": "code",
      "source": [
        "#@title\n",
        "t0=time()\n",
        "clf = KNeighborsClassifier(5)\n",
        "KNN = clf.fit(X_train, Y_train)\n",
        "print('K- Nearest Neighbour  - accuracy: {:.2f}, f1 score: {:.2f}, total_time: {:.2f} sec'.format(accuracy_score(Y_test, KNN.predict(X_test)),f1_score(Y_test,KNN.predict(X_test),average ='macro'), time()-t0))"
      ],
      "metadata": {
        "colab": {
          "base_uri": "https://localhost:8080/"
        },
        "cellView": "form",
        "id": "5PIJlwcNeWFV",
        "outputId": "bb063399-465d-45b4-c235-0b57b44fe7fc"
      },
      "execution_count": null,
      "outputs": [
        {
          "output_type": "stream",
          "name": "stdout",
          "text": [
            "K- Nearest Neighbour  - accuracy: 0.96, f1 score: 0.96, total_time: 360.62 sec\n"
          ]
        }
      ]
    },
    {
      "cell_type": "markdown",
      "source": [
        "###**Age**"
      ],
      "metadata": {
        "id": "g8v_JLjvF8w6"
      }
    },
    {
      "cell_type": "markdown",
      "source": [
        "Mapping - subjects above the average age of 28.79 are labeled as 1; 0 for below average"
      ],
      "metadata": {
        "id": "Lo1khGeGE7VP"
      }
    },
    {
      "cell_type": "code",
      "source": [
        "#@title\n",
        "mapping = {\n",
        "    '1': 1,\n",
        "    '2': 0,\n",
        "    '3': 0,\n",
        "    '4': 1,\n",
        "    '5': 0,\n",
        "    '6':0,\n",
        "    '7':1,\n",
        "    '8':0,\n",
        "    '9':1,\n",
        "    '10':1,\n",
        "    '11':0,\n",
        "    '12':1,\n",
        "    '13':1,\n",
        "    '14':1,\n",
        "    '15':1,\n",
        "    '16':1,\n",
        "    '17':0,\n",
        "    '18':0,\n",
        "    '19':0,\n",
        "    '20':0,\n",
        "    '21':0,\n",
        "    '22':1,\n",
        "    '23':0,\n",
        "    '24':0\n",
        "\n",
        "}\n"
      ],
      "metadata": {
        "id": "yy7nVcxTE6rL",
        "cellView": "form"
      },
      "execution_count": null,
      "outputs": []
    },
    {
      "cell_type": "code",
      "source": [
        "#@title\n",
        "# Create age labels\n",
        "Y4 = [mapping[i] for i in Move['Sub_Num']]"
      ],
      "metadata": {
        "id": "KqCFzSxNFFX6",
        "cellView": "form"
      },
      "execution_count": null,
      "outputs": []
    },
    {
      "cell_type": "markdown",
      "source": [
        "Split data into training and test, then scale"
      ],
      "metadata": {
        "id": "YZ_kBQ1vGLz9"
      }
    },
    {
      "cell_type": "code",
      "source": [
        "#@title\n",
        "X_train, X_test, Y_train, Y_test = train_test_split(X, Y4, test_size=0.3, random_state=0)\n",
        "\n",
        "scaler = StandardScaler()\n",
        "scaler.fit(X_train)\n",
        "# Apply transform to both the training set and the test set.\n",
        "X_train = scaler.transform(X_train)\n",
        "X_test = scaler.transform(X_test)"
      ],
      "metadata": {
        "id": "P4XX_Gd4T6VG",
        "cellView": "form"
      },
      "execution_count": null,
      "outputs": []
    },
    {
      "cell_type": "markdown",
      "source": [
        "Evaluate models"
      ],
      "metadata": {
        "id": "RUhIE4D6ltNE"
      }
    },
    {
      "cell_type": "code",
      "source": [
        "#@title\n",
        "t0=time()\n",
        "LR_L1 = LogisticRegression(C=10, penalty='l2').fit(X_train, Y_train)\n",
        "print('Logistic_regression (L1) - accuracy: {:.2f}, f1 score: {:.2f}, total_time: {:.2f} sec'.format(accuracy_score(Y_test, LR_L1.predict(X_test)),f1_score(Y_test,LR_L1.predict(X_test),average ='macro'), time()-t0))"
      ],
      "metadata": {
        "colab": {
          "base_uri": "https://localhost:8080/"
        },
        "cellView": "form",
        "id": "myhGOklQe_q8",
        "outputId": "b825f26e-1558-4b4f-b228-a7d2039c13f2"
      },
      "execution_count": null,
      "outputs": [
        {
          "output_type": "stream",
          "name": "stdout",
          "text": [
            "Logistic_regression (L1) - accuracy: 0.61, f1 score: 0.57, total_time: 2.44 sec\n"
          ]
        }
      ]
    },
    {
      "cell_type": "code",
      "source": [
        "#@title\n",
        "t0=time()\n",
        "LR_L2 = LogisticRegression(C=100, penalty='l2').fit(X_train, Y_train)\n",
        "print('Logistic_regression (L2) - accuracy: {:.2f}, f1 score: {:.2f}, total_time: {:.2f} sec'.format(accuracy_score(Y_test, LR_L2.predict(X_test)),f1_score(Y_test,LR_L1.predict(X_test),average ='macro'), time()-t0))"
      ],
      "metadata": {
        "colab": {
          "base_uri": "https://localhost:8080/"
        },
        "cellView": "form",
        "id": "6a-SAnzie_hk",
        "outputId": "1c63cac8-20cb-4aff-c909-95489b8c53b3"
      },
      "execution_count": null,
      "outputs": [
        {
          "output_type": "stream",
          "name": "stdout",
          "text": [
            "Logistic_regression (L2) - accuracy: 0.61, f1 score: 0.57, total_time: 2.43 sec\n"
          ]
        }
      ]
    },
    {
      "cell_type": "code",
      "source": [
        "#@title\n",
        "t0=time()\n",
        "DT = DecisionTreeClassifier(criterion='entropy').fit(X_train, Y_train)\n",
        "print('Decision Tree - accuracy: {:.2f}, f1 score: {:.2f}, total_time: {:.2f} sec'.format(accuracy_score(Y_test, DT.predict(X_test)),f1_score(Y_test,DT.predict(X_test),average ='macro'), time()-t0))"
      ],
      "metadata": {
        "colab": {
          "base_uri": "https://localhost:8080/"
        },
        "cellView": "form",
        "id": "nB1Jnmwue_X1",
        "outputId": "c0bd919d-fb57-4330-9928-6bc89acae416"
      },
      "execution_count": null,
      "outputs": [
        {
          "output_type": "stream",
          "name": "stdout",
          "text": [
            "Decision Tree - accuracy: 0.90, f1 score: 0.90, total_time: 41.08 sec\n"
          ]
        }
      ]
    },
    {
      "cell_type": "code",
      "source": [
        "#@title\n",
        "t0=time()\n",
        "clf = KNeighborsClassifier(5)\n",
        "KNN = clf.fit(X_train, Y_train)\n",
        "print('K- Nearest Neighbour  - accuracy: {:.2f}, f1 score: {:.2f}, total_time: {:.2f} sec'.format(accuracy_score(Y_test, KNN.predict(X_test)),f1_score(Y_test,KNN.predict(X_test),average ='macro'), time()-t0))"
      ],
      "metadata": {
        "colab": {
          "base_uri": "https://localhost:8080/"
        },
        "cellView": "form",
        "id": "kd-uhtKee9mH",
        "outputId": "93ff2609-4fac-4c41-a01b-21967dd952f5"
      },
      "execution_count": null,
      "outputs": [
        {
          "output_type": "stream",
          "name": "stdout",
          "text": [
            "K- Nearest Neighbour  - accuracy: 0.96, f1 score: 0.96, total_time: 367.95 sec\n"
          ]
        }
      ]
    },
    {
      "cell_type": "markdown",
      "source": [
        "###**Height**"
      ],
      "metadata": {
        "id": "bziYShRuGRcw"
      }
    },
    {
      "cell_type": "markdown",
      "source": [
        "Mapping - the trail participants with above average height of 174.2cm are labeled as 1; 0 for below average"
      ],
      "metadata": {
        "id": "PqHhNTzPFVEo"
      }
    },
    {
      "cell_type": "code",
      "source": [
        "#@title\n",
        "mapping = {\n",
        "    '1': 1,\n",
        "    '2': 1,\n",
        "    '3': 0,\n",
        "    '4': 1,\n",
        "    '5': 0,\n",
        "    '6':1,\n",
        "    '7':1,\n",
        "    '8':0,\n",
        "    '9':1,\n",
        "    '10':0,\n",
        "    '11':1,\n",
        "    '12':0,\n",
        "    '13':1,\n",
        "    '14':1,\n",
        "    '15':1,\n",
        "    '16':0,\n",
        "    '17':1,\n",
        "    '18':0,\n",
        "    '19':0,\n",
        "    '20':1,\n",
        "    '21':0,\n",
        "    '22':1,\n",
        "    '23':0,\n",
        "    '24':0\n",
        "\n",
        "}\n"
      ],
      "metadata": {
        "id": "2SFWtYtJGQUP",
        "cellView": "form"
      },
      "execution_count": null,
      "outputs": []
    },
    {
      "cell_type": "code",
      "source": [
        "#@title\n",
        "# Create age labels\n",
        "Y5 = [mapping[i] for i in Move['Sub_Num']]"
      ],
      "metadata": {
        "id": "x2gmrR3eGSLk",
        "cellView": "form"
      },
      "execution_count": null,
      "outputs": []
    },
    {
      "cell_type": "markdown",
      "source": [
        "Split training and test data, then scale data"
      ],
      "metadata": {
        "id": "Z3vbCPUuG6DV"
      }
    },
    {
      "cell_type": "code",
      "source": [
        "#@title\n",
        "X_train, X_test, Y_train, Y_test = train_test_split(X, Y5, test_size=0.3, random_state=0)"
      ],
      "metadata": {
        "id": "gbvKbvgjG_kE",
        "cellView": "form"
      },
      "execution_count": null,
      "outputs": []
    },
    {
      "cell_type": "markdown",
      "source": [
        "Evaluate model performance"
      ],
      "metadata": {
        "id": "cHOX8VwQG81P"
      }
    },
    {
      "cell_type": "code",
      "source": [
        "#@title\n",
        "t0=time()\n",
        "LR_L1 = LogisticRegression(C=10, penalty='l2').fit(X_train, Y_train)\n",
        "print('Logistic_regression (L1) - accuracy: {:.2f}, f1 score: {:.2f}, total_time: {:.2f} sec'.format(accuracy_score(Y_test, LR_L1.predict(X_test)),f1_score(Y_test,LR_L1.predict(X_test),average ='macro'), time()-t0))"
      ],
      "metadata": {
        "colab": {
          "base_uri": "https://localhost:8080/"
        },
        "cellView": "form",
        "id": "tyRxuGy8hFp9",
        "outputId": "905314b0-1ec2-4ab2-e741-b6332b8cadd9"
      },
      "execution_count": null,
      "outputs": [
        {
          "output_type": "stream",
          "name": "stdout",
          "text": [
            "Logistic_regression (L1) - accuracy: 0.57, f1 score: 0.56, total_time: 6.33 sec\n"
          ]
        }
      ]
    },
    {
      "cell_type": "code",
      "source": [
        "#@title\n",
        "t0=time()\n",
        "LR_L2 = LogisticRegression(C=100, penalty='l2').fit(X_train, Y_train)\n",
        "print('Logistic_regression (L2) - accuracy: {:.2f}, f1 score: {:.2f}, total_time: {:.2f} sec'.format(accuracy_score(Y_test, LR_L2.predict(X_test)),f1_score(Y_test,LR_L1.predict(X_test),average ='macro'), time()-t0))"
      ],
      "metadata": {
        "colab": {
          "base_uri": "https://localhost:8080/"
        },
        "cellView": "form",
        "id": "tNZLTXTJhFcV",
        "outputId": "6ffb9796-9811-44cb-c913-038ee9da7129"
      },
      "execution_count": null,
      "outputs": [
        {
          "output_type": "stream",
          "name": "stdout",
          "text": [
            "Logistic_regression (L2) - accuracy: 0.57, f1 score: 0.56, total_time: 6.40 sec\n"
          ]
        }
      ]
    },
    {
      "cell_type": "code",
      "source": [
        "#@title\n",
        "t0=time()\n",
        "DT = DecisionTreeClassifier(criterion='entropy').fit(X_train, Y_train)\n",
        "print('Decision Tree - accuracy: {:.2f}, f1 score: {:.2f}, total_time: {:.2f} sec'.format(accuracy_score(Y_test, DT.predict(X_test)),f1_score(Y_test,DT.predict(X_test),average ='macro'), time()-t0))"
      ],
      "metadata": {
        "colab": {
          "base_uri": "https://localhost:8080/"
        },
        "cellView": "form",
        "id": "kKpRQzcHhD1Q",
        "outputId": "0550d190-8bf3-462f-c91d-e18f7b8567bc"
      },
      "execution_count": null,
      "outputs": [
        {
          "output_type": "stream",
          "name": "stdout",
          "text": [
            "Decision Tree - accuracy: 0.91, f1 score: 0.91, total_time: 38.38 sec\n"
          ]
        }
      ]
    },
    {
      "cell_type": "code",
      "source": [
        "#@title\n",
        "t0=time()\n",
        "clf = KNeighborsClassifier(5)\n",
        "KNN = clf.fit(X_train, Y_train)\n",
        "print('K- Nearest Neighbour  - accuracy: {:.2f}, f1 score: {:.2f}, total_time: {:.2f} sec'.format(accuracy_score(Y_test, KNN.predict(X_test)),f1_score(Y_test,KNN.predict(X_test),average ='macro'), time()-t0))"
      ],
      "metadata": {
        "colab": {
          "base_uri": "https://localhost:8080/"
        },
        "cellView": "form",
        "id": "ySYpHgJphOtD",
        "outputId": "9c98863f-b77f-4b27-db1b-71cd1cfa4190"
      },
      "execution_count": null,
      "outputs": [
        {
          "output_type": "stream",
          "name": "stdout",
          "text": [
            "K- Nearest Neighbour  - accuracy: 0.95, f1 score: 0.95, total_time: 158.77 sec\n"
          ]
        }
      ]
    },
    {
      "cell_type": "markdown",
      "source": [
        "##**Summary**"
      ],
      "metadata": {
        "id": "dpcNCCdWMU8l"
      }
    },
    {
      "cell_type": "markdown",
      "source": [
        "Performance of the models varied significantly with the K- Nearest Neighbour Classification Model having the highest accuracy for each variable. Time to compute also varied vastly, with the Logistic Regression Models completing fastest but having lowest accuracy. Models ranged in accuracy of predicting gender 60% to 97%, height 57% to 195%, age 61% to 96% and weight from 60% to 96% accuracy. "
      ],
      "metadata": {
        "id": "ytaFv4YyMY_6"
      }
    }
  ]
}
